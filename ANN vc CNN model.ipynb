{
 "cells": [
  {
   "cell_type": "markdown",
   "metadata": {},
   "source": [
    "### Download & Import required pacages"
   ]
  },
  {
   "cell_type": "code",
   "execution_count": null,
   "metadata": {},
   "outputs": [],
   "source": [
    "!pip install -q --upgrade pip\n",
    "!pip install -q matplotlib\n",
    "!pip install -q pandas\n",
    "!pip install -q numpy\n",
    "!pip install -q os\n",
    "!pip install -q tensorflow\n",
    "!pip install -q keras"
   ]
  },
  {
   "cell_type": "code",
   "execution_count": 1,
   "metadata": {},
   "outputs": [],
   "source": [
    "import numpy as np\n",
    "import tensorflow as tf\n",
    "from tensorflow.keras.models import Sequential\n",
    "from tensorflow.keras.layers import Conv2D, MaxPooling2D, Dropout, Dense, Flatten, AveragePooling2D\n",
    "from tensorflow.keras.utils import to_categorical\n",
    "from tensorflow.keras.preprocessing.image import ImageDataGenerator\n",
    "from tensorflow.keras.datasets import fashion_mnist\n",
    "import pandas as pd\n",
    "import os\n",
    "import matplotlib.pyplot as plt"
   ]
  },
  {
   "cell_type": "markdown",
   "metadata": {},
   "source": [
    "# Load data"
   ]
  },
  {
   "cell_type": "code",
   "execution_count": 2,
   "metadata": {},
   "outputs": [],
   "source": [
    "(train_images, train_labels), (test_images, test_labels) = fashion_mnist.load_data()"
   ]
  },
  {
   "cell_type": "markdown",
   "metadata": {},
   "source": [
    "# Prep data"
   ]
  },
  {
   "cell_type": "markdown",
   "metadata": {},
   "source": [
    "### For ANN Model"
   ]
  },
  {
   "cell_type": "code",
   "execution_count": 3,
   "metadata": {},
   "outputs": [],
   "source": [
    "train_images, test_images = train_images / 255.0, test_images / 255.0\n",
    "\n",
    "train_images_cnn = train_images.reshape((train_images.shape[0], 28, 28, 1))\n",
    "test_images_cnn = test_images.reshape((test_images.shape[0], 28, 28, 1))"
   ]
  },
  {
   "cell_type": "markdown",
   "metadata": {},
   "source": [
    "### For CNN Model"
   ]
  },
  {
   "cell_type": "code",
   "execution_count": 3,
   "metadata": {},
   "outputs": [],
   "source": [
    "img_rows, img_cols = 28, 28\n",
    "num_classes =10\n",
    "\n",
    "def data_prep(raw):\n",
    "\n",
    "    num_images = raw.shape[0]\n",
    "    x_shaped_array = raw.reshape(num_images, img_rows, img_cols, 1)\n",
    "    # normalization\n",
    "    out_x = x_shaped_array / 255\n",
    "    return out_x"
   ]
  },
  {
   "cell_type": "code",
   "execution_count": 4,
   "metadata": {},
   "outputs": [],
   "source": [
    "train_images = data_prep(train_images)\n",
    "test_images = data_prep(test_images)"
   ]
  },
  {
   "cell_type": "code",
   "execution_count": 22,
   "metadata": {},
   "outputs": [
    {
     "data": {
      "text/plain": [
       "(10000, 28, 28, 1)"
      ]
     },
     "execution_count": 22,
     "metadata": {},
     "output_type": "execute_result"
    }
   ],
   "source": [
    "test_images.shape"
   ]
  },
  {
   "cell_type": "code",
   "execution_count": 100,
   "metadata": {},
   "outputs": [
    {
     "data": {
      "text/plain": [
       "2"
      ]
     },
     "execution_count": 100,
     "metadata": {},
     "output_type": "execute_result"
    },
    {
     "data": {
      "image/png": "[encoded data removed]",
      "text/plain": [
       "<Figure size 640x480 with 1 Axes>"
      ]
     },
     "metadata": {},
     "output_type": "display_data"
    }
   ],
   "source": [
    "plt.imshow(train_images[225])\n",
    "train_labels[225] "
   ]
  },
  {
   "cell_type": "markdown",
   "metadata": {},
   "source": [
    "# Final Models"
   ]
  },
  {
   "cell_type": "markdown",
   "metadata": {},
   "source": [
    "## ANN Model"
   ]
  },
  {
   "cell_type": "markdown",
   "metadata": {},
   "source": [
    "### Model architucte"
   ]
  },
  {
   "cell_type": "code",
   "execution_count": 101,
   "metadata": {},
   "outputs": [],
   "source": [
    "input_image = (28, 28)\n",
    "dense_size1 = 128\n",
    "output_layer = 10\n",
    "Batch_siza = 256"
   ]
  },
  {
   "cell_type": "markdown",
   "metadata": {},
   "source": [
    "### Model defenition"
   ]
  },
  {
   "cell_type": "code",
   "execution_count": 102,
   "metadata": {},
   "outputs": [
    {
     "name": "stderr",
     "output_type": "stream",
     "text": [
      "c:\\Users\\ASUS\\AppData\\Local\\Programs\\Python\\Python312\\Lib\\site-packages\\keras\\src\\layers\\reshaping\\flatten.py:37: UserWarning: Do not pass an `input_shape`/`input_dim` argument to a layer. When using Sequential models, prefer using an `Input(shape)` object as the first layer in the model instead.\n",
      "  super().__init__(**kwargs)\n"
     ]
    }
   ],
   "source": [
    "model = Sequential([\n",
    "    Flatten(input_shape = input_image),\n",
    "    Dense(dense_size1, activation='relu'),\n",
    "    Dense(output_layer, activation='softmax')\n",
    "])"
   ]
  },
  {
   "cell_type": "code",
   "execution_count": 103,
   "metadata": {},
   "outputs": [],
   "source": [
    "model.compile(optimizer='adam',\n",
    "              loss='sparse_categorical_crossentropy',\n",
    "              metrics=['accuracy'])\n"
   ]
  },
  {
   "cell_type": "code",
   "execution_count": 104,
   "metadata": {},
   "outputs": [
    {
     "data": {
      "text/html": [
       "<pre style=\"white-space:pre;overflow-x:auto;line-height:normal;font-family:Menlo,'DejaVu Sans Mono',consolas,'Courier New',monospace\"><span style=\"font-weight: bold\">Model: \"sequential_6\"</span>\n",
       "</pre>\n"
      ],
      "text/plain": [
       "\u001b[1mModel: \"sequential_6\"\u001b[0m\n"
      ]
     },
     "metadata": {},
     "output_type": "display_data"
    },
    {
     "data": {
      "text/html": [
       "<pre style=\"white-space:pre;overflow-x:auto;line-height:normal;font-family:Menlo,'DejaVu Sans Mono',consolas,'Courier New',monospace\">┏━━━━━━━━━━━━━━━━━━━━━━━━━━━━━━━━━┳━━━━━━━━━━━━━━━━━━━━━━━━┳━━━━━━━━━━━━━━━┓\n",
       "┃<span style=\"font-weight: bold\"> Layer (type)                    </span>┃<span style=\"font-weight: bold\"> Output Shape           </span>┃<span style=\"font-weight: bold\">       Param # </span>┃\n",
       "┡━━━━━━━━━━━━━━━━━━━━━━━━━━━━━━━━━╇━━━━━━━━━━━━━━━━━━━━━━━━╇━━━━━━━━━━━━━━━┩\n",
       "│ flatten_8 (<span style=\"color: #0087ff; text-decoration-color: #0087ff\">Flatten</span>)             │ (<span style=\"color: #00d7ff; text-decoration-color: #00d7ff\">None</span>, <span style=\"color: #00af00; text-decoration-color: #00af00\">784</span>)            │             <span style=\"color: #00af00; text-decoration-color: #00af00\">0</span> │\n",
       "├─────────────────────────────────┼────────────────────────┼───────────────┤\n",
       "│ dense_12 (<span style=\"color: #0087ff; text-decoration-color: #0087ff\">Dense</span>)                │ (<span style=\"color: #00d7ff; text-decoration-color: #00d7ff\">None</span>, <span style=\"color: #00af00; text-decoration-color: #00af00\">128</span>)            │       <span style=\"color: #00af00; text-decoration-color: #00af00\">100,480</span> │\n",
       "├─────────────────────────────────┼────────────────────────┼───────────────┤\n",
       "│ dense_13 (<span style=\"color: #0087ff; text-decoration-color: #0087ff\">Dense</span>)                │ (<span style=\"color: #00d7ff; text-decoration-color: #00d7ff\">None</span>, <span style=\"color: #00af00; text-decoration-color: #00af00\">10</span>)             │         <span style=\"color: #00af00; text-decoration-color: #00af00\">1,290</span> │\n",
       "└─────────────────────────────────┴────────────────────────┴───────────────┘\n",
       "</pre>\n"
      ],
      "text/plain": [
       "┏━━━━━━━━━━━━━━━━━━━━━━━━━━━━━━━━━┳━━━━━━━━━━━━━━━━━━━━━━━━┳━━━━━━━━━━━━━━━┓\n",
       "┃\u001b[1m \u001b[0m\u001b[1mLayer (type)                   \u001b[0m\u001b[1m \u001b[0m┃\u001b[1m \u001b[0m\u001b[1mOutput Shape          \u001b[0m\u001b[1m \u001b[0m┃\u001b[1m \u001b[0m\u001b[1m      Param #\u001b[0m\u001b[1m \u001b[0m┃\n",
       "┡━━━━━━━━━━━━━━━━━━━━━━━━━━━━━━━━━╇━━━━━━━━━━━━━━━━━━━━━━━━╇━━━━━━━━━━━━━━━┩\n",
       "│ flatten_8 (\u001b[38;5;33mFlatten\u001b[0m)             │ (\u001b[38;5;45mNone\u001b[0m, \u001b[38;5;34m784\u001b[0m)            │             \u001b[38;5;34m0\u001b[0m │\n",
       "├─────────────────────────────────┼────────────────────────┼───────────────┤\n",
       "│ dense_12 (\u001b[38;5;33mDense\u001b[0m)                │ (\u001b[38;5;45mNone\u001b[0m, \u001b[38;5;34m128\u001b[0m)            │       \u001b[38;5;34m100,480\u001b[0m │\n",
       "├─────────────────────────────────┼────────────────────────┼───────────────┤\n",
       "│ dense_13 (\u001b[38;5;33mDense\u001b[0m)                │ (\u001b[38;5;45mNone\u001b[0m, \u001b[38;5;34m10\u001b[0m)             │         \u001b[38;5;34m1,290\u001b[0m │\n",
       "└─────────────────────────────────┴────────────────────────┴───────────────┘\n"
      ]
     },
     "metadata": {},
     "output_type": "display_data"
    },
    {
     "data": {
      "text/html": [
       "<pre style=\"white-space:pre;overflow-x:auto;line-height:normal;font-family:Menlo,'DejaVu Sans Mono',consolas,'Courier New',monospace\"><span style=\"font-weight: bold\"> Total params: </span><span style=\"color: #00af00; text-decoration-color: #00af00\">101,770</span> (397.54 KB)\n",
       "</pre>\n"
      ],
      "text/plain": [
       "\u001b[1m Total params: \u001b[0m\u001b[38;5;34m101,770\u001b[0m (397.54 KB)\n"
      ]
     },
     "metadata": {},
     "output_type": "display_data"
    },
    {
     "data": {
      "text/html": [
       "<pre style=\"white-space:pre;overflow-x:auto;line-height:normal;font-family:Menlo,'DejaVu Sans Mono',consolas,'Courier New',monospace\"><span style=\"font-weight: bold\"> Trainable params: </span><span style=\"color: #00af00; text-decoration-color: #00af00\">101,770</span> (397.54 KB)\n",
       "</pre>\n"
      ],
      "text/plain": [
       "\u001b[1m Trainable params: \u001b[0m\u001b[38;5;34m101,770\u001b[0m (397.54 KB)\n"
      ]
     },
     "metadata": {},
     "output_type": "display_data"
    },
    {
     "data": {
      "text/html": [
       "<pre style=\"white-space:pre;overflow-x:auto;line-height:normal;font-family:Menlo,'DejaVu Sans Mono',consolas,'Courier New',monospace\"><span style=\"font-weight: bold\"> Non-trainable params: </span><span style=\"color: #00af00; text-decoration-color: #00af00\">0</span> (0.00 B)\n",
       "</pre>\n"
      ],
      "text/plain": [
       "\u001b[1m Non-trainable params: \u001b[0m\u001b[38;5;34m0\u001b[0m (0.00 B)\n"
      ]
     },
     "metadata": {},
     "output_type": "display_data"
    }
   ],
   "source": [
    "model.summary()"
   ]
  },
  {
   "cell_type": "markdown",
   "metadata": {},
   "source": [
    "### Model training"
   ]
  },
  {
   "cell_type": "code",
   "execution_count": 111,
   "metadata": {},
   "outputs": [
    {
     "name": "stdout",
     "output_type": "stream",
     "text": [
      "Epoch 1/20\n",
      "\u001b[1m1875/1875\u001b[0m \u001b[32m━━━━━━━━━━━━━━━━━━━━\u001b[0m\u001b[37m\u001b[0m \u001b[1m2s\u001b[0m 845us/step - accuracy: 0.7881 - loss: 0.6185 - val_accuracy: 0.8372 - val_loss: 0.4617\n",
      "Epoch 2/20\n",
      "\u001b[1m1875/1875\u001b[0m \u001b[32m━━━━━━━━━━━━━━━━━━━━\u001b[0m\u001b[37m\u001b[0m \u001b[1m2s\u001b[0m 805us/step - accuracy: 0.8617 - loss: 0.3844 - val_accuracy: 0.8669 - val_loss: 0.3693\n",
      "Epoch 3/20\n",
      "\u001b[1m1875/1875\u001b[0m \u001b[32m━━━━━━━━━━━━━━━━━━━━\u001b[0m\u001b[37m\u001b[0m \u001b[1m2s\u001b[0m 814us/step - accuracy: 0.8777 - loss: 0.3312 - val_accuracy: 0.8684 - val_loss: 0.3670\n",
      "Epoch 4/20\n",
      "\u001b[1m1875/1875\u001b[0m \u001b[32m━━━━━━━━━━━━━━━━━━━━\u001b[0m\u001b[37m\u001b[0m \u001b[1m2s\u001b[0m 800us/step - accuracy: 0.8882 - loss: 0.3129 - val_accuracy: 0.8704 - val_loss: 0.3554\n",
      "Epoch 5/20\n",
      "\u001b[1m1875/1875\u001b[0m \u001b[32m━━━━━━━━━━━━━━━━━━━━\u001b[0m\u001b[37m\u001b[0m \u001b[1m2s\u001b[0m 813us/step - accuracy: 0.8922 - loss: 0.2975 - val_accuracy: 0.8701 - val_loss: 0.3501\n",
      "Epoch 6/20\n",
      "\u001b[1m1875/1875\u001b[0m \u001b[32m━━━━━━━━━━━━━━━━━━━━\u001b[0m\u001b[37m\u001b[0m \u001b[1m2s\u001b[0m 828us/step - accuracy: 0.8975 - loss: 0.2766 - val_accuracy: 0.8760 - val_loss: 0.3511\n",
      "Epoch 7/20\n",
      "\u001b[1m1875/1875\u001b[0m \u001b[32m━━━━━━━━━━━━━━━━━━━━\u001b[0m\u001b[37m\u001b[0m \u001b[1m2s\u001b[0m 802us/step - accuracy: 0.9003 - loss: 0.2621 - val_accuracy: 0.8801 - val_loss: 0.3399\n",
      "Epoch 8/20\n",
      "\u001b[1m1875/1875\u001b[0m \u001b[32m━━━━━━━━━━━━━━━━━━━━\u001b[0m\u001b[37m\u001b[0m \u001b[1m2s\u001b[0m 796us/step - accuracy: 0.9061 - loss: 0.2518 - val_accuracy: 0.8818 - val_loss: 0.3389\n",
      "Epoch 9/20\n",
      "\u001b[1m1875/1875\u001b[0m \u001b[32m━━━━━━━━━━━━━━━━━━━━\u001b[0m\u001b[37m\u001b[0m \u001b[1m1s\u001b[0m 785us/step - accuracy: 0.9078 - loss: 0.2452 - val_accuracy: 0.8786 - val_loss: 0.3410\n",
      "Epoch 10/20\n",
      "\u001b[1m1875/1875\u001b[0m \u001b[32m━━━━━━━━━━━━━━━━━━━━\u001b[0m\u001b[37m\u001b[0m \u001b[1m1s\u001b[0m 791us/step - accuracy: 0.9112 - loss: 0.2368 - val_accuracy: 0.8847 - val_loss: 0.3350\n",
      "Epoch 11/20\n",
      "\u001b[1m1875/1875\u001b[0m \u001b[32m━━━━━━━━━━━━━━━━━━━━\u001b[0m\u001b[37m\u001b[0m \u001b[1m2s\u001b[0m 801us/step - accuracy: 0.9151 - loss: 0.2253 - val_accuracy: 0.8820 - val_loss: 0.3399\n",
      "Epoch 12/20\n",
      "\u001b[1m1875/1875\u001b[0m \u001b[32m━━━━━━━━━━━━━━━━━━━━\u001b[0m\u001b[37m\u001b[0m \u001b[1m2s\u001b[0m 920us/step - accuracy: 0.9174 - loss: 0.2195 - val_accuracy: 0.8845 - val_loss: 0.3350\n",
      "Epoch 13/20\n",
      "\u001b[1m1875/1875\u001b[0m \u001b[32m━━━━━━━━━━━━━━━━━━━━\u001b[0m\u001b[37m\u001b[0m \u001b[1m2s\u001b[0m 923us/step - accuracy: 0.9232 - loss: 0.2069 - val_accuracy: 0.8786 - val_loss: 0.3719\n",
      "Epoch 14/20\n",
      "\u001b[1m1875/1875\u001b[0m \u001b[32m━━━━━━━━━━━━━━━━━━━━\u001b[0m\u001b[37m\u001b[0m \u001b[1m2s\u001b[0m 905us/step - accuracy: 0.9224 - loss: 0.2037 - val_accuracy: 0.8856 - val_loss: 0.3596\n",
      "Epoch 15/20\n",
      "\u001b[1m1875/1875\u001b[0m \u001b[32m━━━━━━━━━━━━━━━━━━━━\u001b[0m\u001b[37m\u001b[0m \u001b[1m2s\u001b[0m 916us/step - accuracy: 0.9264 - loss: 0.1972 - val_accuracy: 0.8889 - val_loss: 0.3409\n",
      "Epoch 16/20\n",
      "\u001b[1m1875/1875\u001b[0m \u001b[32m━━━━━━━━━━━━━━━━━━━━\u001b[0m\u001b[37m\u001b[0m \u001b[1m2s\u001b[0m 853us/step - accuracy: 0.9290 - loss: 0.1919 - val_accuracy: 0.8917 - val_loss: 0.3383\n",
      "Epoch 17/20\n",
      "\u001b[1m1875/1875\u001b[0m \u001b[32m━━━━━━━━━━━━━━━━━━━━\u001b[0m\u001b[37m\u001b[0m \u001b[1m2s\u001b[0m 897us/step - accuracy: 0.9296 - loss: 0.1853 - val_accuracy: 0.8858 - val_loss: 0.3443\n",
      "Epoch 18/20\n",
      "\u001b[1m1875/1875\u001b[0m \u001b[32m━━━━━━━━━━━━━━━━━━━━\u001b[0m\u001b[37m\u001b[0m \u001b[1m2s\u001b[0m 1ms/step - accuracy: 0.9327 - loss: 0.1821 - val_accuracy: 0.8865 - val_loss: 0.3622\n",
      "Epoch 19/20\n",
      "\u001b[1m1875/1875\u001b[0m \u001b[32m━━━━━━━━━━━━━━━━━━━━\u001b[0m\u001b[37m\u001b[0m \u001b[1m2s\u001b[0m 953us/step - accuracy: 0.9319 - loss: 0.1789 - val_accuracy: 0.8904 - val_loss: 0.3492\n",
      "Epoch 20/20\n",
      "\u001b[1m1875/1875\u001b[0m \u001b[32m━━━━━━━━━━━━━━━━━━━━\u001b[0m\u001b[37m\u001b[0m \u001b[1m2s\u001b[0m 936us/step - accuracy: 0.9353 - loss: 0.1714 - val_accuracy: 0.8867 - val_loss: 0.3571\n"
     ]
    }
   ],
   "source": [
    "h = model.fit(\n",
    "  train_images,\n",
    "  train_labels,\n",
    "  epochs=20,\n",
    "  validation_data = (test_images, test_labels))\n"
   ]
  },
  {
   "cell_type": "markdown",
   "metadata": {},
   "source": [
    "## CNN Model"
   ]
  },
  {
   "cell_type": "markdown",
   "metadata": {},
   "source": [
    "### Model architucte"
   ]
  },
  {
   "cell_type": "code",
   "execution_count": 6,
   "metadata": {},
   "outputs": [],
   "source": [
    "input_image = (28, 28, 1)\n",
    "Batch_siza = 256\n",
    "stride1 = 1\n",
    "stride2 = 1\n",
    "num_filters1 = 64\n",
    "num_filters2 = 32\n",
    "filter_size1 = 5\n",
    "filter_size2 = 3\n",
    "pool_size1 = 2\n",
    "pool_size2 = 2\n",
    "dense_size1 = 256\n",
    "dense_size2 = 10\n",
    "x1 = int(((input_image[0]-filter_size1) + 1)/stride1)\n",
    "y1 = int(((input_image[1]-filter_size1) + 1)/stride1)\n",
    "output_image1 = (x1, y1, 1)\n",
    "x2 = int(((x1-filter_size2) + 1)/stride2)\n",
    "y2 = int(((y1-filter_size2) + 1)/stride2)\n",
    "output_image2 = (x2, y2, 1)\n",
    "\n",
    "# 93 with 15 epoch"
   ]
  },
  {
   "cell_type": "markdown",
   "metadata": {},
   "source": [
    "### Model defenition"
   ]
  },
  {
   "cell_type": "code",
   "execution_count": 17,
   "metadata": {},
   "outputs": [],
   "source": [
    "model = Sequential([\n",
    "  Conv2D(num_filters1, filter_size1, padding=\"same\",kernel_initializer='he_normal', input_shape = input_image, strides= stride1),\n",
    "  MaxPooling2D(pool_size=pool_size1),\n",
    "  Conv2D(num_filters2, filter_size2, padding=\"same\", input_shape = output_image1, strides= stride1),\n",
    "  MaxPooling2D(pool_size = pool_size2),\n",
    "  Dropout(0.2),\n",
    "  Flatten(),\n",
    "  Dense(dense_size1, activation='relu'),\n",
    "  Dense(dense_size2, activation='softmax'),\n",
    "])"
   ]
  },
  {
   "cell_type": "code",
   "execution_count": 18,
   "metadata": {},
   "outputs": [],
   "source": [
    "model.compile(\n",
    "  \n",
    "  'Adam',\n",
    "  loss='categorical_crossentropy',\n",
    "  metrics=['accuracy'],\n",
    ")"
   ]
  },
  {
   "cell_type": "code",
   "execution_count": 10,
   "metadata": {},
   "outputs": [
    {
     "data": {
      "text/html": [
       "<pre style=\"white-space:pre;overflow-x:auto;line-height:normal;font-family:Menlo,'DejaVu Sans Mono',consolas,'Courier New',monospace\"><span style=\"font-weight: bold\">Model: \"sequential\"</span>\n",
       "</pre>\n"
      ],
      "text/plain": [
       "\u001b[1mModel: \"sequential\"\u001b[0m\n"
      ]
     },
     "metadata": {},
     "output_type": "display_data"
    },
    {
     "data": {
      "text/html": [
       "<pre style=\"white-space:pre;overflow-x:auto;line-height:normal;font-family:Menlo,'DejaVu Sans Mono',consolas,'Courier New',monospace\">┏━━━━━━━━━━━━━━━━━━━━━━━━━━━━━━━━━┳━━━━━━━━━━━━━━━━━━━━━━━━┳━━━━━━━━━━━━━━━┓\n",
       "┃<span style=\"font-weight: bold\"> Layer (type)                    </span>┃<span style=\"font-weight: bold\"> Output Shape           </span>┃<span style=\"font-weight: bold\">       Param # </span>┃\n",
       "┡━━━━━━━━━━━━━━━━━━━━━━━━━━━━━━━━━╇━━━━━━━━━━━━━━━━━━━━━━━━╇━━━━━━━━━━━━━━━┩\n",
       "│ conv2d (<span style=\"color: #0087ff; text-decoration-color: #0087ff\">Conv2D</span>)                 │ (<span style=\"color: #00d7ff; text-decoration-color: #00d7ff\">None</span>, <span style=\"color: #00af00; text-decoration-color: #00af00\">28</span>, <span style=\"color: #00af00; text-decoration-color: #00af00\">28</span>, <span style=\"color: #00af00; text-decoration-color: #00af00\">64</span>)     │         <span style=\"color: #00af00; text-decoration-color: #00af00\">1,664</span> │\n",
       "├─────────────────────────────────┼────────────────────────┼───────────────┤\n",
       "│ max_pooling2d (<span style=\"color: #0087ff; text-decoration-color: #0087ff\">MaxPooling2D</span>)    │ (<span style=\"color: #00d7ff; text-decoration-color: #00d7ff\">None</span>, <span style=\"color: #00af00; text-decoration-color: #00af00\">14</span>, <span style=\"color: #00af00; text-decoration-color: #00af00\">14</span>, <span style=\"color: #00af00; text-decoration-color: #00af00\">64</span>)     │             <span style=\"color: #00af00; text-decoration-color: #00af00\">0</span> │\n",
       "├─────────────────────────────────┼────────────────────────┼───────────────┤\n",
       "│ conv2d_1 (<span style=\"color: #0087ff; text-decoration-color: #0087ff\">Conv2D</span>)               │ (<span style=\"color: #00d7ff; text-decoration-color: #00d7ff\">None</span>, <span style=\"color: #00af00; text-decoration-color: #00af00\">14</span>, <span style=\"color: #00af00; text-decoration-color: #00af00\">14</span>, <span style=\"color: #00af00; text-decoration-color: #00af00\">32</span>)     │        <span style=\"color: #00af00; text-decoration-color: #00af00\">18,464</span> │\n",
       "├─────────────────────────────────┼────────────────────────┼───────────────┤\n",
       "│ max_pooling2d_1 (<span style=\"color: #0087ff; text-decoration-color: #0087ff\">MaxPooling2D</span>)  │ (<span style=\"color: #00d7ff; text-decoration-color: #00d7ff\">None</span>, <span style=\"color: #00af00; text-decoration-color: #00af00\">7</span>, <span style=\"color: #00af00; text-decoration-color: #00af00\">7</span>, <span style=\"color: #00af00; text-decoration-color: #00af00\">32</span>)       │             <span style=\"color: #00af00; text-decoration-color: #00af00\">0</span> │\n",
       "├─────────────────────────────────┼────────────────────────┼───────────────┤\n",
       "│ dropout (<span style=\"color: #0087ff; text-decoration-color: #0087ff\">Dropout</span>)               │ (<span style=\"color: #00d7ff; text-decoration-color: #00d7ff\">None</span>, <span style=\"color: #00af00; text-decoration-color: #00af00\">7</span>, <span style=\"color: #00af00; text-decoration-color: #00af00\">7</span>, <span style=\"color: #00af00; text-decoration-color: #00af00\">32</span>)       │             <span style=\"color: #00af00; text-decoration-color: #00af00\">0</span> │\n",
       "├─────────────────────────────────┼────────────────────────┼───────────────┤\n",
       "│ flatten (<span style=\"color: #0087ff; text-decoration-color: #0087ff\">Flatten</span>)               │ (<span style=\"color: #00d7ff; text-decoration-color: #00d7ff\">None</span>, <span style=\"color: #00af00; text-decoration-color: #00af00\">1568</span>)           │             <span style=\"color: #00af00; text-decoration-color: #00af00\">0</span> │\n",
       "├─────────────────────────────────┼────────────────────────┼───────────────┤\n",
       "│ dense (<span style=\"color: #0087ff; text-decoration-color: #0087ff\">Dense</span>)                   │ (<span style=\"color: #00d7ff; text-decoration-color: #00d7ff\">None</span>, <span style=\"color: #00af00; text-decoration-color: #00af00\">256</span>)            │       <span style=\"color: #00af00; text-decoration-color: #00af00\">401,664</span> │\n",
       "├─────────────────────────────────┼────────────────────────┼───────────────┤\n",
       "│ dense_1 (<span style=\"color: #0087ff; text-decoration-color: #0087ff\">Dense</span>)                 │ (<span style=\"color: #00d7ff; text-decoration-color: #00d7ff\">None</span>, <span style=\"color: #00af00; text-decoration-color: #00af00\">10</span>)             │         <span style=\"color: #00af00; text-decoration-color: #00af00\">2,570</span> │\n",
       "└─────────────────────────────────┴────────────────────────┴───────────────┘\n",
       "</pre>\n"
      ],
      "text/plain": [
       "┏━━━━━━━━━━━━━━━━━━━━━━━━━━━━━━━━━┳━━━━━━━━━━━━━━━━━━━━━━━━┳━━━━━━━━━━━━━━━┓\n",
       "┃\u001b[1m \u001b[0m\u001b[1mLayer (type)                   \u001b[0m\u001b[1m \u001b[0m┃\u001b[1m \u001b[0m\u001b[1mOutput Shape          \u001b[0m\u001b[1m \u001b[0m┃\u001b[1m \u001b[0m\u001b[1m      Param #\u001b[0m\u001b[1m \u001b[0m┃\n",
       "┡━━━━━━━━━━━━━━━━━━━━━━━━━━━━━━━━━╇━━━━━━━━━━━━━━━━━━━━━━━━╇━━━━━━━━━━━━━━━┩\n",
       "│ conv2d (\u001b[38;5;33mConv2D\u001b[0m)                 │ (\u001b[38;5;45mNone\u001b[0m, \u001b[38;5;34m28\u001b[0m, \u001b[38;5;34m28\u001b[0m, \u001b[38;5;34m64\u001b[0m)     │         \u001b[38;5;34m1,664\u001b[0m │\n",
       "├─────────────────────────────────┼────────────────────────┼───────────────┤\n",
       "│ max_pooling2d (\u001b[38;5;33mMaxPooling2D\u001b[0m)    │ (\u001b[38;5;45mNone\u001b[0m, \u001b[38;5;34m14\u001b[0m, \u001b[38;5;34m14\u001b[0m, \u001b[38;5;34m64\u001b[0m)     │             \u001b[38;5;34m0\u001b[0m │\n",
       "├─────────────────────────────────┼────────────────────────┼───────────────┤\n",
       "│ conv2d_1 (\u001b[38;5;33mConv2D\u001b[0m)               │ (\u001b[38;5;45mNone\u001b[0m, \u001b[38;5;34m14\u001b[0m, \u001b[38;5;34m14\u001b[0m, \u001b[38;5;34m32\u001b[0m)     │        \u001b[38;5;34m18,464\u001b[0m │\n",
       "├─────────────────────────────────┼────────────────────────┼───────────────┤\n",
       "│ max_pooling2d_1 (\u001b[38;5;33mMaxPooling2D\u001b[0m)  │ (\u001b[38;5;45mNone\u001b[0m, \u001b[38;5;34m7\u001b[0m, \u001b[38;5;34m7\u001b[0m, \u001b[38;5;34m32\u001b[0m)       │             \u001b[38;5;34m0\u001b[0m │\n",
       "├─────────────────────────────────┼────────────────────────┼───────────────┤\n",
       "│ dropout (\u001b[38;5;33mDropout\u001b[0m)               │ (\u001b[38;5;45mNone\u001b[0m, \u001b[38;5;34m7\u001b[0m, \u001b[38;5;34m7\u001b[0m, \u001b[38;5;34m32\u001b[0m)       │             \u001b[38;5;34m0\u001b[0m │\n",
       "├─────────────────────────────────┼────────────────────────┼───────────────┤\n",
       "│ flatten (\u001b[38;5;33mFlatten\u001b[0m)               │ (\u001b[38;5;45mNone\u001b[0m, \u001b[38;5;34m1568\u001b[0m)           │             \u001b[38;5;34m0\u001b[0m │\n",
       "├─────────────────────────────────┼────────────────────────┼───────────────┤\n",
       "│ dense (\u001b[38;5;33mDense\u001b[0m)                   │ (\u001b[38;5;45mNone\u001b[0m, \u001b[38;5;34m256\u001b[0m)            │       \u001b[38;5;34m401,664\u001b[0m │\n",
       "├─────────────────────────────────┼────────────────────────┼───────────────┤\n",
       "│ dense_1 (\u001b[38;5;33mDense\u001b[0m)                 │ (\u001b[38;5;45mNone\u001b[0m, \u001b[38;5;34m10\u001b[0m)             │         \u001b[38;5;34m2,570\u001b[0m │\n",
       "└─────────────────────────────────┴────────────────────────┴───────────────┘\n"
      ]
     },
     "metadata": {},
     "output_type": "display_data"
    },
    {
     "data": {
      "text/html": [
       "<pre style=\"white-space:pre;overflow-x:auto;line-height:normal;font-family:Menlo,'DejaVu Sans Mono',consolas,'Courier New',monospace\"><span style=\"font-weight: bold\"> Total params: </span><span style=\"color: #00af00; text-decoration-color: #00af00\">424,362</span> (1.62 MB)\n",
       "</pre>\n"
      ],
      "text/plain": [
       "\u001b[1m Total params: \u001b[0m\u001b[38;5;34m424,362\u001b[0m (1.62 MB)\n"
      ]
     },
     "metadata": {},
     "output_type": "display_data"
    },
    {
     "data": {
      "text/html": [
       "<pre style=\"white-space:pre;overflow-x:auto;line-height:normal;font-family:Menlo,'DejaVu Sans Mono',consolas,'Courier New',monospace\"><span style=\"font-weight: bold\"> Trainable params: </span><span style=\"color: #00af00; text-decoration-color: #00af00\">424,362</span> (1.62 MB)\n",
       "</pre>\n"
      ],
      "text/plain": [
       "\u001b[1m Trainable params: \u001b[0m\u001b[38;5;34m424,362\u001b[0m (1.62 MB)\n"
      ]
     },
     "metadata": {},
     "output_type": "display_data"
    },
    {
     "data": {
      "text/html": [
       "<pre style=\"white-space:pre;overflow-x:auto;line-height:normal;font-family:Menlo,'DejaVu Sans Mono',consolas,'Courier New',monospace\"><span style=\"font-weight: bold\"> Non-trainable params: </span><span style=\"color: #00af00; text-decoration-color: #00af00\">0</span> (0.00 B)\n",
       "</pre>\n"
      ],
      "text/plain": [
       "\u001b[1m Non-trainable params: \u001b[0m\u001b[38;5;34m0\u001b[0m (0.00 B)\n"
      ]
     },
     "metadata": {},
     "output_type": "display_data"
    }
   ],
   "source": [
    "model.summary()"
   ]
  },
  {
   "cell_type": "markdown",
   "metadata": {},
   "source": [
    "### Model training"
   ]
  },
  {
   "cell_type": "code",
   "execution_count": 19,
   "metadata": {},
   "outputs": [
    {
     "name": "stdout",
     "output_type": "stream",
     "text": [
      "Epoch 1/10\n",
      "\u001b[1m235/235\u001b[0m \u001b[32m━━━━━━━━━━━━━━━━━━━━\u001b[0m\u001b[37m\u001b[0m \u001b[1m6s\u001b[0m 22ms/step - accuracy: 0.7606 - loss: 0.6863 - val_accuracy: 0.8800 - val_loss: 0.3387\n",
      "Epoch 2/10\n",
      "\u001b[1m235/235\u001b[0m \u001b[32m━━━━━━━━━━━━━━━━━━━━\u001b[0m\u001b[37m\u001b[0m \u001b[1m5s\u001b[0m 22ms/step - accuracy: 0.8826 - loss: 0.3206 - val_accuracy: 0.8941 - val_loss: 0.2883\n",
      "Epoch 3/10\n",
      "\u001b[1m235/235\u001b[0m \u001b[32m━━━━━━━━━━━━━━━━━━━━\u001b[0m\u001b[37m\u001b[0m \u001b[1m5s\u001b[0m 22ms/step - accuracy: 0.9001 - loss: 0.2680 - val_accuracy: 0.9001 - val_loss: 0.2746\n",
      "Epoch 4/10\n",
      "\u001b[1m235/235\u001b[0m \u001b[32m━━━━━━━━━━━━━━━━━━━━\u001b[0m\u001b[37m\u001b[0m \u001b[1m5s\u001b[0m 22ms/step - accuracy: 0.9161 - loss: 0.2288 - val_accuracy: 0.9052 - val_loss: 0.2582\n",
      "Epoch 5/10\n",
      "\u001b[1m235/235\u001b[0m \u001b[32m━━━━━━━━━━━━━━━━━━━━\u001b[0m\u001b[37m\u001b[0m \u001b[1m5s\u001b[0m 22ms/step - accuracy: 0.9241 - loss: 0.2054 - val_accuracy: 0.9099 - val_loss: 0.2507\n",
      "Epoch 6/10\n",
      "\u001b[1m235/235\u001b[0m \u001b[32m━━━━━━━━━━━━━━━━━━━━\u001b[0m\u001b[37m\u001b[0m \u001b[1m5s\u001b[0m 22ms/step - accuracy: 0.9318 - loss: 0.1841 - val_accuracy: 0.9056 - val_loss: 0.2550\n",
      "Epoch 7/10\n",
      "\u001b[1m235/235\u001b[0m \u001b[32m━━━━━━━━━━━━━━━━━━━━\u001b[0m\u001b[37m\u001b[0m \u001b[1m5s\u001b[0m 22ms/step - accuracy: 0.9375 - loss: 0.1664 - val_accuracy: 0.9136 - val_loss: 0.2421\n",
      "Epoch 8/10\n",
      "\u001b[1m235/235\u001b[0m \u001b[32m━━━━━━━━━━━━━━━━━━━━\u001b[0m\u001b[37m\u001b[0m \u001b[1m5s\u001b[0m 22ms/step - accuracy: 0.9450 - loss: 0.1456 - val_accuracy: 0.9141 - val_loss: 0.2406\n",
      "Epoch 9/10\n",
      "\u001b[1m235/235\u001b[0m \u001b[32m━━━━━━━━━━━━━━━━━━━━\u001b[0m\u001b[37m\u001b[0m \u001b[1m5s\u001b[0m 22ms/step - accuracy: 0.9469 - loss: 0.1400 - val_accuracy: 0.9150 - val_loss: 0.2422\n",
      "Epoch 10/10\n",
      "\u001b[1m235/235\u001b[0m \u001b[32m━━━━━━━━━━━━━━━━━━━━\u001b[0m\u001b[37m\u001b[0m \u001b[1m5s\u001b[0m 22ms/step - accuracy: 0.9539 - loss: 0.1258 - val_accuracy: 0.9193 - val_loss: 0.2475\n"
     ]
    }
   ],
   "source": [
    "h = model.fit(\n",
    "  train_images,\n",
    "  to_categorical(train_labels),\n",
    "  batch_size = Batch_siza,\n",
    "  epochs=10,\n",
    "  validation_data=(test_images, to_categorical(test_labels)),\n",
    ")"
   ]
  },
  {
   "cell_type": "markdown",
   "metadata": {},
   "source": [
    "## Evaluate the Model"
   ]
  },
  {
   "cell_type": "code",
   "execution_count": 20,
   "metadata": {},
   "outputs": [
    {
     "name": "stdout",
     "output_type": "stream",
     "text": [
      "\u001b[1m313/313\u001b[0m \u001b[32m━━━━━━━━━━━━━━━━━━━━\u001b[0m\u001b[37m\u001b[0m \u001b[1m0s\u001b[0m 1ms/step - accuracy: 0.9175 - loss: 0.2548\n"
     ]
    }
   ],
   "source": [
    "test_loss, test_acc = model.evaluate(test_images, to_categorical(test_labels))"
   ]
  },
  {
   "cell_type": "code",
   "execution_count": 21,
   "metadata": {},
   "outputs": [
    {
     "data": {
      "image/png": "[encoded data removed]",
      "text/plain": [
       "<Figure size 640x480 with 2 Axes>"
      ]
     },
     "metadata": {},
     "output_type": "display_data"
    }
   ],
   "source": [
    "# Plot the loss and accuracy curves for training and validation for 50 epochs\n",
    "fig, ax = plt.subplots(2,1)\n",
    "ax[0].plot(h.history['loss'], color='b', label=\"Training loss\")\n",
    "ax[0].plot(h.history['val_loss'], color='r', label=\"validation loss\")\n",
    "legend = ax[0].legend(loc='best', shadow=True)\n",
    "\n",
    "ax[1].plot(h.history['accuracy'], color='b', label=\"Training accuracy\")\n",
    "ax[1].plot(h.history['val_accuracy'], color='r',label=\"Validation accuracy\")\n",
    "legend = ax[1].legend(loc='best', shadow=True)"
   ]
  },
  {
   "cell_type": "code",
   "execution_count": 14,
   "metadata": {},
   "outputs": [
    {
     "name": "stdout",
     "output_type": "stream",
     "text": [
      "\u001b[1m313/313\u001b[0m \u001b[32m━━━━━━━━━━━━━━━━━━━━\u001b[0m\u001b[37m\u001b[0m \u001b[1m0s\u001b[0m 1ms/step\n"
     ]
    },
    {
     "data": {
      "image/png": "[encoded data removed]",
      "text/plain": [
       "<Figure size 1200x1400 with 16 Axes>"
      ]
     },
     "metadata": {},
     "output_type": "display_data"
    }
   ],
   "source": [
    "labels = {0 : \"T-shirt/top\", 1: \"Trouser\", 2: \"Pullover\", 3: \"Dress\", 4: \"Coat\",\n",
    "          5: \"Sandal\", 6: \"Shirt\", 7: \"Sneaker\", 8: \"Bag\", 9: \"Ankle Boot\"}\n",
    "\n",
    "y_pred = model.predict(test_images)\n",
    "X_test__ = test_images.reshape(test_images.shape[0], 28, 28)\n",
    "\n",
    "fig, axis = plt.subplots(4, 4, figsize=(12, 14))\n",
    "for i, ax in enumerate(axis.flat):\n",
    "    ax.imshow(X_test__[i], cmap='binary')\n",
    "    ax.set(title = f\"Real Class is {labels[test_labels[i].argmax()]}\\nPredict Class is {labels[y_pred[i].argmax()]}\")"
   ]
  },
  {
   "cell_type": "markdown",
   "metadata": {},
   "source": [
    "## Save the Model"
   ]
  },
  {
   "cell_type": "code",
   "execution_count": 15,
   "metadata": {},
   "outputs": [
    {
     "name": "stderr",
     "output_type": "stream",
     "text": [
      "WARNING:absl:You are saving your model as an HDF5 file via `model.save()` or `keras.saving.save_model(model)`. This file format is considered legacy. We recommend using instead the native Keras format, e.g. `model.save('my_model.keras')` or `keras.saving.save_model(model, 'my_model.keras')`. \n"
     ]
    }
   ],
   "source": [
    "model.save(\"cnn_model.h5\")"
   ]
  },
  {
   "cell_type": "markdown",
   "metadata": {},
   "source": [
    "## Data augmentation"
   ]
  },
  {
   "cell_type": "code",
   "execution_count": 16,
   "metadata": {},
   "outputs": [],
   "source": [
    "data_augmentor = ImageDataGenerator(\n",
    "    rescale = 1/255,\n",
    "    zoom_range=0.1, \n",
    "    horizontal_flip=False,\n",
    "    fill_mode='nearest',\n",
    ")\n",
    "\n",
    "# fit the training data\n",
    "data_augmentor.fit(train_images)"
   ]
  },
  {
   "cell_type": "code",
   "execution_count": 17,
   "metadata": {},
   "outputs": [],
   "source": [
    "from tensorflow.keras.preprocessing.image import save_img\n",
    "\n",
    "# Create a directory for the augmented images\n",
    "os.makedirs('saved_data', exist_ok=True)\n",
    "\n",
    "# Setup the generator\n",
    "\n",
    "generator = data_augmentor.flow(train_images, train_labels, batch_size=Batch_siza)\n",
    "\n",
    "for i in range(200):\n",
    "    images_batch, labels_batch = next(generator)\n",
    "    np.save(f'saved_data/train_images_batch_{i}.npy', images_batch)\n",
    "    np.save(f'saved_data/train_labels_batch_{i}.npy', labels_batch)\n",
    "\n",
    "all_images = []\n",
    "all_labels = []\n",
    "\n",
    "for i in range(200):\n",
    "    images_batch, labels_batch = next(generator)\n",
    "    all_images.append(images_batch)\n",
    "    all_labels.append(labels_batch)\n",
    "\n",
    "# Convert lists to arrays\n",
    "all_images = np.concatenate(all_images, axis=0)\n",
    "all_labels = np.concatenate(all_labels, axis=0)\n",
    "\n",
    "# Save\n",
    "np.save('saved_data/all_train_images.npy', all_images)\n",
    "np.save('saved_data/all_train_labels.npy', all_labels)"
   ]
  },
  {
   "cell_type": "code",
   "execution_count": 196,
   "metadata": {},
   "outputs": [
    {
     "name": "stdout",
     "output_type": "stream",
     "text": [
      "Epoch 1/50\n",
      "\u001b[1m200/200\u001b[0m \u001b[32m━━━━━━━━━━━━━━━━━━━━\u001b[0m\u001b[37m\u001b[0m \u001b[1m4s\u001b[0m 22ms/step - accuracy: 0.1010 - loss: 2.6459 - val_accuracy: 0.7147 - val_loss: 2.3620\n",
      "Epoch 2/50\n",
      "\u001b[1m200/200\u001b[0m \u001b[32m━━━━━━━━━━━━━━━━━━━━\u001b[0m\u001b[37m\u001b[0m \u001b[1m4s\u001b[0m 21ms/step - accuracy: 0.1016 - loss: 2.3026 - val_accuracy: 0.7163 - val_loss: 2.3542\n",
      "Epoch 3/50\n",
      "\u001b[1m200/200\u001b[0m \u001b[32m━━━━━━━━━━━━━━━━━━━━\u001b[0m\u001b[37m\u001b[0m \u001b[1m4s\u001b[0m 21ms/step - accuracy: 0.1009 - loss: 2.3026 - val_accuracy: 0.7162 - val_loss: 2.3551\n",
      "Epoch 4/50\n",
      "\u001b[1m200/200\u001b[0m \u001b[32m━━━━━━━━━━━━━━━━━━━━\u001b[0m\u001b[37m\u001b[0m \u001b[1m4s\u001b[0m 21ms/step - accuracy: 0.0987 - loss: 2.3026 - val_accuracy: 0.7166 - val_loss: 2.3519\n",
      "Epoch 5/50\n",
      "\u001b[1m200/200\u001b[0m \u001b[32m━━━━━━━━━━━━━━━━━━━━\u001b[0m\u001b[37m\u001b[0m \u001b[1m4s\u001b[0m 21ms/step - accuracy: 0.1016 - loss: 2.3026 - val_accuracy: 0.7157 - val_loss: 2.3517\n",
      "Epoch 6/50\n",
      "\u001b[1m200/200\u001b[0m \u001b[32m━━━━━━━━━━━━━━━━━━━━\u001b[0m\u001b[37m\u001b[0m \u001b[1m4s\u001b[0m 21ms/step - accuracy: 0.0991 - loss: 2.3027 - val_accuracy: 0.7171 - val_loss: 2.3475\n",
      "Epoch 7/50\n",
      "\u001b[1m200/200\u001b[0m \u001b[32m━━━━━━━━━━━━━━━━━━━━\u001b[0m\u001b[37m\u001b[0m \u001b[1m4s\u001b[0m 21ms/step - accuracy: 0.1036 - loss: 2.3025 - val_accuracy: 0.7170 - val_loss: 2.3477\n",
      "Epoch 8/50\n",
      "\u001b[1m200/200\u001b[0m \u001b[32m━━━━━━━━━━━━━━━━━━━━\u001b[0m\u001b[37m\u001b[0m \u001b[1m4s\u001b[0m 22ms/step - accuracy: 0.1008 - loss: 2.3026 - val_accuracy: 0.7170 - val_loss: 2.3474\n",
      "Epoch 9/50\n",
      "\u001b[1m200/200\u001b[0m \u001b[32m━━━━━━━━━━━━━━━━━━━━\u001b[0m\u001b[37m\u001b[0m \u001b[1m5s\u001b[0m 23ms/step - accuracy: 0.1012 - loss: 2.3026 - val_accuracy: 0.7168 - val_loss: 2.3485\n",
      "Epoch 10/50\n",
      "\u001b[1m200/200\u001b[0m \u001b[32m━━━━━━━━━━━━━━━━━━━━\u001b[0m\u001b[37m\u001b[0m \u001b[1m4s\u001b[0m 21ms/step - accuracy: 0.1004 - loss: 2.3026 - val_accuracy: 0.7184 - val_loss: 2.3350\n",
      "Epoch 11/50\n",
      "\u001b[1m200/200\u001b[0m \u001b[32m━━━━━━━━━━━━━━━━━━━━\u001b[0m\u001b[37m\u001b[0m \u001b[1m4s\u001b[0m 21ms/step - accuracy: 0.0985 - loss: 2.3026 - val_accuracy: 0.7178 - val_loss: 2.3340\n",
      "Epoch 12/50\n",
      "\u001b[1m200/200\u001b[0m \u001b[32m━━━━━━━━━━━━━━━━━━━━\u001b[0m\u001b[37m\u001b[0m \u001b[1m4s\u001b[0m 21ms/step - accuracy: 0.0986 - loss: 2.3026 - val_accuracy: 0.7179 - val_loss: 2.3341\n",
      "Epoch 13/50\n",
      "\u001b[1m200/200\u001b[0m \u001b[32m━━━━━━━━━━━━━━━━━━━━\u001b[0m\u001b[37m\u001b[0m \u001b[1m4s\u001b[0m 21ms/step - accuracy: 0.1010 - loss: 2.3026 - val_accuracy: 0.7178 - val_loss: 2.3340\n",
      "Epoch 14/50\n",
      "\u001b[1m200/200\u001b[0m \u001b[32m━━━━━━━━━━━━━━━━━━━━\u001b[0m\u001b[37m\u001b[0m \u001b[1m4s\u001b[0m 21ms/step - accuracy: 0.1009 - loss: 2.3026 - val_accuracy: 0.7183 - val_loss: 2.3339\n",
      "Epoch 15/50\n",
      "\u001b[1m200/200\u001b[0m \u001b[32m━━━━━━━━━━━━━━━━━━━━\u001b[0m\u001b[37m\u001b[0m \u001b[1m4s\u001b[0m 21ms/step - accuracy: 0.0983 - loss: 2.3025 - val_accuracy: 0.7184 - val_loss: 2.3336\n",
      "Epoch 16/50\n",
      "\u001b[1m200/200\u001b[0m \u001b[32m━━━━━━━━━━━━━━━━━━━━\u001b[0m\u001b[37m\u001b[0m \u001b[1m4s\u001b[0m 21ms/step - accuracy: 0.0992 - loss: 2.3027 - val_accuracy: 0.7169 - val_loss: 2.3334\n",
      "Epoch 17/50\n",
      "\u001b[1m200/200\u001b[0m \u001b[32m━━━━━━━━━━━━━━━━━━━━\u001b[0m\u001b[37m\u001b[0m \u001b[1m4s\u001b[0m 21ms/step - accuracy: 0.1015 - loss: 2.3026 - val_accuracy: 0.7180 - val_loss: 2.3333\n",
      "Epoch 18/50\n",
      "\u001b[1m200/200\u001b[0m \u001b[32m━━━━━━━━━━━━━━━━━━━━\u001b[0m\u001b[37m\u001b[0m \u001b[1m4s\u001b[0m 21ms/step - accuracy: 0.0996 - loss: 2.3026 - val_accuracy: 0.7174 - val_loss: 2.3360\n",
      "Epoch 19/50\n",
      "\u001b[1m200/200\u001b[0m \u001b[32m━━━━━━━━━━━━━━━━━━━━\u001b[0m\u001b[37m\u001b[0m \u001b[1m4s\u001b[0m 21ms/step - accuracy: 0.0998 - loss: 2.3026 - val_accuracy: 0.7176 - val_loss: 2.3397\n",
      "Epoch 20/50\n",
      "\u001b[1m200/200\u001b[0m \u001b[32m━━━━━━━━━━━━━━━━━━━━\u001b[0m\u001b[37m\u001b[0m \u001b[1m4s\u001b[0m 21ms/step - accuracy: 0.1018 - loss: 2.3025 - val_accuracy: 0.7201 - val_loss: 2.3423\n",
      "Epoch 21/50\n",
      "\u001b[1m200/200\u001b[0m \u001b[32m━━━━━━━━━━━━━━━━━━━━\u001b[0m\u001b[37m\u001b[0m \u001b[1m4s\u001b[0m 21ms/step - accuracy: 0.1005 - loss: 2.3026 - val_accuracy: 0.7201 - val_loss: 2.3443\n",
      "Epoch 22/50\n",
      "\u001b[1m200/200\u001b[0m \u001b[32m━━━━━━━━━━━━━━━━━━━━\u001b[0m\u001b[37m\u001b[0m \u001b[1m4s\u001b[0m 21ms/step - accuracy: 0.1008 - loss: 2.3025 - val_accuracy: 0.7201 - val_loss: 2.3442\n",
      "Epoch 23/50\n",
      "\u001b[1m200/200\u001b[0m \u001b[32m━━━━━━━━━━━━━━━━━━━━\u001b[0m\u001b[37m\u001b[0m \u001b[1m4s\u001b[0m 21ms/step - accuracy: 0.1023 - loss: 2.3026 - val_accuracy: 0.7206 - val_loss: 2.3435\n",
      "Epoch 24/50\n",
      "\u001b[1m200/200\u001b[0m \u001b[32m━━━━━━━━━━━━━━━━━━━━\u001b[0m\u001b[37m\u001b[0m \u001b[1m4s\u001b[0m 22ms/step - accuracy: 0.1021 - loss: 2.3026 - val_accuracy: 0.7198 - val_loss: 2.3442\n",
      "Epoch 25/50\n",
      "\u001b[1m200/200\u001b[0m \u001b[32m━━━━━━━━━━━━━━━━━━━━\u001b[0m\u001b[37m\u001b[0m \u001b[1m4s\u001b[0m 22ms/step - accuracy: 0.1011 - loss: 2.3026 - val_accuracy: 0.7201 - val_loss: 2.3438\n",
      "Epoch 26/50\n",
      "\u001b[1m200/200\u001b[0m \u001b[32m━━━━━━━━━━━━━━━━━━━━\u001b[0m\u001b[37m\u001b[0m \u001b[1m4s\u001b[0m 21ms/step - accuracy: 0.1013 - loss: 2.3025 - val_accuracy: 0.7171 - val_loss: 2.3549\n",
      "Epoch 27/50\n",
      "\u001b[1m200/200\u001b[0m \u001b[32m━━━━━━━━━━━━━━━━━━━━\u001b[0m\u001b[37m\u001b[0m \u001b[1m4s\u001b[0m 21ms/step - accuracy: 0.0998 - loss: 2.3026 - val_accuracy: 0.7173 - val_loss: 2.3544\n",
      "Epoch 28/50\n",
      "\u001b[1m200/200\u001b[0m \u001b[32m━━━━━━━━━━━━━━━━━━━━\u001b[0m\u001b[37m\u001b[0m \u001b[1m4s\u001b[0m 21ms/step - accuracy: 0.0990 - loss: 2.3026 - val_accuracy: 0.7174 - val_loss: 2.3437\n",
      "Epoch 29/50\n",
      "\u001b[1m200/200\u001b[0m \u001b[32m━━━━━━━━━━━━━━━━━━━━\u001b[0m\u001b[37m\u001b[0m \u001b[1m4s\u001b[0m 21ms/step - accuracy: 0.1022 - loss: 2.3026 - val_accuracy: 0.7171 - val_loss: 2.3439\n",
      "Epoch 30/50\n",
      "\u001b[1m200/200\u001b[0m \u001b[32m━━━━━━━━━━━━━━━━━━━━\u001b[0m\u001b[37m\u001b[0m \u001b[1m4s\u001b[0m 21ms/step - accuracy: 0.1001 - loss: 2.3026 - val_accuracy: 0.7172 - val_loss: 2.3437\n",
      "Epoch 31/50\n",
      "\u001b[1m200/200\u001b[0m \u001b[32m━━━━━━━━━━━━━━━━━━━━\u001b[0m\u001b[37m\u001b[0m \u001b[1m4s\u001b[0m 21ms/step - accuracy: 0.1018 - loss: 2.3026 - val_accuracy: 0.7171 - val_loss: 2.3443\n",
      "Epoch 32/50\n",
      "\u001b[1m200/200\u001b[0m \u001b[32m━━━━━━━━━━━━━━━━━━━━\u001b[0m\u001b[37m\u001b[0m \u001b[1m4s\u001b[0m 21ms/step - accuracy: 0.1011 - loss: 2.3026 - val_accuracy: 0.7171 - val_loss: 2.3446\n",
      "Epoch 33/50\n",
      "\u001b[1m200/200\u001b[0m \u001b[32m━━━━━━━━━━━━━━━━━━━━\u001b[0m\u001b[37m\u001b[0m \u001b[1m4s\u001b[0m 21ms/step - accuracy: 0.0994 - loss: 2.3026 - val_accuracy: 0.7172 - val_loss: 2.3445\n",
      "Epoch 34/50\n",
      "\u001b[1m200/200\u001b[0m \u001b[32m━━━━━━━━━━━━━━━━━━━━\u001b[0m\u001b[37m\u001b[0m \u001b[1m4s\u001b[0m 21ms/step - accuracy: 0.0990 - loss: 2.3026 - val_accuracy: 0.7173 - val_loss: 2.3438\n",
      "Epoch 35/50\n",
      "\u001b[1m200/200\u001b[0m \u001b[32m━━━━━━━━━━━━━━━━━━━━\u001b[0m\u001b[37m\u001b[0m \u001b[1m4s\u001b[0m 21ms/step - accuracy: 0.1005 - loss: 2.3026 - val_accuracy: 0.7173 - val_loss: 2.3439\n",
      "Epoch 36/50\n",
      "\u001b[1m200/200\u001b[0m \u001b[32m━━━━━━━━━━━━━━━━━━━━\u001b[0m\u001b[37m\u001b[0m \u001b[1m4s\u001b[0m 21ms/step - accuracy: 0.0970 - loss: 2.3026 - val_accuracy: 0.7172 - val_loss: 2.3438\n",
      "Epoch 37/50\n",
      "\u001b[1m200/200\u001b[0m \u001b[32m━━━━━━━━━━━━━━━━━━━━\u001b[0m\u001b[37m\u001b[0m \u001b[1m4s\u001b[0m 21ms/step - accuracy: 0.0998 - loss: 2.3026 - val_accuracy: 0.7172 - val_loss: 2.3443\n",
      "Epoch 38/50\n",
      "\u001b[1m200/200\u001b[0m \u001b[32m━━━━━━━━━━━━━━━━━━━━\u001b[0m\u001b[37m\u001b[0m \u001b[1m4s\u001b[0m 21ms/step - accuracy: 0.1008 - loss: 2.3026 - val_accuracy: 0.7201 - val_loss: 2.3372\n",
      "Epoch 39/50\n",
      "\u001b[1m200/200\u001b[0m \u001b[32m━━━━━━━━━━━━━━━━━━━━\u001b[0m\u001b[37m\u001b[0m \u001b[1m4s\u001b[0m 22ms/step - accuracy: 0.1007 - loss: 2.3026 - val_accuracy: 0.7201 - val_loss: 2.3374\n",
      "Epoch 40/50\n",
      "\u001b[1m200/200\u001b[0m \u001b[32m━━━━━━━━━━━━━━━━━━━━\u001b[0m\u001b[37m\u001b[0m \u001b[1m5s\u001b[0m 23ms/step - accuracy: 0.0992 - loss: 2.3026 - val_accuracy: 0.7200 - val_loss: 2.3372\n",
      "Epoch 41/50\n",
      "\u001b[1m200/200\u001b[0m \u001b[32m━━━━━━━━━━━━━━━━━━━━\u001b[0m\u001b[37m\u001b[0m \u001b[1m4s\u001b[0m 22ms/step - accuracy: 0.1016 - loss: 2.3026 - val_accuracy: 0.7203 - val_loss: 2.3368\n",
      "Epoch 42/50\n",
      "\u001b[1m200/200\u001b[0m \u001b[32m━━━━━━━━━━━━━━━━━━━━\u001b[0m\u001b[37m\u001b[0m \u001b[1m4s\u001b[0m 21ms/step - accuracy: 0.1019 - loss: 2.3031 - val_accuracy: 0.5797 - val_loss: 6.9613\n",
      "Epoch 43/50\n",
      "\u001b[1m200/200\u001b[0m \u001b[32m━━━━━━━━━━━━━━━━━━━━\u001b[0m\u001b[37m\u001b[0m \u001b[1m4s\u001b[0m 21ms/step - accuracy: 0.1006 - loss: 2.3026 - val_accuracy: 0.5774 - val_loss: 6.8846\n",
      "Epoch 44/50\n",
      "\u001b[1m200/200\u001b[0m \u001b[32m━━━━━━━━━━━━━━━━━━━━\u001b[0m\u001b[37m\u001b[0m \u001b[1m4s\u001b[0m 21ms/step - accuracy: 0.0999 - loss: 2.3026 - val_accuracy: 0.5776 - val_loss: 6.8843\n",
      "Epoch 45/50\n",
      "\u001b[1m200/200\u001b[0m \u001b[32m━━━━━━━━━━━━━━━━━━━━\u001b[0m\u001b[37m\u001b[0m \u001b[1m4s\u001b[0m 21ms/step - accuracy: 0.1000 - loss: 2.3026 - val_accuracy: 0.5776 - val_loss: 6.8838\n",
      "Epoch 46/50\n",
      "\u001b[1m200/200\u001b[0m \u001b[32m━━━━━━━━━━━━━━━━━━━━\u001b[0m\u001b[37m\u001b[0m \u001b[1m4s\u001b[0m 21ms/step - accuracy: 0.1021 - loss: 2.3025 - val_accuracy: 0.5383 - val_loss: 9.5815\n",
      "Epoch 47/50\n",
      "\u001b[1m200/200\u001b[0m \u001b[32m━━━━━━━━━━━━━━━━━━━━\u001b[0m\u001b[37m\u001b[0m \u001b[1m4s\u001b[0m 21ms/step - accuracy: 0.1025 - loss: 2.3026 - val_accuracy: 0.5351 - val_loss: 9.8133\n",
      "Epoch 48/50\n",
      "\u001b[1m200/200\u001b[0m \u001b[32m━━━━━━━━━━━━━━━━━━━━\u001b[0m\u001b[37m\u001b[0m \u001b[1m4s\u001b[0m 21ms/step - accuracy: 0.0986 - loss: 2.3027 - val_accuracy: 0.5168 - val_loss: 15.7145\n",
      "Epoch 49/50\n",
      "\u001b[1m200/200\u001b[0m \u001b[32m━━━━━━━━━━━━━━━━━━━━\u001b[0m\u001b[37m\u001b[0m \u001b[1m4s\u001b[0m 21ms/step - accuracy: 0.0998 - loss: 2.3026 - val_accuracy: 0.5000 - val_loss: 16.3906\n",
      "Epoch 50/50\n",
      "\u001b[1m200/200\u001b[0m \u001b[32m━━━━━━━━━━━━━━━━━━━━\u001b[0m\u001b[37m\u001b[0m \u001b[1m4s\u001b[0m 21ms/step - accuracy: 0.0988 - loss: 2.3026 - val_accuracy: 0.5080 - val_loss: 15.8107\n"
     ]
    }
   ],
   "source": [
    "h = model.fit(\n",
    "    all_images,\n",
    "    to_categorical(all_labels),\n",
    "    batch_size = Batch_siza,\n",
    "    epochs=50,\n",
    "    validation_data=(test_images, to_categorical(test_labels)),\n",
    ")"
   ]
  },
  {
   "cell_type": "markdown",
   "metadata": {},
   "source": [
    "## Other Models tested"
   ]
  },
  {
   "cell_type": "code",
   "execution_count": 18,
   "metadata": {},
   "outputs": [],
   "source": [
    "input_image = (28, 28, 1)\n",
    "Batch_siza = 256\n",
    "stride1 = 1\n",
    "stride2 = 1\n",
    "num_filters1 = 64\n",
    "num_filters2 = 32\n",
    "filter_size1 = 3\n",
    "filter_size2 = 3\n",
    "pool_size1 = 2\n",
    "pool_size2 = 2\n",
    "dense_size1 = 256\n",
    "dense_size2 = 10\n",
    "x1 = int(((input_image[0]-filter_size1) + 1)/stride1)\n",
    "y1 = int(((input_image[1]-filter_size1) + 1)/stride1)\n",
    "output_image1 = (x1, y1, 1)\n",
    "x2 = int(((x1-filter_size2) + 1)/stride2)\n",
    "y2 = int(((y1-filter_size2) + 1)/stride2)\n",
    "output_image2 = (x2, y2, 1)\n"
   ]
  },
  {
   "cell_type": "code",
   "execution_count": 20,
   "metadata": {},
   "outputs": [],
   "source": [
    "model = Sequential([\n",
    "  Conv2D(num_filters1, filter_size1, padding=\"same\",kernel_initializer='he_normal', input_shape = input_image, strides= stride1),\n",
    "  MaxPooling2D(pool_size=pool_size1),\n",
    "  Conv2D(num_filters2, filter_size2, padding=\"same\", input_shape = output_image1, strides= stride1),\n",
    "  MaxPooling2D(pool_size = pool_size2),\n",
    "  Dropout(0.2),\n",
    "  Flatten(),\n",
    "  Dense(dense_size1, activation='relu'),\n",
    "  Dense(dense_size2, activation='softmax'),\n",
    "])"
   ]
  },
  {
   "cell_type": "code",
   "execution_count": 21,
   "metadata": {},
   "outputs": [],
   "source": [
    "model.compile(\n",
    "  \n",
    "  'Adam',\n",
    "  loss='categorical_crossentropy',\n",
    "  metrics=['accuracy'],\n",
    ")"
   ]
  },
  {
   "cell_type": "code",
   "execution_count": 22,
   "metadata": {},
   "outputs": [
    {
     "name": "stdout",
     "output_type": "stream",
     "text": [
      "Epoch 1/80\n",
      "\u001b[1m235/235\u001b[0m \u001b[32m━━━━━━━━━━━━━━━━━━━━\u001b[0m\u001b[37m\u001b[0m \u001b[1m6s\u001b[0m 21ms/step - accuracy: 0.7606 - loss: 0.6731 - val_accuracy: 0.8779 - val_loss: 0.3376\n",
      "Epoch 2/80\n",
      "\u001b[1m235/235\u001b[0m \u001b[32m━━━━━━━━━━━━━━━━━━━━\u001b[0m\u001b[37m\u001b[0m \u001b[1m5s\u001b[0m 21ms/step - accuracy: 0.8830 - loss: 0.3209 - val_accuracy: 0.9014 - val_loss: 0.2756\n",
      "Epoch 3/80\n",
      "\u001b[1m235/235\u001b[0m \u001b[32m━━━━━━━━━━━━━━━━━━━━\u001b[0m\u001b[37m\u001b[0m \u001b[1m5s\u001b[0m 20ms/step - accuracy: 0.9008 - loss: 0.2689 - val_accuracy: 0.9117 - val_loss: 0.2457\n",
      "Epoch 4/80\n",
      "\u001b[1m235/235\u001b[0m \u001b[32m━━━━━━━━━━━━━━━━━━━━\u001b[0m\u001b[37m\u001b[0m \u001b[1m5s\u001b[0m 20ms/step - accuracy: 0.9130 - loss: 0.2363 - val_accuracy: 0.9091 - val_loss: 0.2524\n",
      "Epoch 5/80\n",
      "\u001b[1m235/235\u001b[0m \u001b[32m━━━━━━━━━━━━━━━━━━━━\u001b[0m\u001b[37m\u001b[0m \u001b[1m5s\u001b[0m 20ms/step - accuracy: 0.9214 - loss: 0.2141 - val_accuracy: 0.9132 - val_loss: 0.2328\n",
      "Epoch 6/80\n",
      "\u001b[1m235/235\u001b[0m \u001b[32m━━━━━━━━━━━━━━━━━━━━\u001b[0m\u001b[37m\u001b[0m \u001b[1m5s\u001b[0m 20ms/step - accuracy: 0.9298 - loss: 0.1898 - val_accuracy: 0.9156 - val_loss: 0.2283\n",
      "Epoch 7/80\n",
      "\u001b[1m235/235\u001b[0m \u001b[32m━━━━━━━━━━━━━━━━━━━━\u001b[0m\u001b[37m\u001b[0m \u001b[1m5s\u001b[0m 21ms/step - accuracy: 0.9369 - loss: 0.1680 - val_accuracy: 0.9180 - val_loss: 0.2262\n",
      "Epoch 8/80\n",
      "\u001b[1m235/235\u001b[0m \u001b[32m━━━━━━━━━━━━━━━━━━━━\u001b[0m\u001b[37m\u001b[0m \u001b[1m5s\u001b[0m 21ms/step - accuracy: 0.9456 - loss: 0.1474 - val_accuracy: 0.9213 - val_loss: 0.2182\n",
      "Epoch 9/80\n",
      "\u001b[1m235/235\u001b[0m \u001b[32m━━━━━━━━━━━━━━━━━━━━\u001b[0m\u001b[37m\u001b[0m \u001b[1m5s\u001b[0m 20ms/step - accuracy: 0.9470 - loss: 0.1412 - val_accuracy: 0.9252 - val_loss: 0.2219\n",
      "Epoch 10/80\n",
      "\u001b[1m235/235\u001b[0m \u001b[32m━━━━━━━━━━━━━━━━━━━━\u001b[0m\u001b[37m\u001b[0m \u001b[1m5s\u001b[0m 21ms/step - accuracy: 0.9538 - loss: 0.1259 - val_accuracy: 0.9249 - val_loss: 0.2194\n",
      "Epoch 11/80\n",
      "\u001b[1m235/235\u001b[0m \u001b[32m━━━━━━━━━━━━━━━━━━━━\u001b[0m\u001b[37m\u001b[0m \u001b[1m5s\u001b[0m 21ms/step - accuracy: 0.9572 - loss: 0.1129 - val_accuracy: 0.9249 - val_loss: 0.2255\n",
      "Epoch 12/80\n",
      "\u001b[1m235/235\u001b[0m \u001b[32m━━━━━━━━━━━━━━━━━━━━\u001b[0m\u001b[37m\u001b[0m \u001b[1m5s\u001b[0m 21ms/step - accuracy: 0.9617 - loss: 0.1046 - val_accuracy: 0.9240 - val_loss: 0.2328\n",
      "Epoch 13/80\n",
      "\u001b[1m235/235\u001b[0m \u001b[32m━━━━━━━━━━━━━━━━━━━━\u001b[0m\u001b[37m\u001b[0m \u001b[1m5s\u001b[0m 21ms/step - accuracy: 0.9652 - loss: 0.0944 - val_accuracy: 0.9270 - val_loss: 0.2370\n",
      "Epoch 14/80\n",
      "\u001b[1m235/235\u001b[0m \u001b[32m━━━━━━━━━━━━━━━━━━━━\u001b[0m\u001b[37m\u001b[0m \u001b[1m5s\u001b[0m 21ms/step - accuracy: 0.9695 - loss: 0.0835 - val_accuracy: 0.9267 - val_loss: 0.2359\n",
      "Epoch 15/80\n",
      "\u001b[1m235/235\u001b[0m \u001b[32m━━━━━━━━━━━━━━━━━━━━\u001b[0m\u001b[37m\u001b[0m \u001b[1m5s\u001b[0m 21ms/step - accuracy: 0.9718 - loss: 0.0748 - val_accuracy: 0.9255 - val_loss: 0.2476\n",
      "Epoch 16/80\n",
      "\u001b[1m235/235\u001b[0m \u001b[32m━━━━━━━━━━━━━━━━━━━━\u001b[0m\u001b[37m\u001b[0m \u001b[1m5s\u001b[0m 21ms/step - accuracy: 0.9749 - loss: 0.0705 - val_accuracy: 0.9258 - val_loss: 0.2632\n",
      "Epoch 17/80\n",
      "\u001b[1m235/235\u001b[0m \u001b[32m━━━━━━━━━━━━━━━━━━━━\u001b[0m\u001b[37m\u001b[0m \u001b[1m5s\u001b[0m 21ms/step - accuracy: 0.9744 - loss: 0.0671 - val_accuracy: 0.9261 - val_loss: 0.2663\n",
      "Epoch 18/80\n",
      "\u001b[1m235/235\u001b[0m \u001b[32m━━━━━━━━━━━━━━━━━━━━\u001b[0m\u001b[37m\u001b[0m \u001b[1m5s\u001b[0m 21ms/step - accuracy: 0.9767 - loss: 0.0628 - val_accuracy: 0.9281 - val_loss: 0.2665\n",
      "Epoch 19/80\n",
      "\u001b[1m235/235\u001b[0m \u001b[32m━━━━━━━━━━━━━━━━━━━━\u001b[0m\u001b[37m\u001b[0m \u001b[1m5s\u001b[0m 21ms/step - accuracy: 0.9806 - loss: 0.0529 - val_accuracy: 0.9266 - val_loss: 0.2845\n",
      "Epoch 20/80\n",
      "\u001b[1m235/235\u001b[0m \u001b[32m━━━━━━━━━━━━━━━━━━━━\u001b[0m\u001b[37m\u001b[0m \u001b[1m5s\u001b[0m 21ms/step - accuracy: 0.9821 - loss: 0.0482 - val_accuracy: 0.9257 - val_loss: 0.2951\n",
      "Epoch 21/80\n",
      "\u001b[1m235/235\u001b[0m \u001b[32m━━━━━━━━━━━━━━━━━━━━\u001b[0m\u001b[37m\u001b[0m \u001b[1m5s\u001b[0m 22ms/step - accuracy: 0.9831 - loss: 0.0477 - val_accuracy: 0.9245 - val_loss: 0.2993\n",
      "Epoch 22/80\n",
      "\u001b[1m235/235\u001b[0m \u001b[32m━━━━━━━━━━━━━━━━━━━━\u001b[0m\u001b[37m\u001b[0m \u001b[1m5s\u001b[0m 21ms/step - accuracy: 0.9842 - loss: 0.0434 - val_accuracy: 0.9250 - val_loss: 0.3150\n",
      "Epoch 23/80\n",
      "\u001b[1m235/235\u001b[0m \u001b[32m━━━━━━━━━━━━━━━━━━━━\u001b[0m\u001b[37m\u001b[0m \u001b[1m5s\u001b[0m 21ms/step - accuracy: 0.9847 - loss: 0.0416 - val_accuracy: 0.9289 - val_loss: 0.2985\n",
      "Epoch 24/80\n",
      "\u001b[1m235/235\u001b[0m \u001b[32m━━━━━━━━━━━━━━━━━━━━\u001b[0m\u001b[37m\u001b[0m \u001b[1m5s\u001b[0m 21ms/step - accuracy: 0.9858 - loss: 0.0395 - val_accuracy: 0.9205 - val_loss: 0.3418\n",
      "Epoch 25/80\n",
      "\u001b[1m235/235\u001b[0m \u001b[32m━━━━━━━━━━━━━━━━━━━━\u001b[0m\u001b[37m\u001b[0m \u001b[1m5s\u001b[0m 21ms/step - accuracy: 0.9859 - loss: 0.0365 - val_accuracy: 0.9253 - val_loss: 0.3298\n",
      "Epoch 26/80\n",
      "\u001b[1m235/235\u001b[0m \u001b[32m━━━━━━━━━━━━━━━━━━━━\u001b[0m\u001b[37m\u001b[0m \u001b[1m5s\u001b[0m 21ms/step - accuracy: 0.9856 - loss: 0.0394 - val_accuracy: 0.9225 - val_loss: 0.3401\n",
      "Epoch 27/80\n",
      "\u001b[1m235/235\u001b[0m \u001b[32m━━━━━━━━━━━━━━━━━━━━\u001b[0m\u001b[37m\u001b[0m \u001b[1m5s\u001b[0m 21ms/step - accuracy: 0.9875 - loss: 0.0348 - val_accuracy: 0.9292 - val_loss: 0.3281\n",
      "Epoch 28/80\n",
      "\u001b[1m235/235\u001b[0m \u001b[32m━━━━━━━━━━━━━━━━━━━━\u001b[0m\u001b[37m\u001b[0m \u001b[1m5s\u001b[0m 21ms/step - accuracy: 0.9873 - loss: 0.0334 - val_accuracy: 0.9239 - val_loss: 0.3643\n",
      "Epoch 29/80\n",
      "\u001b[1m235/235\u001b[0m \u001b[32m━━━━━━━━━━━━━━━━━━━━\u001b[0m\u001b[37m\u001b[0m \u001b[1m5s\u001b[0m 21ms/step - accuracy: 0.9882 - loss: 0.0315 - val_accuracy: 0.9252 - val_loss: 0.3696\n",
      "Epoch 30/80\n",
      "\u001b[1m235/235\u001b[0m \u001b[32m━━━━━━━━━━━━━━━━━━━━\u001b[0m\u001b[37m\u001b[0m \u001b[1m5s\u001b[0m 21ms/step - accuracy: 0.9881 - loss: 0.0326 - val_accuracy: 0.9267 - val_loss: 0.3563\n",
      "Epoch 31/80\n",
      "\u001b[1m235/235\u001b[0m \u001b[32m━━━━━━━━━━━━━━━━━━━━\u001b[0m\u001b[37m\u001b[0m \u001b[1m5s\u001b[0m 21ms/step - accuracy: 0.9911 - loss: 0.0267 - val_accuracy: 0.9262 - val_loss: 0.3716\n",
      "Epoch 32/80\n",
      "\u001b[1m235/235\u001b[0m \u001b[32m━━━━━━━━━━━━━━━━━━━━\u001b[0m\u001b[37m\u001b[0m \u001b[1m5s\u001b[0m 21ms/step - accuracy: 0.9904 - loss: 0.0259 - val_accuracy: 0.9257 - val_loss: 0.3760\n",
      "Epoch 33/80\n",
      "\u001b[1m235/235\u001b[0m \u001b[32m━━━━━━━━━━━━━━━━━━━━\u001b[0m\u001b[37m\u001b[0m \u001b[1m5s\u001b[0m 21ms/step - accuracy: 0.9907 - loss: 0.0258 - val_accuracy: 0.9269 - val_loss: 0.3860\n",
      "Epoch 34/80\n",
      "\u001b[1m235/235\u001b[0m \u001b[32m━━━━━━━━━━━━━━━━━━━━\u001b[0m\u001b[37m\u001b[0m \u001b[1m5s\u001b[0m 21ms/step - accuracy: 0.9899 - loss: 0.0284 - val_accuracy: 0.9283 - val_loss: 0.3810\n",
      "Epoch 35/80\n",
      "\u001b[1m235/235\u001b[0m \u001b[32m━━━━━━━━━━━━━━━━━━━━\u001b[0m\u001b[37m\u001b[0m \u001b[1m5s\u001b[0m 21ms/step - accuracy: 0.9916 - loss: 0.0243 - val_accuracy: 0.9273 - val_loss: 0.3785\n",
      "Epoch 36/80\n",
      "\u001b[1m235/235\u001b[0m \u001b[32m━━━━━━━━━━━━━━━━━━━━\u001b[0m\u001b[37m\u001b[0m \u001b[1m5s\u001b[0m 21ms/step - accuracy: 0.9924 - loss: 0.0213 - val_accuracy: 0.9272 - val_loss: 0.3846\n",
      "Epoch 37/80\n",
      "\u001b[1m235/235\u001b[0m \u001b[32m━━━━━━━━━━━━━━━━━━━━\u001b[0m\u001b[37m\u001b[0m \u001b[1m5s\u001b[0m 21ms/step - accuracy: 0.9916 - loss: 0.0235 - val_accuracy: 0.9270 - val_loss: 0.3975\n",
      "Epoch 38/80\n",
      "\u001b[1m235/235\u001b[0m \u001b[32m━━━━━━━━━━━━━━━━━━━━\u001b[0m\u001b[37m\u001b[0m \u001b[1m5s\u001b[0m 21ms/step - accuracy: 0.9913 - loss: 0.0240 - val_accuracy: 0.9299 - val_loss: 0.3996\n",
      "Epoch 39/80\n",
      "\u001b[1m235/235\u001b[0m \u001b[32m━━━━━━━━━━━━━━━━━━━━\u001b[0m\u001b[37m\u001b[0m \u001b[1m5s\u001b[0m 21ms/step - accuracy: 0.9916 - loss: 0.0226 - val_accuracy: 0.9252 - val_loss: 0.4374\n",
      "Epoch 40/80\n",
      "\u001b[1m235/235\u001b[0m \u001b[32m━━━━━━━━━━━━━━━━━━━━\u001b[0m\u001b[37m\u001b[0m \u001b[1m5s\u001b[0m 21ms/step - accuracy: 0.9912 - loss: 0.0244 - val_accuracy: 0.9286 - val_loss: 0.4114\n",
      "Epoch 41/80\n",
      "\u001b[1m235/235\u001b[0m \u001b[32m━━━━━━━━━━━━━━━━━━━━\u001b[0m\u001b[37m\u001b[0m \u001b[1m5s\u001b[0m 21ms/step - accuracy: 0.9921 - loss: 0.0229 - val_accuracy: 0.9261 - val_loss: 0.4292\n",
      "Epoch 42/80\n",
      "\u001b[1m235/235\u001b[0m \u001b[32m━━━━━━━━━━━━━━━━━━━━\u001b[0m\u001b[37m\u001b[0m \u001b[1m5s\u001b[0m 21ms/step - accuracy: 0.9933 - loss: 0.0188 - val_accuracy: 0.9259 - val_loss: 0.4269\n",
      "Epoch 43/80\n",
      "\u001b[1m235/235\u001b[0m \u001b[32m━━━━━━━━━━━━━━━━━━━━\u001b[0m\u001b[37m\u001b[0m \u001b[1m5s\u001b[0m 21ms/step - accuracy: 0.9933 - loss: 0.0188 - val_accuracy: 0.9246 - val_loss: 0.4424\n",
      "Epoch 44/80\n",
      "\u001b[1m235/235\u001b[0m \u001b[32m━━━━━━━━━━━━━━━━━━━━\u001b[0m\u001b[37m\u001b[0m \u001b[1m5s\u001b[0m 21ms/step - accuracy: 0.9919 - loss: 0.0232 - val_accuracy: 0.9256 - val_loss: 0.4640\n",
      "Epoch 45/80\n",
      "\u001b[1m235/235\u001b[0m \u001b[32m━━━━━━━━━━━━━━━━━━━━\u001b[0m\u001b[37m\u001b[0m \u001b[1m5s\u001b[0m 21ms/step - accuracy: 0.9923 - loss: 0.0227 - val_accuracy: 0.9276 - val_loss: 0.4513\n",
      "Epoch 46/80\n",
      "\u001b[1m235/235\u001b[0m \u001b[32m━━━━━━━━━━━━━━━━━━━━\u001b[0m\u001b[37m\u001b[0m \u001b[1m5s\u001b[0m 21ms/step - accuracy: 0.9931 - loss: 0.0197 - val_accuracy: 0.9243 - val_loss: 0.4636\n",
      "Epoch 47/80\n",
      "\u001b[1m235/235\u001b[0m \u001b[32m━━━━━━━━━━━━━━━━━━━━\u001b[0m\u001b[37m\u001b[0m \u001b[1m5s\u001b[0m 21ms/step - accuracy: 0.9941 - loss: 0.0169 - val_accuracy: 0.9261 - val_loss: 0.4646\n",
      "Epoch 48/80\n",
      "\u001b[1m235/235\u001b[0m \u001b[32m━━━━━━━━━━━━━━━━━━━━\u001b[0m\u001b[37m\u001b[0m \u001b[1m5s\u001b[0m 21ms/step - accuracy: 0.9931 - loss: 0.0207 - val_accuracy: 0.9248 - val_loss: 0.4701\n",
      "Epoch 49/80\n",
      "\u001b[1m235/235\u001b[0m \u001b[32m━━━━━━━━━━━━━━━━━━━━\u001b[0m\u001b[37m\u001b[0m \u001b[1m5s\u001b[0m 21ms/step - accuracy: 0.9939 - loss: 0.0173 - val_accuracy: 0.9248 - val_loss: 0.5022\n",
      "Epoch 50/80\n",
      "\u001b[1m235/235\u001b[0m \u001b[32m━━━━━━━━━━━━━━━━━━━━\u001b[0m\u001b[37m\u001b[0m \u001b[1m5s\u001b[0m 21ms/step - accuracy: 0.9916 - loss: 0.0224 - val_accuracy: 0.9259 - val_loss: 0.4870\n",
      "Epoch 51/80\n",
      "\u001b[1m235/235\u001b[0m \u001b[32m━━━━━━━━━━━━━━━━━━━━\u001b[0m\u001b[37m\u001b[0m \u001b[1m5s\u001b[0m 21ms/step - accuracy: 0.9938 - loss: 0.0183 - val_accuracy: 0.9229 - val_loss: 0.4974\n",
      "Epoch 52/80\n",
      "\u001b[1m235/235\u001b[0m \u001b[32m━━━━━━━━━━━━━━━━━━━━\u001b[0m\u001b[37m\u001b[0m \u001b[1m5s\u001b[0m 21ms/step - accuracy: 0.9924 - loss: 0.0232 - val_accuracy: 0.9289 - val_loss: 0.4562\n",
      "Epoch 53/80\n",
      "\u001b[1m235/235\u001b[0m \u001b[32m━━━━━━━━━━━━━━━━━━━━\u001b[0m\u001b[37m\u001b[0m \u001b[1m5s\u001b[0m 21ms/step - accuracy: 0.9942 - loss: 0.0178 - val_accuracy: 0.9247 - val_loss: 0.4898\n",
      "Epoch 54/80\n",
      "\u001b[1m235/235\u001b[0m \u001b[32m━━━━━━━━━━━━━━━━━━━━\u001b[0m\u001b[37m\u001b[0m \u001b[1m5s\u001b[0m 21ms/step - accuracy: 0.9933 - loss: 0.0212 - val_accuracy: 0.9223 - val_loss: 0.5029\n",
      "Epoch 55/80\n",
      "\u001b[1m235/235\u001b[0m \u001b[32m━━━━━━━━━━━━━━━━━━━━\u001b[0m\u001b[37m\u001b[0m \u001b[1m5s\u001b[0m 21ms/step - accuracy: 0.9940 - loss: 0.0184 - val_accuracy: 0.9276 - val_loss: 0.4799\n",
      "Epoch 56/80\n",
      "\u001b[1m235/235\u001b[0m \u001b[32m━━━━━━━━━━━━━━━━━━━━\u001b[0m\u001b[37m\u001b[0m \u001b[1m5s\u001b[0m 21ms/step - accuracy: 0.9941 - loss: 0.0178 - val_accuracy: 0.9267 - val_loss: 0.4863\n",
      "Epoch 57/80\n",
      "\u001b[1m235/235\u001b[0m \u001b[32m━━━━━━━━━━━━━━━━━━━━\u001b[0m\u001b[37m\u001b[0m \u001b[1m5s\u001b[0m 21ms/step - accuracy: 0.9942 - loss: 0.0167 - val_accuracy: 0.9266 - val_loss: 0.4992\n",
      "Epoch 58/80\n",
      "\u001b[1m235/235\u001b[0m \u001b[32m━━━━━━━━━━━━━━━━━━━━\u001b[0m\u001b[37m\u001b[0m \u001b[1m5s\u001b[0m 21ms/step - accuracy: 0.9947 - loss: 0.0156 - val_accuracy: 0.9252 - val_loss: 0.4892\n",
      "Epoch 59/80\n",
      "\u001b[1m235/235\u001b[0m \u001b[32m━━━━━━━━━━━━━━━━━━━━\u001b[0m\u001b[37m\u001b[0m \u001b[1m5s\u001b[0m 21ms/step - accuracy: 0.9941 - loss: 0.0188 - val_accuracy: 0.9208 - val_loss: 0.5133\n",
      "Epoch 60/80\n",
      "\u001b[1m235/235\u001b[0m \u001b[32m━━━━━━━━━━━━━━━━━━━━\u001b[0m\u001b[37m\u001b[0m \u001b[1m5s\u001b[0m 21ms/step - accuracy: 0.9929 - loss: 0.0233 - val_accuracy: 0.9238 - val_loss: 0.5108\n",
      "Epoch 61/80\n",
      "\u001b[1m235/235\u001b[0m \u001b[32m━━━━━━━━━━━━━━━━━━━━\u001b[0m\u001b[37m\u001b[0m \u001b[1m5s\u001b[0m 21ms/step - accuracy: 0.9946 - loss: 0.0154 - val_accuracy: 0.9267 - val_loss: 0.4977\n",
      "Epoch 62/80\n",
      "\u001b[1m235/235\u001b[0m \u001b[32m━━━━━━━━━━━━━━━━━━━━\u001b[0m\u001b[37m\u001b[0m \u001b[1m5s\u001b[0m 21ms/step - accuracy: 0.9946 - loss: 0.0151 - val_accuracy: 0.9268 - val_loss: 0.5109\n",
      "Epoch 63/80\n",
      "\u001b[1m235/235\u001b[0m \u001b[32m━━━━━━━━━━━━━━━━━━━━\u001b[0m\u001b[37m\u001b[0m \u001b[1m5s\u001b[0m 21ms/step - accuracy: 0.9950 - loss: 0.0153 - val_accuracy: 0.9271 - val_loss: 0.5129\n",
      "Epoch 64/80\n",
      "\u001b[1m235/235\u001b[0m \u001b[32m━━━━━━━━━━━━━━━━━━━━\u001b[0m\u001b[37m\u001b[0m \u001b[1m5s\u001b[0m 21ms/step - accuracy: 0.9951 - loss: 0.0142 - val_accuracy: 0.9279 - val_loss: 0.4950\n",
      "Epoch 65/80\n",
      "\u001b[1m235/235\u001b[0m \u001b[32m━━━━━━━━━━━━━━━━━━━━\u001b[0m\u001b[37m\u001b[0m \u001b[1m5s\u001b[0m 21ms/step - accuracy: 0.9954 - loss: 0.0134 - val_accuracy: 0.9237 - val_loss: 0.5351\n",
      "Epoch 66/80\n",
      "\u001b[1m235/235\u001b[0m \u001b[32m━━━━━━━━━━━━━━━━━━━━\u001b[0m\u001b[37m\u001b[0m \u001b[1m5s\u001b[0m 21ms/step - accuracy: 0.9946 - loss: 0.0174 - val_accuracy: 0.9287 - val_loss: 0.5365\n",
      "Epoch 67/80\n",
      "\u001b[1m235/235\u001b[0m \u001b[32m━━━━━━━━━━━━━━━━━━━━\u001b[0m\u001b[37m\u001b[0m \u001b[1m5s\u001b[0m 21ms/step - accuracy: 0.9943 - loss: 0.0179 - val_accuracy: 0.9265 - val_loss: 0.5228\n",
      "Epoch 68/80\n",
      "\u001b[1m235/235\u001b[0m \u001b[32m━━━━━━━━━━━━━━━━━━━━\u001b[0m\u001b[37m\u001b[0m \u001b[1m5s\u001b[0m 21ms/step - accuracy: 0.9947 - loss: 0.0168 - val_accuracy: 0.9251 - val_loss: 0.5454\n",
      "Epoch 69/80\n",
      "\u001b[1m235/235\u001b[0m \u001b[32m━━━━━━━━━━━━━━━━━━━━\u001b[0m\u001b[37m\u001b[0m \u001b[1m5s\u001b[0m 21ms/step - accuracy: 0.9949 - loss: 0.0159 - val_accuracy: 0.9262 - val_loss: 0.5592\n",
      "Epoch 70/80\n",
      "\u001b[1m235/235\u001b[0m \u001b[32m━━━━━━━━━━━━━━━━━━━━\u001b[0m\u001b[37m\u001b[0m \u001b[1m5s\u001b[0m 21ms/step - accuracy: 0.9953 - loss: 0.0142 - val_accuracy: 0.9242 - val_loss: 0.5768\n",
      "Epoch 71/80\n",
      "\u001b[1m235/235\u001b[0m \u001b[32m━━━━━━━━━━━━━━━━━━━━\u001b[0m\u001b[37m\u001b[0m \u001b[1m5s\u001b[0m 21ms/step - accuracy: 0.9957 - loss: 0.0126 - val_accuracy: 0.9266 - val_loss: 0.5290\n",
      "Epoch 72/80\n",
      "\u001b[1m235/235\u001b[0m \u001b[32m━━━━━━━━━━━━━━━━━━━━\u001b[0m\u001b[37m\u001b[0m \u001b[1m5s\u001b[0m 21ms/step - accuracy: 0.9945 - loss: 0.0163 - val_accuracy: 0.9258 - val_loss: 0.5374\n",
      "Epoch 73/80\n",
      "\u001b[1m235/235\u001b[0m \u001b[32m━━━━━━━━━━━━━━━━━━━━\u001b[0m\u001b[37m\u001b[0m \u001b[1m5s\u001b[0m 21ms/step - accuracy: 0.9948 - loss: 0.0154 - val_accuracy: 0.9277 - val_loss: 0.5661\n",
      "Epoch 74/80\n",
      "\u001b[1m235/235\u001b[0m \u001b[32m━━━━━━━━━━━━━━━━━━━━\u001b[0m\u001b[37m\u001b[0m \u001b[1m5s\u001b[0m 21ms/step - accuracy: 0.9958 - loss: 0.0129 - val_accuracy: 0.9252 - val_loss: 0.5575\n",
      "Epoch 75/80\n",
      "\u001b[1m235/235\u001b[0m \u001b[32m━━━━━━━━━━━━━━━━━━━━\u001b[0m\u001b[37m\u001b[0m \u001b[1m5s\u001b[0m 22ms/step - accuracy: 0.9948 - loss: 0.0155 - val_accuracy: 0.9266 - val_loss: 0.5815\n",
      "Epoch 76/80\n",
      "\u001b[1m235/235\u001b[0m \u001b[32m━━━━━━━━━━━━━━━━━━━━\u001b[0m\u001b[37m\u001b[0m \u001b[1m5s\u001b[0m 21ms/step - accuracy: 0.9946 - loss: 0.0188 - val_accuracy: 0.9219 - val_loss: 0.5458\n",
      "Epoch 77/80\n",
      "\u001b[1m235/235\u001b[0m \u001b[32m━━━━━━━━━━━━━━━━━━━━\u001b[0m\u001b[37m\u001b[0m \u001b[1m5s\u001b[0m 21ms/step - accuracy: 0.9945 - loss: 0.0159 - val_accuracy: 0.9242 - val_loss: 0.5472\n",
      "Epoch 78/80\n",
      "\u001b[1m235/235\u001b[0m \u001b[32m━━━━━━━━━━━━━━━━━━━━\u001b[0m\u001b[37m\u001b[0m \u001b[1m5s\u001b[0m 21ms/step - accuracy: 0.9953 - loss: 0.0145 - val_accuracy: 0.9233 - val_loss: 0.5467\n",
      "Epoch 79/80\n",
      "\u001b[1m235/235\u001b[0m \u001b[32m━━━━━━━━━━━━━━━━━━━━\u001b[0m\u001b[37m\u001b[0m \u001b[1m5s\u001b[0m 21ms/step - accuracy: 0.9962 - loss: 0.0117 - val_accuracy: 0.9273 - val_loss: 0.5661\n",
      "Epoch 80/80\n",
      "\u001b[1m235/235\u001b[0m \u001b[32m━━━━━━━━━━━━━━━━━━━━\u001b[0m\u001b[37m\u001b[0m \u001b[1m5s\u001b[0m 22ms/step - accuracy: 0.9956 - loss: 0.0132 - val_accuracy: 0.9257 - val_loss: 0.5749\n"
     ]
    },
    {
     "data": {
      "text/plain": [
       "<keras.src.callbacks.history.History at 0x1dc69457d70>"
      ]
     },
     "execution_count": 22,
     "metadata": {},
     "output_type": "execute_result"
    }
   ],
   "source": [
    "model.fit(\n",
    "  train_images,\n",
    "  to_categorical(train_labels),\n",
    "  batch_size = Batch_siza,\n",
    "  epochs=80,\n",
    "  validation_data=(test_images, to_categorical(test_labels)),\n",
    ")"
   ]
  },
  {
   "cell_type": "code",
   "execution_count": 197,
   "metadata": {},
   "outputs": [],
   "source": [
    "input_image = (28, 28, 1)\n",
    "Batch_siza = 256\n",
    "stride1 = 1\n",
    "stride2 = 1\n",
    "num_filters1 = 64\n",
    "num_filters2 = 32\n",
    "num_filters3 = 20\n",
    "filter_size1 = 3\n",
    "filter_size2 = 3\n",
    "filter_size3 = 4\n",
    "pool_size1 = 2\n",
    "pool_size2 = 2\n",
    "pool_size3 = 2\n",
    "dense_size1 = 256\n",
    "dense_size2 = 10\n",
    "x1 = int(((input_image[0]-filter_size1) + 1)/stride1)\n",
    "y1 = int(((input_image[1]-filter_size1) + 1)/stride1)\n",
    "output_image1 = (x1, y1, 1)\n",
    "x2 = int(((x1-filter_size2) + 1)/stride2)\n",
    "y2 = int(((y1-filter_size2) + 1)/stride2)\n",
    "output_image2 = (x2, y2, 1)"
   ]
  },
  {
   "cell_type": "code",
   "execution_count": 198,
   "metadata": {},
   "outputs": [
    {
     "name": "stderr",
     "output_type": "stream",
     "text": [
      "c:\\Users\\ASUS\\AppData\\Local\\Programs\\Python\\Python312\\Lib\\site-packages\\keras\\src\\layers\\convolutional\\base_conv.py:99: UserWarning: Do not pass an `input_shape`/`input_dim` argument to a layer. When using Sequential models, prefer using an `Input(shape)` object as the first layer in the model instead.\n",
      "  super().__init__(\n"
     ]
    }
   ],
   "source": [
    "model = Sequential([\n",
    "  Conv2D(num_filters1, filter_size1, padding=\"same\",kernel_initializer='he_normal', input_shape = input_image, strides= stride1),\n",
    "  MaxPooling2D(pool_size=pool_size1),\n",
    "  Conv2D(num_filters2, filter_size2, padding=\"same\", input_shape = output_image1, strides= stride1),\n",
    "  MaxPooling2D(pool_size = pool_size2),\n",
    "  Conv2D(num_filters3, filter_size3, input_shape = output_image2),\n",
    "  AveragePooling2D(pool_size = pool_size3),\n",
    "  Flatten(),\n",
    "  Dense(dense_size1, activation='relu'),\n",
    "  Dense(dense_size2, activation='softmax'),\n",
    "])"
   ]
  },
  {
   "cell_type": "code",
   "execution_count": 199,
   "metadata": {},
   "outputs": [],
   "source": [
    "model.compile(\n",
    "  \n",
    "  'Adam',\n",
    "  loss='categorical_crossentropy',\n",
    "  metrics=['accuracy'],\n",
    ")"
   ]
  },
  {
   "cell_type": "code",
   "execution_count": 202,
   "metadata": {},
   "outputs": [
    {
     "name": "stdout",
     "output_type": "stream",
     "text": [
      "Epoch 1/80\n",
      "\u001b[1m235/235\u001b[0m \u001b[32m━━━━━━━━━━━━━━━━━━━━\u001b[0m\u001b[37m\u001b[0m \u001b[1m5s\u001b[0m 21ms/step - accuracy: 0.8263 - loss: 38.8655 - val_accuracy: 0.8439 - val_loss: 4.4761\n",
      "Epoch 2/80\n",
      "\u001b[1m235/235\u001b[0m \u001b[32m━━━━━━━━━━━━━━━━━━━━\u001b[0m\u001b[37m\u001b[0m \u001b[1m5s\u001b[0m 20ms/step - accuracy: 0.8454 - loss: 3.2807 - val_accuracy: 0.8439 - val_loss: 2.0364\n",
      "Epoch 3/80\n",
      "\u001b[1m235/235\u001b[0m \u001b[32m━━━━━━━━━━━━━━━━━━━━\u001b[0m\u001b[37m\u001b[0m \u001b[1m5s\u001b[0m 20ms/step - accuracy: 0.8438 - loss: 1.5443 - val_accuracy: 0.8396 - val_loss: 1.2109\n",
      "Epoch 4/80\n",
      "\u001b[1m235/235\u001b[0m \u001b[32m━━━━━━━━━━━━━━━━━━━━\u001b[0m\u001b[37m\u001b[0m \u001b[1m5s\u001b[0m 20ms/step - accuracy: 0.8437 - loss: 1.0220 - val_accuracy: 0.8506 - val_loss: 0.9240\n",
      "Epoch 5/80\n",
      "\u001b[1m235/235\u001b[0m \u001b[32m━━━━━━━━━━━━━━━━━━━━\u001b[0m\u001b[37m\u001b[0m \u001b[1m5s\u001b[0m 20ms/step - accuracy: 0.8517 - loss: 0.7477 - val_accuracy: 0.8475 - val_loss: 0.7791\n",
      "Epoch 6/80\n",
      "\u001b[1m235/235\u001b[0m \u001b[32m━━━━━━━━━━━━━━━━━━━━\u001b[0m\u001b[37m\u001b[0m \u001b[1m5s\u001b[0m 20ms/step - accuracy: 0.8575 - loss: 0.5847 - val_accuracy: 0.8510 - val_loss: 0.7028\n",
      "Epoch 7/80\n",
      "\u001b[1m235/235\u001b[0m \u001b[32m━━━━━━━━━━━━━━━━━━━━\u001b[0m\u001b[37m\u001b[0m \u001b[1m5s\u001b[0m 20ms/step - accuracy: 0.8625 - loss: 0.5225 - val_accuracy: 0.8581 - val_loss: 0.6126\n",
      "Epoch 8/80\n",
      "\u001b[1m235/235\u001b[0m \u001b[32m━━━━━━━━━━━━━━━━━━━━\u001b[0m\u001b[37m\u001b[0m \u001b[1m5s\u001b[0m 20ms/step - accuracy: 0.8683 - loss: 0.4518 - val_accuracy: 0.8496 - val_loss: 0.5920\n",
      "Epoch 9/80\n",
      "\u001b[1m235/235\u001b[0m \u001b[32m━━━━━━━━━━━━━━━━━━━━\u001b[0m\u001b[37m\u001b[0m \u001b[1m5s\u001b[0m 20ms/step - accuracy: 0.8711 - loss: 0.4164 - val_accuracy: 0.8578 - val_loss: 0.5436\n",
      "Epoch 10/80\n",
      "\u001b[1m235/235\u001b[0m \u001b[32m━━━━━━━━━━━━━━━━━━━━\u001b[0m\u001b[37m\u001b[0m \u001b[1m5s\u001b[0m 21ms/step - accuracy: 0.8731 - loss: 0.3979 - val_accuracy: 0.8654 - val_loss: 0.4845\n",
      "Epoch 11/80\n",
      "\u001b[1m235/235\u001b[0m \u001b[32m━━━━━━━━━━━━━━━━━━━━\u001b[0m\u001b[37m\u001b[0m \u001b[1m5s\u001b[0m 21ms/step - accuracy: 0.8729 - loss: 0.3837 - val_accuracy: 0.8754 - val_loss: 0.4705\n",
      "Epoch 12/80\n",
      "\u001b[1m235/235\u001b[0m \u001b[32m━━━━━━━━━━━━━━━━━━━━\u001b[0m\u001b[37m\u001b[0m \u001b[1m5s\u001b[0m 20ms/step - accuracy: 0.8760 - loss: 0.3723 - val_accuracy: 0.8777 - val_loss: 0.4525\n",
      "Epoch 13/80\n",
      "\u001b[1m235/235\u001b[0m \u001b[32m━━━━━━━━━━━━━━━━━━━━\u001b[0m\u001b[37m\u001b[0m \u001b[1m5s\u001b[0m 20ms/step - accuracy: 0.8808 - loss: 0.3490 - val_accuracy: 0.8760 - val_loss: 0.4327\n",
      "Epoch 14/80\n",
      "\u001b[1m235/235\u001b[0m \u001b[32m━━━━━━━━━━━━━━━━━━━━\u001b[0m\u001b[37m\u001b[0m \u001b[1m5s\u001b[0m 20ms/step - accuracy: 0.8831 - loss: 0.3350 - val_accuracy: 0.8792 - val_loss: 0.4221\n",
      "Epoch 15/80\n",
      "\u001b[1m235/235\u001b[0m \u001b[32m━━━━━━━━━━━━━━━━━━━━\u001b[0m\u001b[37m\u001b[0m \u001b[1m5s\u001b[0m 20ms/step - accuracy: 0.8864 - loss: 0.3248 - val_accuracy: 0.8726 - val_loss: 0.4364\n",
      "Epoch 16/80\n",
      "\u001b[1m235/235\u001b[0m \u001b[32m━━━━━━━━━━━━━━━━━━━━\u001b[0m\u001b[37m\u001b[0m \u001b[1m5s\u001b[0m 20ms/step - accuracy: 0.8860 - loss: 0.3212 - val_accuracy: 0.8791 - val_loss: 0.4065\n",
      "Epoch 17/80\n",
      "\u001b[1m235/235\u001b[0m \u001b[32m━━━━━━━━━━━━━━━━━━━━\u001b[0m\u001b[37m\u001b[0m \u001b[1m5s\u001b[0m 20ms/step - accuracy: 0.8867 - loss: 0.3155 - val_accuracy: 0.8829 - val_loss: 0.3925\n",
      "Epoch 18/80\n",
      "\u001b[1m235/235\u001b[0m \u001b[32m━━━━━━━━━━━━━━━━━━━━\u001b[0m\u001b[37m\u001b[0m \u001b[1m5s\u001b[0m 21ms/step - accuracy: 0.8889 - loss: 0.3114 - val_accuracy: 0.8806 - val_loss: 0.4013\n",
      "Epoch 19/80\n",
      "\u001b[1m235/235\u001b[0m \u001b[32m━━━━━━━━━━━━━━━━━━━━\u001b[0m\u001b[37m\u001b[0m \u001b[1m5s\u001b[0m 21ms/step - accuracy: 0.8936 - loss: 0.2935 - val_accuracy: 0.8757 - val_loss: 0.4057\n",
      "Epoch 20/80\n",
      "\u001b[1m235/235\u001b[0m \u001b[32m━━━━━━━━━━━━━━━━━━━━\u001b[0m\u001b[37m\u001b[0m \u001b[1m5s\u001b[0m 21ms/step - accuracy: 0.8923 - loss: 0.2967 - val_accuracy: 0.8778 - val_loss: 0.3864\n",
      "Epoch 21/80\n",
      "\u001b[1m235/235\u001b[0m \u001b[32m━━━━━━━━━━━━━━━━━━━━\u001b[0m\u001b[37m\u001b[0m \u001b[1m5s\u001b[0m 21ms/step - accuracy: 0.8944 - loss: 0.2920 - val_accuracy: 0.8834 - val_loss: 0.3857\n",
      "Epoch 22/80\n",
      "\u001b[1m235/235\u001b[0m \u001b[32m━━━━━━━━━━━━━━━━━━━━\u001b[0m\u001b[37m\u001b[0m \u001b[1m5s\u001b[0m 21ms/step - accuracy: 0.8987 - loss: 0.2813 - val_accuracy: 0.8897 - val_loss: 0.3621\n",
      "Epoch 23/80\n",
      "\u001b[1m235/235\u001b[0m \u001b[32m━━━━━━━━━━━━━━━━━━━━\u001b[0m\u001b[37m\u001b[0m \u001b[1m5s\u001b[0m 21ms/step - accuracy: 0.8986 - loss: 0.2768 - val_accuracy: 0.8859 - val_loss: 0.3587\n",
      "Epoch 24/80\n",
      "\u001b[1m235/235\u001b[0m \u001b[32m━━━━━━━━━━━━━━━━━━━━\u001b[0m\u001b[37m\u001b[0m \u001b[1m5s\u001b[0m 22ms/step - accuracy: 0.8964 - loss: 0.2789 - val_accuracy: 0.8883 - val_loss: 0.3570\n",
      "Epoch 25/80\n",
      "\u001b[1m235/235\u001b[0m \u001b[32m━━━━━━━━━━━━━━━━━━━━\u001b[0m\u001b[37m\u001b[0m \u001b[1m5s\u001b[0m 21ms/step - accuracy: 0.9011 - loss: 0.2670 - val_accuracy: 0.8954 - val_loss: 0.3352\n",
      "Epoch 26/80\n",
      "\u001b[1m235/235\u001b[0m \u001b[32m━━━━━━━━━━━━━━━━━━━━\u001b[0m\u001b[37m\u001b[0m \u001b[1m5s\u001b[0m 21ms/step - accuracy: 0.9009 - loss: 0.2727 - val_accuracy: 0.8949 - val_loss: 0.3346\n",
      "Epoch 27/80\n",
      "\u001b[1m235/235\u001b[0m \u001b[32m━━━━━━━━━━━━━━━━━━━━\u001b[0m\u001b[37m\u001b[0m \u001b[1m5s\u001b[0m 21ms/step - accuracy: 0.9029 - loss: 0.2655 - val_accuracy: 0.8968 - val_loss: 0.3328\n",
      "Epoch 28/80\n",
      "\u001b[1m235/235\u001b[0m \u001b[32m━━━━━━━━━━━━━━━━━━━━\u001b[0m\u001b[37m\u001b[0m \u001b[1m5s\u001b[0m 20ms/step - accuracy: 0.9052 - loss: 0.2570 - val_accuracy: 0.8891 - val_loss: 0.3586\n",
      "Epoch 29/80\n",
      "\u001b[1m235/235\u001b[0m \u001b[32m━━━━━━━━━━━━━━━━━━━━\u001b[0m\u001b[37m\u001b[0m \u001b[1m5s\u001b[0m 20ms/step - accuracy: 0.9039 - loss: 0.2573 - val_accuracy: 0.8893 - val_loss: 0.3578\n",
      "Epoch 30/80\n",
      "\u001b[1m235/235\u001b[0m \u001b[32m━━━━━━━━━━━━━━━━━━━━\u001b[0m\u001b[37m\u001b[0m \u001b[1m5s\u001b[0m 20ms/step - accuracy: 0.9047 - loss: 0.2573 - val_accuracy: 0.8895 - val_loss: 0.3407\n",
      "Epoch 31/80\n",
      "\u001b[1m235/235\u001b[0m \u001b[32m━━━━━━━━━━━━━━━━━━━━\u001b[0m\u001b[37m\u001b[0m \u001b[1m5s\u001b[0m 20ms/step - accuracy: 0.9066 - loss: 0.2481 - val_accuracy: 0.8997 - val_loss: 0.3209\n",
      "Epoch 32/80\n",
      "\u001b[1m235/235\u001b[0m \u001b[32m━━━━━━━━━━━━━━━━━━━━\u001b[0m\u001b[37m\u001b[0m \u001b[1m5s\u001b[0m 20ms/step - accuracy: 0.9100 - loss: 0.2430 - val_accuracy: 0.8974 - val_loss: 0.3154\n",
      "Epoch 33/80\n",
      "\u001b[1m235/235\u001b[0m \u001b[32m━━━━━━━━━━━━━━━━━━━━\u001b[0m\u001b[37m\u001b[0m \u001b[1m5s\u001b[0m 20ms/step - accuracy: 0.9108 - loss: 0.2414 - val_accuracy: 0.9015 - val_loss: 0.3120\n",
      "Epoch 34/80\n",
      "\u001b[1m235/235\u001b[0m \u001b[32m━━━━━━━━━━━━━━━━━━━━\u001b[0m\u001b[37m\u001b[0m \u001b[1m5s\u001b[0m 20ms/step - accuracy: 0.9122 - loss: 0.2366 - val_accuracy: 0.9031 - val_loss: 0.3121\n",
      "Epoch 35/80\n",
      "\u001b[1m235/235\u001b[0m \u001b[32m━━━━━━━━━━━━━━━━━━━━\u001b[0m\u001b[37m\u001b[0m \u001b[1m5s\u001b[0m 20ms/step - accuracy: 0.9147 - loss: 0.2333 - val_accuracy: 0.9059 - val_loss: 0.3094\n",
      "Epoch 36/80\n",
      "\u001b[1m235/235\u001b[0m \u001b[32m━━━━━━━━━━━━━━━━━━━━\u001b[0m\u001b[37m\u001b[0m \u001b[1m5s\u001b[0m 20ms/step - accuracy: 0.9160 - loss: 0.2270 - val_accuracy: 0.9016 - val_loss: 0.3103\n",
      "Epoch 37/80\n",
      "\u001b[1m235/235\u001b[0m \u001b[32m━━━━━━━━━━━━━━━━━━━━\u001b[0m\u001b[37m\u001b[0m \u001b[1m5s\u001b[0m 20ms/step - accuracy: 0.9154 - loss: 0.2242 - val_accuracy: 0.8999 - val_loss: 0.3126\n",
      "Epoch 38/80\n",
      "\u001b[1m235/235\u001b[0m \u001b[32m━━━━━━━━━━━━━━━━━━━━\u001b[0m\u001b[37m\u001b[0m \u001b[1m5s\u001b[0m 21ms/step - accuracy: 0.9178 - loss: 0.2194 - val_accuracy: 0.9000 - val_loss: 0.3124\n",
      "Epoch 39/80\n",
      "\u001b[1m235/235\u001b[0m \u001b[32m━━━━━━━━━━━━━━━━━━━━\u001b[0m\u001b[37m\u001b[0m \u001b[1m5s\u001b[0m 20ms/step - accuracy: 0.9174 - loss: 0.2218 - val_accuracy: 0.8981 - val_loss: 0.3217\n",
      "Epoch 40/80\n",
      "\u001b[1m235/235\u001b[0m \u001b[32m━━━━━━━━━━━━━━━━━━━━\u001b[0m\u001b[37m\u001b[0m \u001b[1m5s\u001b[0m 20ms/step - accuracy: 0.9192 - loss: 0.2181 - val_accuracy: 0.9002 - val_loss: 0.3148\n",
      "Epoch 41/80\n",
      "\u001b[1m235/235\u001b[0m \u001b[32m━━━━━━━━━━━━━━━━━━━━\u001b[0m\u001b[37m\u001b[0m \u001b[1m5s\u001b[0m 20ms/step - accuracy: 0.9208 - loss: 0.2135 - val_accuracy: 0.9012 - val_loss: 0.3162\n",
      "Epoch 42/80\n",
      "\u001b[1m235/235\u001b[0m \u001b[32m━━━━━━━━━━━━━━━━━━━━\u001b[0m\u001b[37m\u001b[0m \u001b[1m5s\u001b[0m 20ms/step - accuracy: 0.9264 - loss: 0.2016 - val_accuracy: 0.9055 - val_loss: 0.2932\n",
      "Epoch 43/80\n",
      "\u001b[1m235/235\u001b[0m \u001b[32m━━━━━━━━━━━━━━━━━━━━\u001b[0m\u001b[37m\u001b[0m \u001b[1m5s\u001b[0m 20ms/step - accuracy: 0.9242 - loss: 0.2045 - val_accuracy: 0.8975 - val_loss: 0.3161\n",
      "Epoch 44/80\n",
      "\u001b[1m235/235\u001b[0m \u001b[32m━━━━━━━━━━━━━━━━━━━━\u001b[0m\u001b[37m\u001b[0m \u001b[1m5s\u001b[0m 20ms/step - accuracy: 0.9239 - loss: 0.2029 - val_accuracy: 0.9078 - val_loss: 0.2917\n",
      "Epoch 45/80\n",
      "\u001b[1m235/235\u001b[0m \u001b[32m━━━━━━━━━━━━━━━━━━━━\u001b[0m\u001b[37m\u001b[0m \u001b[1m5s\u001b[0m 20ms/step - accuracy: 0.9264 - loss: 0.1974 - val_accuracy: 0.8980 - val_loss: 0.3280\n",
      "Epoch 46/80\n",
      "\u001b[1m235/235\u001b[0m \u001b[32m━━━━━━━━━━━━━━━━━━━━\u001b[0m\u001b[37m\u001b[0m \u001b[1m5s\u001b[0m 20ms/step - accuracy: 0.9270 - loss: 0.1922 - val_accuracy: 0.9040 - val_loss: 0.3084\n",
      "Epoch 47/80\n",
      "\u001b[1m235/235\u001b[0m \u001b[32m━━━━━━━━━━━━━━━━━━━━\u001b[0m\u001b[37m\u001b[0m \u001b[1m5s\u001b[0m 20ms/step - accuracy: 0.9280 - loss: 0.1908 - val_accuracy: 0.9127 - val_loss: 0.2959\n",
      "Epoch 48/80\n",
      "\u001b[1m235/235\u001b[0m \u001b[32m━━━━━━━━━━━━━━━━━━━━\u001b[0m\u001b[37m\u001b[0m \u001b[1m5s\u001b[0m 20ms/step - accuracy: 0.9321 - loss: 0.1869 - val_accuracy: 0.9072 - val_loss: 0.3079\n",
      "Epoch 49/80\n",
      "\u001b[1m235/235\u001b[0m \u001b[32m━━━━━━━━━━━━━━━━━━━━\u001b[0m\u001b[37m\u001b[0m \u001b[1m5s\u001b[0m 20ms/step - accuracy: 0.9321 - loss: 0.1843 - val_accuracy: 0.9068 - val_loss: 0.2993\n",
      "Epoch 50/80\n",
      "\u001b[1m235/235\u001b[0m \u001b[32m━━━━━━━━━━━━━━━━━━━━\u001b[0m\u001b[37m\u001b[0m \u001b[1m5s\u001b[0m 20ms/step - accuracy: 0.9351 - loss: 0.1747 - val_accuracy: 0.9111 - val_loss: 0.3059\n",
      "Epoch 51/80\n",
      "\u001b[1m235/235\u001b[0m \u001b[32m━━━━━━━━━━━━━━━━━━━━\u001b[0m\u001b[37m\u001b[0m \u001b[1m5s\u001b[0m 20ms/step - accuracy: 0.9354 - loss: 0.1709 - val_accuracy: 0.9092 - val_loss: 0.3011\n",
      "Epoch 52/80\n",
      "\u001b[1m235/235\u001b[0m \u001b[32m━━━━━━━━━━━━━━━━━━━━\u001b[0m\u001b[37m\u001b[0m \u001b[1m5s\u001b[0m 21ms/step - accuracy: 0.9387 - loss: 0.1648 - val_accuracy: 0.9079 - val_loss: 0.3015\n",
      "Epoch 53/80\n",
      "\u001b[1m235/235\u001b[0m \u001b[32m━━━━━━━━━━━━━━━━━━━━\u001b[0m\u001b[37m\u001b[0m \u001b[1m5s\u001b[0m 20ms/step - accuracy: 0.9368 - loss: 0.1688 - val_accuracy: 0.9063 - val_loss: 0.3091\n",
      "Epoch 54/80\n",
      "\u001b[1m235/235\u001b[0m \u001b[32m━━━━━━━━━━━━━━━━━━━━\u001b[0m\u001b[37m\u001b[0m \u001b[1m5s\u001b[0m 20ms/step - accuracy: 0.9380 - loss: 0.1672 - val_accuracy: 0.9095 - val_loss: 0.2965\n",
      "Epoch 55/80\n",
      "\u001b[1m235/235\u001b[0m \u001b[32m━━━━━━━━━━━━━━━━━━━━\u001b[0m\u001b[37m\u001b[0m \u001b[1m5s\u001b[0m 20ms/step - accuracy: 0.9400 - loss: 0.1585 - val_accuracy: 0.9103 - val_loss: 0.2966\n",
      "Epoch 56/80\n",
      "\u001b[1m235/235\u001b[0m \u001b[32m━━━━━━━━━━━━━━━━━━━━\u001b[0m\u001b[37m\u001b[0m \u001b[1m5s\u001b[0m 20ms/step - accuracy: 0.9418 - loss: 0.1552 - val_accuracy: 0.9077 - val_loss: 0.3099\n",
      "Epoch 57/80\n",
      "\u001b[1m235/235\u001b[0m \u001b[32m━━━━━━━━━━━━━━━━━━━━\u001b[0m\u001b[37m\u001b[0m \u001b[1m5s\u001b[0m 20ms/step - accuracy: 0.9410 - loss: 0.1602 - val_accuracy: 0.9054 - val_loss: 0.3111\n",
      "Epoch 58/80\n",
      "\u001b[1m235/235\u001b[0m \u001b[32m━━━━━━━━━━━━━━━━━━━━\u001b[0m\u001b[37m\u001b[0m \u001b[1m5s\u001b[0m 20ms/step - accuracy: 0.9366 - loss: 0.1680 - val_accuracy: 0.9105 - val_loss: 0.3030\n",
      "Epoch 59/80\n",
      "\u001b[1m235/235\u001b[0m \u001b[32m━━━━━━━━━━━━━━━━━━━━\u001b[0m\u001b[37m\u001b[0m \u001b[1m5s\u001b[0m 20ms/step - accuracy: 0.9442 - loss: 0.1468 - val_accuracy: 0.9133 - val_loss: 0.3073\n",
      "Epoch 60/80\n",
      "\u001b[1m235/235\u001b[0m \u001b[32m━━━━━━━━━━━━━━━━━━━━\u001b[0m\u001b[37m\u001b[0m \u001b[1m5s\u001b[0m 20ms/step - accuracy: 0.9465 - loss: 0.1410 - val_accuracy: 0.9085 - val_loss: 0.3126\n",
      "Epoch 61/80\n",
      "\u001b[1m235/235\u001b[0m \u001b[32m━━━━━━━━━━━━━━━━━━━━\u001b[0m\u001b[37m\u001b[0m \u001b[1m5s\u001b[0m 20ms/step - accuracy: 0.9459 - loss: 0.1432 - val_accuracy: 0.9110 - val_loss: 0.3366\n",
      "Epoch 62/80\n",
      "\u001b[1m235/235\u001b[0m \u001b[32m━━━━━━━━━━━━━━━━━━━━\u001b[0m\u001b[37m\u001b[0m \u001b[1m5s\u001b[0m 20ms/step - accuracy: 0.9495 - loss: 0.1368 - val_accuracy: 0.9126 - val_loss: 0.3149\n",
      "Epoch 63/80\n",
      "\u001b[1m235/235\u001b[0m \u001b[32m━━━━━━━━━━━━━━━━━━━━\u001b[0m\u001b[37m\u001b[0m \u001b[1m5s\u001b[0m 20ms/step - accuracy: 0.9483 - loss: 0.1346 - val_accuracy: 0.9082 - val_loss: 0.3316\n",
      "Epoch 64/80\n",
      "\u001b[1m235/235\u001b[0m \u001b[32m━━━━━━━━━━━━━━━━━━━━\u001b[0m\u001b[37m\u001b[0m \u001b[1m5s\u001b[0m 20ms/step - accuracy: 0.9524 - loss: 0.1285 - val_accuracy: 0.9102 - val_loss: 0.3136\n",
      "Epoch 65/80\n",
      "\u001b[1m235/235\u001b[0m \u001b[32m━━━━━━━━━━━━━━━━━━━━\u001b[0m\u001b[37m\u001b[0m \u001b[1m5s\u001b[0m 20ms/step - accuracy: 0.9498 - loss: 0.1323 - val_accuracy: 0.9103 - val_loss: 0.3140\n",
      "Epoch 66/80\n",
      "\u001b[1m235/235\u001b[0m \u001b[32m━━━━━━━━━━━━━━━━━━━━\u001b[0m\u001b[37m\u001b[0m \u001b[1m5s\u001b[0m 20ms/step - accuracy: 0.9535 - loss: 0.1251 - val_accuracy: 0.9120 - val_loss: 0.3316\n",
      "Epoch 67/80\n",
      "\u001b[1m235/235\u001b[0m \u001b[32m━━━━━━━━━━━━━━━━━━━━\u001b[0m\u001b[37m\u001b[0m \u001b[1m5s\u001b[0m 21ms/step - accuracy: 0.9518 - loss: 0.1279 - val_accuracy: 0.9114 - val_loss: 0.3242\n",
      "Epoch 68/80\n",
      "\u001b[1m235/235\u001b[0m \u001b[32m━━━━━━━━━━━━━━━━━━━━\u001b[0m\u001b[37m\u001b[0m \u001b[1m5s\u001b[0m 20ms/step - accuracy: 0.9544 - loss: 0.1191 - val_accuracy: 0.9072 - val_loss: 0.3309\n",
      "Epoch 69/80\n",
      "\u001b[1m235/235\u001b[0m \u001b[32m━━━━━━━━━━━━━━━━━━━━\u001b[0m\u001b[37m\u001b[0m \u001b[1m5s\u001b[0m 20ms/step - accuracy: 0.9514 - loss: 0.1296 - val_accuracy: 0.9127 - val_loss: 0.3267\n",
      "Epoch 70/80\n",
      "\u001b[1m235/235\u001b[0m \u001b[32m━━━━━━━━━━━━━━━━━━━━\u001b[0m\u001b[37m\u001b[0m \u001b[1m5s\u001b[0m 20ms/step - accuracy: 0.9530 - loss: 0.1226 - val_accuracy: 0.9108 - val_loss: 0.3465\n",
      "Epoch 71/80\n",
      "\u001b[1m235/235\u001b[0m \u001b[32m━━━━━━━━━━━━━━━━━━━━\u001b[0m\u001b[37m\u001b[0m \u001b[1m5s\u001b[0m 20ms/step - accuracy: 0.9559 - loss: 0.1180 - val_accuracy: 0.9043 - val_loss: 0.3626\n",
      "Epoch 72/80\n",
      "\u001b[1m235/235\u001b[0m \u001b[32m━━━━━━━━━━━━━━━━━━━━\u001b[0m\u001b[37m\u001b[0m \u001b[1m5s\u001b[0m 20ms/step - accuracy: 0.9578 - loss: 0.1128 - val_accuracy: 0.9062 - val_loss: 0.3781\n",
      "Epoch 73/80\n",
      "\u001b[1m235/235\u001b[0m \u001b[32m━━━━━━━━━━━━━━━━━━━━\u001b[0m\u001b[37m\u001b[0m \u001b[1m5s\u001b[0m 20ms/step - accuracy: 0.9615 - loss: 0.1043 - val_accuracy: 0.9097 - val_loss: 0.3712\n",
      "Epoch 74/80\n",
      "\u001b[1m235/235\u001b[0m \u001b[32m━━━━━━━━━━━━━━━━━━━━\u001b[0m\u001b[37m\u001b[0m \u001b[1m5s\u001b[0m 20ms/step - accuracy: 0.9598 - loss: 0.1087 - val_accuracy: 0.9080 - val_loss: 0.3702\n",
      "Epoch 75/80\n",
      "\u001b[1m235/235\u001b[0m \u001b[32m━━━━━━━━━━━━━━━━━━━━\u001b[0m\u001b[37m\u001b[0m \u001b[1m5s\u001b[0m 20ms/step - accuracy: 0.9586 - loss: 0.1119 - val_accuracy: 0.9091 - val_loss: 0.3603\n",
      "Epoch 76/80\n",
      "\u001b[1m235/235\u001b[0m \u001b[32m━━━━━━━━━━━━━━━━━━━━\u001b[0m\u001b[37m\u001b[0m \u001b[1m5s\u001b[0m 20ms/step - accuracy: 0.9593 - loss: 0.1095 - val_accuracy: 0.9106 - val_loss: 0.3643\n",
      "Epoch 77/80\n",
      "\u001b[1m235/235\u001b[0m \u001b[32m━━━━━━━━━━━━━━━━━━━━\u001b[0m\u001b[37m\u001b[0m \u001b[1m5s\u001b[0m 20ms/step - accuracy: 0.9603 - loss: 0.1062 - val_accuracy: 0.9116 - val_loss: 0.3700\n",
      "Epoch 78/80\n",
      "\u001b[1m235/235\u001b[0m \u001b[32m━━━━━━━━━━━━━━━━━━━━\u001b[0m\u001b[37m\u001b[0m \u001b[1m5s\u001b[0m 20ms/step - accuracy: 0.9615 - loss: 0.1036 - val_accuracy: 0.9090 - val_loss: 0.3479\n",
      "Epoch 79/80\n",
      "\u001b[1m235/235\u001b[0m \u001b[32m━━━━━━━━━━━━━━━━━━━━\u001b[0m\u001b[37m\u001b[0m \u001b[1m5s\u001b[0m 20ms/step - accuracy: 0.9648 - loss: 0.0963 - val_accuracy: 0.9118 - val_loss: 0.3687\n",
      "Epoch 80/80\n",
      "\u001b[1m235/235\u001b[0m \u001b[32m━━━━━━━━━━━━━━━━━━━━\u001b[0m\u001b[37m\u001b[0m \u001b[1m5s\u001b[0m 21ms/step - accuracy: 0.9658 - loss: 0.0920 - val_accuracy: 0.9091 - val_loss: 0.3799\n"
     ]
    },
    {
     "data": {
      "text/plain": [
       "<keras.src.callbacks.history.History at 0x1eb31278650>"
      ]
     },
     "execution_count": 202,
     "metadata": {},
     "output_type": "execute_result"
    }
   ],
   "source": [
    "model.fit(\n",
    "  train_images,\n",
    "  to_categorical(train_labels),\n",
    "  batch_size = Batch_siza,\n",
    "  epochs=80,\n",
    "  validation_data=(test_images, to_categorical(test_labels)),\n",
    ")"
   ]
  },
  {
   "cell_type": "code",
   "execution_count": 203,
   "metadata": {},
   "outputs": [
    {
     "name": "stderr",
     "output_type": "stream",
     "text": [
      "c:\\Users\\ASUS\\AppData\\Local\\Programs\\Python\\Python312\\Lib\\site-packages\\keras\\src\\layers\\convolutional\\base_conv.py:99: UserWarning: Do not pass an `input_shape`/`input_dim` argument to a layer. When using Sequential models, prefer using an `Input(shape)` object as the first layer in the model instead.\n",
      "  super().__init__(\n"
     ]
    }
   ],
   "source": [
    "model = Sequential([\n",
    "  Conv2D(num_filters1, filter_size1, padding=\"same\",kernel_initializer='he_normal', input_shape = input_image, strides= stride1),\n",
    "  MaxPooling2D(pool_size=pool_size1),\n",
    "  Conv2D(num_filters2, filter_size2, padding=\"same\", input_shape = output_image1, strides= stride1),\n",
    "  AveragePooling2D(pool_size = pool_size2),\n",
    "  Conv2D(num_filters3, filter_size3, input_shape = output_image2),\n",
    "  MaxPooling2D(pool_size = pool_size3),\n",
    "  Flatten(),\n",
    "  Dense(dense_size1, activation='relu'),\n",
    "  Dense(dense_size2, activation='softmax'),\n",
    "])"
   ]
  },
  {
   "cell_type": "code",
   "execution_count": 204,
   "metadata": {},
   "outputs": [],
   "source": [
    "input_image = (28, 28, 1)\n",
    "Batch_siza = 256\n",
    "stride1 = 1\n",
    "stride2 = 1\n",
    "num_filters1 = 64\n",
    "num_filters2 = 32\n",
    "num_filters3 = 20\n",
    "filter_size1 = 3\n",
    "filter_size2 = 3\n",
    "filter_size3 = 4\n",
    "pool_size1 = 2\n",
    "pool_size2 = 2\n",
    "pool_size3 = 2\n",
    "dense_size1 = 256\n",
    "dense_size2 = 10\n",
    "x1 = int(((input_image[0]-filter_size1) + 1)/stride1)\n",
    "y1 = int(((input_image[1]-filter_size1) + 1)/stride1)\n",
    "output_image1 = (x1, y1, 1)\n",
    "x2 = int(((x1-filter_size2) + 1)/stride2)\n",
    "y2 = int(((y1-filter_size2) + 1)/stride2)\n",
    "output_image2 = (x2, y2, 1)\n",
    "\n",
    "## 91%"
   ]
  },
  {
   "cell_type": "code",
   "execution_count": 205,
   "metadata": {},
   "outputs": [],
   "source": [
    "model = Sequential([\n",
    "  Conv2D(num_filters1, filter_size1, padding=\"same\",kernel_initializer='he_normal', input_shape = input_image, strides= stride1),\n",
    "  MaxPooling2D(pool_size=pool_size1),\n",
    "  Conv2D(num_filters2, filter_size2, padding=\"same\", input_shape = output_image1, strides= stride1),\n",
    "  MaxPooling2D(pool_size = pool_size2),\n",
    "  Conv2D(num_filters3, filter_size3, input_shape = output_image2),\n",
    "  MaxPooling2D(pool_size = pool_size3),\n",
    "  Flatten(),\n",
    "  Dense(dense_size1, activation='relu'),\n",
    "  Dense(dense_size2, activation='softmax'),\n",
    "])"
   ]
  },
  {
   "cell_type": "code",
   "execution_count": 206,
   "metadata": {},
   "outputs": [],
   "source": [
    "model.compile(\n",
    "  \n",
    "  'Adam',\n",
    "  loss='categorical_crossentropy',\n",
    "  metrics=['accuracy'],\n",
    ")"
   ]
  },
  {
   "cell_type": "code",
   "execution_count": 207,
   "metadata": {},
   "outputs": [
    {
     "name": "stdout",
     "output_type": "stream",
     "text": [
      "Epoch 1/30\n",
      "\u001b[1m235/235\u001b[0m \u001b[32m━━━━━━━━━━━━━━━━━━━━\u001b[0m\u001b[37m\u001b[0m \u001b[1m6s\u001b[0m 21ms/step - accuracy: 0.7152 - loss: 0.8339 - val_accuracy: 0.8347 - val_loss: 0.4310\n",
      "Epoch 2/30\n",
      "\u001b[1m235/235\u001b[0m \u001b[32m━━━━━━━━━━━━━━━━━━━━\u001b[0m\u001b[37m\u001b[0m \u001b[1m5s\u001b[0m 20ms/step - accuracy: 0.8567 - loss: 0.3991 - val_accuracy: 0.8666 - val_loss: 0.3657\n",
      "Epoch 3/30\n",
      "\u001b[1m235/235\u001b[0m \u001b[32m━━━━━━━━━━━━━━━━━━━━\u001b[0m\u001b[37m\u001b[0m \u001b[1m5s\u001b[0m 19ms/step - accuracy: 0.8751 - loss: 0.3451 - val_accuracy: 0.8850 - val_loss: 0.3101\n",
      "Epoch 4/30\n",
      "\u001b[1m235/235\u001b[0m \u001b[32m━━━━━━━━━━━━━━━━━━━━\u001b[0m\u001b[37m\u001b[0m \u001b[1m5s\u001b[0m 20ms/step - accuracy: 0.8939 - loss: 0.2970 - val_accuracy: 0.8856 - val_loss: 0.3072\n",
      "Epoch 5/30\n",
      "\u001b[1m235/235\u001b[0m \u001b[32m━━━━━━━━━━━━━━━━━━━━\u001b[0m\u001b[37m\u001b[0m \u001b[1m5s\u001b[0m 20ms/step - accuracy: 0.8987 - loss: 0.2791 - val_accuracy: 0.8929 - val_loss: 0.2945\n",
      "Epoch 6/30\n",
      "\u001b[1m235/235\u001b[0m \u001b[32m━━━━━━━━━━━━━━━━━━━━\u001b[0m\u001b[37m\u001b[0m \u001b[1m5s\u001b[0m 20ms/step - accuracy: 0.9057 - loss: 0.2630 - val_accuracy: 0.8983 - val_loss: 0.2893\n",
      "Epoch 7/30\n",
      "\u001b[1m235/235\u001b[0m \u001b[32m━━━━━━━━━━━━━━━━━━━━\u001b[0m\u001b[37m\u001b[0m \u001b[1m5s\u001b[0m 20ms/step - accuracy: 0.9109 - loss: 0.2417 - val_accuracy: 0.9044 - val_loss: 0.2626\n",
      "Epoch 8/30\n",
      "\u001b[1m235/235\u001b[0m \u001b[32m━━━━━━━━━━━━━━━━━━━━\u001b[0m\u001b[37m\u001b[0m \u001b[1m5s\u001b[0m 20ms/step - accuracy: 0.9198 - loss: 0.2220 - val_accuracy: 0.9067 - val_loss: 0.2697\n",
      "Epoch 9/30\n",
      "\u001b[1m235/235\u001b[0m \u001b[32m━━━━━━━━━━━━━━━━━━━━\u001b[0m\u001b[37m\u001b[0m \u001b[1m5s\u001b[0m 20ms/step - accuracy: 0.9221 - loss: 0.2119 - val_accuracy: 0.9091 - val_loss: 0.2663\n",
      "Epoch 10/30\n",
      "\u001b[1m235/235\u001b[0m \u001b[32m━━━━━━━━━━━━━━━━━━━━\u001b[0m\u001b[37m\u001b[0m \u001b[1m5s\u001b[0m 20ms/step - accuracy: 0.9243 - loss: 0.2045 - val_accuracy: 0.9082 - val_loss: 0.2724\n",
      "Epoch 11/30\n",
      "\u001b[1m235/235\u001b[0m \u001b[32m━━━━━━━━━━━━━━━━━━━━\u001b[0m\u001b[37m\u001b[0m \u001b[1m5s\u001b[0m 20ms/step - accuracy: 0.9305 - loss: 0.1933 - val_accuracy: 0.8959 - val_loss: 0.2902\n",
      "Epoch 12/30\n",
      "\u001b[1m235/235\u001b[0m \u001b[32m━━━━━━━━━━━━━━━━━━━━\u001b[0m\u001b[37m\u001b[0m \u001b[1m5s\u001b[0m 19ms/step - accuracy: 0.9327 - loss: 0.1792 - val_accuracy: 0.9073 - val_loss: 0.2752\n",
      "Epoch 13/30\n",
      "\u001b[1m235/235\u001b[0m \u001b[32m━━━━━━━━━━━━━━━━━━━━\u001b[0m\u001b[37m\u001b[0m \u001b[1m5s\u001b[0m 20ms/step - accuracy: 0.9345 - loss: 0.1752 - val_accuracy: 0.9088 - val_loss: 0.2720\n",
      "Epoch 14/30\n",
      "\u001b[1m235/235\u001b[0m \u001b[32m━━━━━━━━━━━━━━━━━━━━\u001b[0m\u001b[37m\u001b[0m \u001b[1m5s\u001b[0m 20ms/step - accuracy: 0.9412 - loss: 0.1599 - val_accuracy: 0.9113 - val_loss: 0.2641\n",
      "Epoch 15/30\n",
      "\u001b[1m235/235\u001b[0m \u001b[32m━━━━━━━━━━━━━━━━━━━━\u001b[0m\u001b[37m\u001b[0m \u001b[1m5s\u001b[0m 21ms/step - accuracy: 0.9440 - loss: 0.1485 - val_accuracy: 0.9088 - val_loss: 0.2660\n",
      "Epoch 16/30\n",
      "\u001b[1m235/235\u001b[0m \u001b[32m━━━━━━━━━━━━━━━━━━━━\u001b[0m\u001b[37m\u001b[0m \u001b[1m5s\u001b[0m 20ms/step - accuracy: 0.9458 - loss: 0.1472 - val_accuracy: 0.9065 - val_loss: 0.2867\n",
      "Epoch 17/30\n",
      "\u001b[1m235/235\u001b[0m \u001b[32m━━━━━━━━━━━━━━━━━━━━\u001b[0m\u001b[37m\u001b[0m \u001b[1m5s\u001b[0m 20ms/step - accuracy: 0.9449 - loss: 0.1492 - val_accuracy: 0.9103 - val_loss: 0.2759\n",
      "Epoch 18/30\n",
      "\u001b[1m235/235\u001b[0m \u001b[32m━━━━━━━━━━━━━━━━━━━━\u001b[0m\u001b[37m\u001b[0m \u001b[1m5s\u001b[0m 20ms/step - accuracy: 0.9525 - loss: 0.1307 - val_accuracy: 0.9125 - val_loss: 0.2832\n",
      "Epoch 19/30\n",
      "\u001b[1m235/235\u001b[0m \u001b[32m━━━━━━━━━━━━━━━━━━━━\u001b[0m\u001b[37m\u001b[0m \u001b[1m5s\u001b[0m 20ms/step - accuracy: 0.9537 - loss: 0.1250 - val_accuracy: 0.9123 - val_loss: 0.2803\n",
      "Epoch 20/30\n",
      "\u001b[1m235/235\u001b[0m \u001b[32m━━━━━━━━━━━━━━━━━━━━\u001b[0m\u001b[37m\u001b[0m \u001b[1m5s\u001b[0m 20ms/step - accuracy: 0.9572 - loss: 0.1172 - val_accuracy: 0.9124 - val_loss: 0.2938\n",
      "Epoch 21/30\n",
      "\u001b[1m235/235\u001b[0m \u001b[32m━━━━━━━━━━━━━━━━━━━━\u001b[0m\u001b[37m\u001b[0m \u001b[1m5s\u001b[0m 20ms/step - accuracy: 0.9594 - loss: 0.1111 - val_accuracy: 0.9097 - val_loss: 0.3013\n",
      "Epoch 22/30\n",
      "\u001b[1m235/235\u001b[0m \u001b[32m━━━━━━━━━━━━━━━━━━━━\u001b[0m\u001b[37m\u001b[0m \u001b[1m5s\u001b[0m 20ms/step - accuracy: 0.9625 - loss: 0.1044 - val_accuracy: 0.9064 - val_loss: 0.3082\n",
      "Epoch 23/30\n",
      "\u001b[1m235/235\u001b[0m \u001b[32m━━━━━━━━━━━━━━━━━━━━\u001b[0m\u001b[37m\u001b[0m \u001b[1m5s\u001b[0m 20ms/step - accuracy: 0.9642 - loss: 0.0980 - val_accuracy: 0.9122 - val_loss: 0.3073\n",
      "Epoch 24/30\n",
      "\u001b[1m235/235\u001b[0m \u001b[32m━━━━━━━━━━━━━━━━━━━━\u001b[0m\u001b[37m\u001b[0m \u001b[1m5s\u001b[0m 20ms/step - accuracy: 0.9679 - loss: 0.0906 - val_accuracy: 0.9098 - val_loss: 0.3143\n",
      "Epoch 25/30\n",
      "\u001b[1m235/235\u001b[0m \u001b[32m━━━━━━━━━━━━━━━━━━━━\u001b[0m\u001b[37m\u001b[0m \u001b[1m5s\u001b[0m 20ms/step - accuracy: 0.9701 - loss: 0.0848 - val_accuracy: 0.9133 - val_loss: 0.3257\n",
      "Epoch 26/30\n",
      "\u001b[1m235/235\u001b[0m \u001b[32m━━━━━━━━━━━━━━━━━━━━\u001b[0m\u001b[37m\u001b[0m \u001b[1m5s\u001b[0m 20ms/step - accuracy: 0.9722 - loss: 0.0792 - val_accuracy: 0.9120 - val_loss: 0.3377\n",
      "Epoch 27/30\n",
      "\u001b[1m235/235\u001b[0m \u001b[32m━━━━━━━━━━━━━━━━━━━━\u001b[0m\u001b[37m\u001b[0m \u001b[1m5s\u001b[0m 20ms/step - accuracy: 0.9697 - loss: 0.0823 - val_accuracy: 0.9090 - val_loss: 0.3491\n",
      "Epoch 28/30\n",
      "\u001b[1m235/235\u001b[0m \u001b[32m━━━━━━━━━━━━━━━━━━━━\u001b[0m\u001b[37m\u001b[0m \u001b[1m5s\u001b[0m 20ms/step - accuracy: 0.9739 - loss: 0.0729 - val_accuracy: 0.9113 - val_loss: 0.3544\n",
      "Epoch 29/30\n",
      "\u001b[1m235/235\u001b[0m \u001b[32m━━━━━━━━━━━━━━━━━━━━\u001b[0m\u001b[37m\u001b[0m \u001b[1m5s\u001b[0m 21ms/step - accuracy: 0.9752 - loss: 0.0696 - val_accuracy: 0.9075 - val_loss: 0.3717\n",
      "Epoch 30/30\n",
      "\u001b[1m235/235\u001b[0m \u001b[32m━━━━━━━━━━━━━━━━━━━━\u001b[0m\u001b[37m\u001b[0m \u001b[1m5s\u001b[0m 20ms/step - accuracy: 0.9747 - loss: 0.0687 - val_accuracy: 0.9112 - val_loss: 0.3768\n"
     ]
    },
    {
     "data": {
      "text/plain": [
       "<keras.src.callbacks.history.History at 0x1eb379b4470>"
      ]
     },
     "execution_count": 207,
     "metadata": {},
     "output_type": "execute_result"
    }
   ],
   "source": [
    "model.fit(\n",
    "  train_images,\n",
    "  to_categorical(train_labels),\n",
    "  batch_size = Batch_siza,\n",
    "  epochs=30,\n",
    "  validation_data=(test_images, to_categorical(test_labels)),\n",
    ")"
   ]
  },
  {
   "cell_type": "code",
   "execution_count": 208,
   "metadata": {},
   "outputs": [],
   "source": [
    "model.compile(\n",
    "  \n",
    "  'Adam',\n",
    "  loss='categorical_crossentropy',\n",
    "  metrics=['accuracy'],\n",
    ")"
   ]
  },
  {
   "cell_type": "code",
   "execution_count": 209,
   "metadata": {},
   "outputs": [
    {
     "name": "stdout",
     "output_type": "stream",
     "text": [
      "Epoch 1/15\n",
      "\u001b[1m235/235\u001b[0m \u001b[32m━━━━━━━━━━━━━━━━━━━━\u001b[0m\u001b[37m\u001b[0m \u001b[1m5s\u001b[0m 20ms/step - accuracy: 0.9753 - loss: 0.0674 - val_accuracy: 0.9089 - val_loss: 0.4041\n",
      "Epoch 2/15\n",
      "\u001b[1m235/235\u001b[0m \u001b[32m━━━━━━━━━━━━━━━━━━━━\u001b[0m\u001b[37m\u001b[0m \u001b[1m5s\u001b[0m 20ms/step - accuracy: 0.9775 - loss: 0.0611 - val_accuracy: 0.9038 - val_loss: 0.4323\n",
      "Epoch 3/15\n",
      "\u001b[1m235/235\u001b[0m \u001b[32m━━━━━━━━━━━━━━━━━━━━\u001b[0m\u001b[37m\u001b[0m \u001b[1m5s\u001b[0m 20ms/step - accuracy: 0.9785 - loss: 0.0568 - val_accuracy: 0.9089 - val_loss: 0.4180\n",
      "Epoch 4/15\n",
      "\u001b[1m235/235\u001b[0m \u001b[32m━━━━━━━━━━━━━━━━━━━━\u001b[0m\u001b[37m\u001b[0m \u001b[1m5s\u001b[0m 20ms/step - accuracy: 0.9814 - loss: 0.0524 - val_accuracy: 0.9141 - val_loss: 0.4200\n",
      "Epoch 5/15\n",
      "\u001b[1m235/235\u001b[0m \u001b[32m━━━━━━━━━━━━━━━━━━━━\u001b[0m\u001b[37m\u001b[0m \u001b[1m5s\u001b[0m 20ms/step - accuracy: 0.9810 - loss: 0.0506 - val_accuracy: 0.9059 - val_loss: 0.4458\n",
      "Epoch 6/15\n",
      "\u001b[1m235/235\u001b[0m \u001b[32m━━━━━━━━━━━━━━━━━━━━\u001b[0m\u001b[37m\u001b[0m \u001b[1m5s\u001b[0m 19ms/step - accuracy: 0.9835 - loss: 0.0459 - val_accuracy: 0.9040 - val_loss: 0.4781\n",
      "Epoch 7/15\n",
      "\u001b[1m235/235\u001b[0m \u001b[32m━━━━━━━━━━━━━━━━━━━━\u001b[0m\u001b[37m\u001b[0m \u001b[1m5s\u001b[0m 20ms/step - accuracy: 0.9861 - loss: 0.0401 - val_accuracy: 0.9072 - val_loss: 0.5051\n",
      "Epoch 8/15\n",
      "\u001b[1m235/235\u001b[0m \u001b[32m━━━━━━━━━━━━━━━━━━━━\u001b[0m\u001b[37m\u001b[0m \u001b[1m5s\u001b[0m 20ms/step - accuracy: 0.9820 - loss: 0.0488 - val_accuracy: 0.9040 - val_loss: 0.4775\n",
      "Epoch 9/15\n",
      "\u001b[1m235/235\u001b[0m \u001b[32m━━━━━━━━━━━━━━━━━━━━\u001b[0m\u001b[37m\u001b[0m \u001b[1m5s\u001b[0m 20ms/step - accuracy: 0.9841 - loss: 0.0437 - val_accuracy: 0.9075 - val_loss: 0.4876\n",
      "Epoch 10/15\n",
      "\u001b[1m235/235\u001b[0m \u001b[32m━━━━━━━━━━━━━━━━━━━━\u001b[0m\u001b[37m\u001b[0m \u001b[1m5s\u001b[0m 20ms/step - accuracy: 0.9876 - loss: 0.0338 - val_accuracy: 0.9086 - val_loss: 0.5071\n",
      "Epoch 11/15\n",
      "\u001b[1m235/235\u001b[0m \u001b[32m━━━━━━━━━━━━━━━━━━━━\u001b[0m\u001b[37m\u001b[0m \u001b[1m5s\u001b[0m 20ms/step - accuracy: 0.9846 - loss: 0.0436 - val_accuracy: 0.9042 - val_loss: 0.5306\n",
      "Epoch 12/15\n",
      "\u001b[1m235/235\u001b[0m \u001b[32m━━━━━━━━━━━━━━━━━━━━\u001b[0m\u001b[37m\u001b[0m \u001b[1m5s\u001b[0m 20ms/step - accuracy: 0.9821 - loss: 0.0487 - val_accuracy: 0.9075 - val_loss: 0.5508\n",
      "Epoch 13/15\n",
      "\u001b[1m235/235\u001b[0m \u001b[32m━━━━━━━━━━━━━━━━━━━━\u001b[0m\u001b[37m\u001b[0m \u001b[1m5s\u001b[0m 21ms/step - accuracy: 0.9869 - loss: 0.0367 - val_accuracy: 0.9076 - val_loss: 0.5492\n",
      "Epoch 14/15\n",
      "\u001b[1m235/235\u001b[0m \u001b[32m━━━━━━━━━━━━━━━━━━━━\u001b[0m\u001b[37m\u001b[0m \u001b[1m5s\u001b[0m 20ms/step - accuracy: 0.9902 - loss: 0.0284 - val_accuracy: 0.9082 - val_loss: 0.5578\n",
      "Epoch 15/15\n",
      "\u001b[1m235/235\u001b[0m \u001b[32m━━━━━━━━━━━━━━━━━━━━\u001b[0m\u001b[37m\u001b[0m \u001b[1m5s\u001b[0m 20ms/step - accuracy: 0.9906 - loss: 0.0264 - val_accuracy: 0.9029 - val_loss: 0.5728\n"
     ]
    },
    {
     "data": {
      "text/plain": [
       "<keras.src.callbacks.history.History at 0x1eb307e57c0>"
      ]
     },
     "execution_count": 209,
     "metadata": {},
     "output_type": "execute_result"
    }
   ],
   "source": [
    "model.fit(\n",
    "  train_images,\n",
    "  to_categorical(train_labels),\n",
    "  batch_size = Batch_siza,\n",
    "  epochs=15,\n",
    "  validation_data=(test_images, to_categorical(test_labels)),\n",
    ")"
   ]
  },
  {
   "cell_type": "code",
   "execution_count": 210,
   "metadata": {},
   "outputs": [],
   "source": [
    "input_image = (28, 28, 1)\n",
    "Batch_siza = 256\n",
    "stride1 = 1\n",
    "stride2 = 1\n",
    "num_filters1 = 64\n",
    "num_filters2 = 32\n",
    "num_filters3 = 20\n",
    "filter_size1 = 3\n",
    "filter_size2 = 3\n",
    "filter_size3 = 4\n",
    "pool_size1 = 2\n",
    "pool_size2 = 2\n",
    "pool_size3 = 2\n",
    "dense_size1 = 256\n",
    "dense_size2 = 10\n",
    "x1 = int(((input_image[0]-filter_size1) + 1)/stride1)\n",
    "y1 = int(((input_image[1]-filter_size1) + 1)/stride1)\n",
    "output_image1 = (x1, y1, 1)\n",
    "x2 = int(((x1-filter_size2) + 1)/stride2)\n",
    "y2 = int(((y1-filter_size2) + 1)/stride2)\n",
    "output_image2 = (x2, y2, 1)\n",
    "\n",
    "# 91% with 15 epoch"
   ]
  },
  {
   "cell_type": "code",
   "execution_count": 211,
   "metadata": {},
   "outputs": [],
   "source": [
    "model = Sequential([\n",
    "  Conv2D(num_filters1, filter_size1, padding=\"same\",kernel_initializer='he_normal', input_shape = input_image, strides= stride1),\n",
    "  MaxPooling2D(pool_size=pool_size1),\n",
    "  Conv2D(num_filters2, filter_size2, padding=\"same\", input_shape = output_image1, strides= stride1),\n",
    "  MaxPooling2D(pool_size = pool_size2),\n",
    "  Conv2D(num_filters3, filter_size3, input_shape = output_image2),\n",
    "  MaxPooling2D(pool_size = pool_size3),\n",
    "  Flatten(),\n",
    "  Dense(dense_size1, activation='relu'),\n",
    "  Dense(dense_size2, activation='softmax'),\n",
    "])\n"
   ]
  },
  {
   "cell_type": "code",
   "execution_count": 212,
   "metadata": {},
   "outputs": [],
   "source": [
    "model.compile(\n",
    "  \n",
    "  'Adam',\n",
    "  loss='categorical_crossentropy',\n",
    "  metrics=['accuracy'],\n",
    ")"
   ]
  },
  {
   "cell_type": "code",
   "execution_count": 213,
   "metadata": {},
   "outputs": [
    {
     "name": "stdout",
     "output_type": "stream",
     "text": [
      "Epoch 1/40\n",
      "\u001b[1m235/235\u001b[0m \u001b[32m━━━━━━━━━━━━━━━━━━━━\u001b[0m\u001b[37m\u001b[0m \u001b[1m5s\u001b[0m 20ms/step - accuracy: 0.6884 - loss: 0.8793 - val_accuracy: 0.8542 - val_loss: 0.4072\n",
      "Epoch 2/40\n",
      "\u001b[1m235/235\u001b[0m \u001b[32m━━━━━━━━━━━━━━━━━━━━\u001b[0m\u001b[37m\u001b[0m \u001b[1m5s\u001b[0m 20ms/step - accuracy: 0.8609 - loss: 0.3911 - val_accuracy: 0.8767 - val_loss: 0.3443\n",
      "Epoch 3/40\n",
      "\u001b[1m235/235\u001b[0m \u001b[32m━━━━━━━━━━━━━━━━━━━━\u001b[0m\u001b[37m\u001b[0m \u001b[1m5s\u001b[0m 20ms/step - accuracy: 0.8798 - loss: 0.3363 - val_accuracy: 0.8772 - val_loss: 0.3283\n",
      "Epoch 4/40\n",
      "\u001b[1m235/235\u001b[0m \u001b[32m━━━━━━━━━━━━━━━━━━━━\u001b[0m\u001b[37m\u001b[0m \u001b[1m5s\u001b[0m 20ms/step - accuracy: 0.8941 - loss: 0.3000 - val_accuracy: 0.8930 - val_loss: 0.2963\n",
      "Epoch 5/40\n",
      "\u001b[1m235/235\u001b[0m \u001b[32m━━━━━━━━━━━━━━━━━━━━\u001b[0m\u001b[37m\u001b[0m \u001b[1m5s\u001b[0m 20ms/step - accuracy: 0.8987 - loss: 0.2818 - val_accuracy: 0.9003 - val_loss: 0.2793\n",
      "Epoch 6/40\n",
      "\u001b[1m235/235\u001b[0m \u001b[32m━━━━━━━━━━━━━━━━━━━━\u001b[0m\u001b[37m\u001b[0m \u001b[1m5s\u001b[0m 20ms/step - accuracy: 0.9106 - loss: 0.2503 - val_accuracy: 0.8967 - val_loss: 0.2914\n",
      "Epoch 7/40\n",
      "\u001b[1m235/235\u001b[0m \u001b[32m━━━━━━━━━━━━━━━━━━━━\u001b[0m\u001b[37m\u001b[0m \u001b[1m5s\u001b[0m 20ms/step - accuracy: 0.9144 - loss: 0.2395 - val_accuracy: 0.9031 - val_loss: 0.2691\n",
      "Epoch 8/40\n",
      "\u001b[1m235/235\u001b[0m \u001b[32m━━━━━━━━━━━━━━━━━━━━\u001b[0m\u001b[37m\u001b[0m \u001b[1m5s\u001b[0m 20ms/step - accuracy: 0.9168 - loss: 0.2291 - val_accuracy: 0.9024 - val_loss: 0.2732\n",
      "Epoch 9/40\n",
      "\u001b[1m235/235\u001b[0m \u001b[32m━━━━━━━━━━━━━━━━━━━━\u001b[0m\u001b[37m\u001b[0m \u001b[1m5s\u001b[0m 20ms/step - accuracy: 0.9239 - loss: 0.2106 - val_accuracy: 0.9067 - val_loss: 0.2693\n",
      "Epoch 10/40\n",
      "\u001b[1m235/235\u001b[0m \u001b[32m━━━━━━━━━━━━━━━━━━━━\u001b[0m\u001b[37m\u001b[0m \u001b[1m5s\u001b[0m 20ms/step - accuracy: 0.9262 - loss: 0.2035 - val_accuracy: 0.9085 - val_loss: 0.2628\n",
      "Epoch 11/40\n",
      "\u001b[1m235/235\u001b[0m \u001b[32m━━━━━━━━━━━━━━━━━━━━\u001b[0m\u001b[37m\u001b[0m \u001b[1m5s\u001b[0m 20ms/step - accuracy: 0.9353 - loss: 0.1816 - val_accuracy: 0.9104 - val_loss: 0.2576\n",
      "Epoch 12/40\n",
      "\u001b[1m235/235\u001b[0m \u001b[32m━━━━━━━━━━━━━━━━━━━━\u001b[0m\u001b[37m\u001b[0m \u001b[1m5s\u001b[0m 21ms/step - accuracy: 0.9367 - loss: 0.1738 - val_accuracy: 0.9113 - val_loss: 0.2567\n",
      "Epoch 13/40\n",
      "\u001b[1m235/235\u001b[0m \u001b[32m━━━━━━━━━━━━━━━━━━━━\u001b[0m\u001b[37m\u001b[0m \u001b[1m5s\u001b[0m 20ms/step - accuracy: 0.9407 - loss: 0.1635 - val_accuracy: 0.9076 - val_loss: 0.2649\n",
      "Epoch 14/40\n",
      "\u001b[1m235/235\u001b[0m \u001b[32m━━━━━━━━━━━━━━━━━━━━\u001b[0m\u001b[37m\u001b[0m \u001b[1m5s\u001b[0m 20ms/step - accuracy: 0.9414 - loss: 0.1584 - val_accuracy: 0.9075 - val_loss: 0.2661\n",
      "Epoch 15/40\n",
      "\u001b[1m235/235\u001b[0m \u001b[32m━━━━━━━━━━━━━━━━━━━━\u001b[0m\u001b[37m\u001b[0m \u001b[1m5s\u001b[0m 20ms/step - accuracy: 0.9437 - loss: 0.1534 - val_accuracy: 0.9092 - val_loss: 0.2692\n",
      "Epoch 16/40\n",
      "\u001b[1m235/235\u001b[0m \u001b[32m━━━━━━━━━━━━━━━━━━━━\u001b[0m\u001b[37m\u001b[0m \u001b[1m5s\u001b[0m 20ms/step - accuracy: 0.9465 - loss: 0.1457 - val_accuracy: 0.9094 - val_loss: 0.2812\n",
      "Epoch 17/40\n",
      "\u001b[1m235/235\u001b[0m \u001b[32m━━━━━━━━━━━━━━━━━━━━\u001b[0m\u001b[37m\u001b[0m \u001b[1m5s\u001b[0m 20ms/step - accuracy: 0.9509 - loss: 0.1350 - val_accuracy: 0.9127 - val_loss: 0.2698\n",
      "Epoch 18/40\n",
      "\u001b[1m235/235\u001b[0m \u001b[32m━━━━━━━━━━━━━━━━━━━━\u001b[0m\u001b[37m\u001b[0m \u001b[1m5s\u001b[0m 20ms/step - accuracy: 0.9554 - loss: 0.1227 - val_accuracy: 0.9083 - val_loss: 0.2924\n",
      "Epoch 19/40\n",
      "\u001b[1m235/235\u001b[0m \u001b[32m━━━━━━━━━━━━━━━━━━━━\u001b[0m\u001b[37m\u001b[0m \u001b[1m5s\u001b[0m 20ms/step - accuracy: 0.9555 - loss: 0.1229 - val_accuracy: 0.9141 - val_loss: 0.2755\n",
      "Epoch 20/40\n",
      "\u001b[1m235/235\u001b[0m \u001b[32m━━━━━━━━━━━━━━━━━━━━\u001b[0m\u001b[37m\u001b[0m \u001b[1m5s\u001b[0m 20ms/step - accuracy: 0.9591 - loss: 0.1138 - val_accuracy: 0.9042 - val_loss: 0.3040\n",
      "Epoch 21/40\n",
      "\u001b[1m235/235\u001b[0m \u001b[32m━━━━━━━━━━━━━━━━━━━━\u001b[0m\u001b[37m\u001b[0m \u001b[1m5s\u001b[0m 20ms/step - accuracy: 0.9592 - loss: 0.1087 - val_accuracy: 0.9099 - val_loss: 0.2914\n",
      "Epoch 22/40\n",
      "\u001b[1m235/235\u001b[0m \u001b[32m━━━━━━━━━━━━━━━━━━━━\u001b[0m\u001b[37m\u001b[0m \u001b[1m5s\u001b[0m 20ms/step - accuracy: 0.9608 - loss: 0.1050 - val_accuracy: 0.9120 - val_loss: 0.3015\n",
      "Epoch 23/40\n",
      "\u001b[1m235/235\u001b[0m \u001b[32m━━━━━━━━━━━━━━━━━━━━\u001b[0m\u001b[37m\u001b[0m \u001b[1m5s\u001b[0m 20ms/step - accuracy: 0.9650 - loss: 0.0942 - val_accuracy: 0.9053 - val_loss: 0.3167\n",
      "Epoch 24/40\n",
      "\u001b[1m235/235\u001b[0m \u001b[32m━━━━━━━━━━━━━━━━━━━━\u001b[0m\u001b[37m\u001b[0m \u001b[1m5s\u001b[0m 20ms/step - accuracy: 0.9665 - loss: 0.0919 - val_accuracy: 0.9102 - val_loss: 0.3119\n",
      "Epoch 25/40\n",
      "\u001b[1m235/235\u001b[0m \u001b[32m━━━━━━━━━━━━━━━━━━━━\u001b[0m\u001b[37m\u001b[0m \u001b[1m5s\u001b[0m 20ms/step - accuracy: 0.9684 - loss: 0.0873 - val_accuracy: 0.9084 - val_loss: 0.3238\n",
      "Epoch 26/40\n",
      "\u001b[1m235/235\u001b[0m \u001b[32m━━━━━━━━━━━━━━━━━━━━\u001b[0m\u001b[37m\u001b[0m \u001b[1m5s\u001b[0m 21ms/step - accuracy: 0.9665 - loss: 0.0905 - val_accuracy: 0.9105 - val_loss: 0.3330\n",
      "Epoch 27/40\n",
      "\u001b[1m235/235\u001b[0m \u001b[32m━━━━━━━━━━━━━━━━━━━━\u001b[0m\u001b[37m\u001b[0m \u001b[1m5s\u001b[0m 20ms/step - accuracy: 0.9724 - loss: 0.0744 - val_accuracy: 0.9083 - val_loss: 0.3489\n",
      "Epoch 28/40\n",
      "\u001b[1m235/235\u001b[0m \u001b[32m━━━━━━━━━━━━━━━━━━━━\u001b[0m\u001b[37m\u001b[0m \u001b[1m5s\u001b[0m 20ms/step - accuracy: 0.9726 - loss: 0.0744 - val_accuracy: 0.9073 - val_loss: 0.3771\n",
      "Epoch 29/40\n",
      "\u001b[1m235/235\u001b[0m \u001b[32m━━━━━━━━━━━━━━━━━━━━\u001b[0m\u001b[37m\u001b[0m \u001b[1m5s\u001b[0m 20ms/step - accuracy: 0.9754 - loss: 0.0692 - val_accuracy: 0.9105 - val_loss: 0.3661\n",
      "Epoch 30/40\n",
      "\u001b[1m235/235\u001b[0m \u001b[32m━━━━━━━━━━━━━━━━━━━━\u001b[0m\u001b[37m\u001b[0m \u001b[1m5s\u001b[0m 20ms/step - accuracy: 0.9758 - loss: 0.0658 - val_accuracy: 0.9119 - val_loss: 0.3721\n",
      "Epoch 31/40\n",
      "\u001b[1m235/235\u001b[0m \u001b[32m━━━━━━━━━━━━━━━━━━━━\u001b[0m\u001b[37m\u001b[0m \u001b[1m5s\u001b[0m 20ms/step - accuracy: 0.9777 - loss: 0.0604 - val_accuracy: 0.9117 - val_loss: 0.3753\n",
      "Epoch 32/40\n",
      "\u001b[1m235/235\u001b[0m \u001b[32m━━━━━━━━━━━━━━━━━━━━\u001b[0m\u001b[37m\u001b[0m \u001b[1m5s\u001b[0m 20ms/step - accuracy: 0.9808 - loss: 0.0529 - val_accuracy: 0.9047 - val_loss: 0.3929\n",
      "Epoch 33/40\n",
      "\u001b[1m235/235\u001b[0m \u001b[32m━━━━━━━━━━━━━━━━━━━━\u001b[0m\u001b[37m\u001b[0m \u001b[1m5s\u001b[0m 20ms/step - accuracy: 0.9810 - loss: 0.0531 - val_accuracy: 0.9067 - val_loss: 0.4124\n",
      "Epoch 34/40\n",
      "\u001b[1m235/235\u001b[0m \u001b[32m━━━━━━━━━━━━━━━━━━━━\u001b[0m\u001b[37m\u001b[0m \u001b[1m5s\u001b[0m 20ms/step - accuracy: 0.9821 - loss: 0.0516 - val_accuracy: 0.9039 - val_loss: 0.4411\n",
      "Epoch 35/40\n",
      "\u001b[1m235/235\u001b[0m \u001b[32m━━━━━━━━━━━━━━━━━━━━\u001b[0m\u001b[37m\u001b[0m \u001b[1m5s\u001b[0m 20ms/step - accuracy: 0.9837 - loss: 0.0470 - val_accuracy: 0.9075 - val_loss: 0.4268\n",
      "Epoch 36/40\n",
      "\u001b[1m235/235\u001b[0m \u001b[32m━━━━━━━━━━━━━━━━━━━━\u001b[0m\u001b[37m\u001b[0m \u001b[1m5s\u001b[0m 20ms/step - accuracy: 0.9849 - loss: 0.0422 - val_accuracy: 0.9075 - val_loss: 0.4451\n",
      "Epoch 37/40\n",
      "\u001b[1m235/235\u001b[0m \u001b[32m━━━━━━━━━━━━━━━━━━━━\u001b[0m\u001b[37m\u001b[0m \u001b[1m5s\u001b[0m 20ms/step - accuracy: 0.9810 - loss: 0.0536 - val_accuracy: 0.9051 - val_loss: 0.4784\n",
      "Epoch 38/40\n",
      "\u001b[1m235/235\u001b[0m \u001b[32m━━━━━━━━━━━━━━━━━━━━\u001b[0m\u001b[37m\u001b[0m \u001b[1m5s\u001b[0m 20ms/step - accuracy: 0.9811 - loss: 0.0494 - val_accuracy: 0.9064 - val_loss: 0.4673\n",
      "Epoch 39/40\n",
      "\u001b[1m235/235\u001b[0m \u001b[32m━━━━━━━━━━━━━━━━━━━━\u001b[0m\u001b[37m\u001b[0m \u001b[1m5s\u001b[0m 20ms/step - accuracy: 0.9856 - loss: 0.0396 - val_accuracy: 0.9082 - val_loss: 0.4815\n",
      "Epoch 40/40\n",
      "\u001b[1m235/235\u001b[0m \u001b[32m━━━━━━━━━━━━━━━━━━━━\u001b[0m\u001b[37m\u001b[0m \u001b[1m5s\u001b[0m 21ms/step - accuracy: 0.9841 - loss: 0.0448 - val_accuracy: 0.9065 - val_loss: 0.5114\n"
     ]
    },
    {
     "data": {
      "text/plain": [
       "<keras.src.callbacks.history.History at 0x1eb2cd82c90>"
      ]
     },
     "execution_count": 213,
     "metadata": {},
     "output_type": "execute_result"
    }
   ],
   "source": [
    "model.fit(\n",
    "  train_images,\n",
    "  to_categorical(train_labels),\n",
    "  batch_size = Batch_siza,\n",
    "  epochs=40,\n",
    "  validation_data=(test_images, to_categorical(test_labels)),\n",
    ")"
   ]
  },
  {
   "cell_type": "code",
   "execution_count": 214,
   "metadata": {},
   "outputs": [],
   "source": [
    "model = Sequential([\n",
    "  Conv2D(num_filters1, filter_size1, padding=\"same\",kernel_initializer='he_normal', input_shape = input_image, strides= stride1),\n",
    "  AveragePooling2D(pool_size=pool_size1),\n",
    "  Conv2D(num_filters2, filter_size2, padding=\"same\", input_shape = output_image1, strides= stride1),\n",
    "  AveragePooling2D(pool_size = pool_size2),\n",
    "  Flatten(),\n",
    "  Dense(dense_size1, activation='relu'),\n",
    "  Dense(dense_size2, activation='softmax'),\n",
    "])"
   ]
  },
  {
   "cell_type": "code",
   "execution_count": 215,
   "metadata": {},
   "outputs": [],
   "source": [
    "model.compile(\n",
    "  \n",
    "  'Adam',\n",
    "  loss='categorical_crossentropy',\n",
    "  metrics=['accuracy'],\n",
    ")"
   ]
  },
  {
   "cell_type": "code",
   "execution_count": 216,
   "metadata": {},
   "outputs": [
    {
     "name": "stdout",
     "output_type": "stream",
     "text": [
      "Epoch 1/40\n",
      "\u001b[1m235/235\u001b[0m \u001b[32m━━━━━━━━━━━━━━━━━━━━\u001b[0m\u001b[37m\u001b[0m \u001b[1m6s\u001b[0m 23ms/step - accuracy: 0.7360 - loss: 0.7423 - val_accuracy: 0.8574 - val_loss: 0.4091\n",
      "Epoch 2/40\n",
      "\u001b[1m235/235\u001b[0m \u001b[32m━━━━━━━━━━━━━━━━━━━━\u001b[0m\u001b[37m\u001b[0m \u001b[1m5s\u001b[0m 22ms/step - accuracy: 0.8637 - loss: 0.3864 - val_accuracy: 0.8740 - val_loss: 0.3563\n",
      "Epoch 3/40\n",
      "\u001b[1m235/235\u001b[0m \u001b[32m━━━━━━━━━━━━━━━━━━━━\u001b[0m\u001b[37m\u001b[0m \u001b[1m5s\u001b[0m 22ms/step - accuracy: 0.8776 - loss: 0.3373 - val_accuracy: 0.8750 - val_loss: 0.3361\n",
      "Epoch 4/40\n",
      "\u001b[1m235/235\u001b[0m \u001b[32m━━━━━━━━━━━━━━━━━━━━\u001b[0m\u001b[37m\u001b[0m \u001b[1m5s\u001b[0m 22ms/step - accuracy: 0.8892 - loss: 0.3054 - val_accuracy: 0.8814 - val_loss: 0.3345\n",
      "Epoch 5/40\n",
      "\u001b[1m235/235\u001b[0m \u001b[32m━━━━━━━━━━━━━━━━━━━━\u001b[0m\u001b[37m\u001b[0m \u001b[1m5s\u001b[0m 22ms/step - accuracy: 0.8942 - loss: 0.2842 - val_accuracy: 0.8839 - val_loss: 0.3217\n",
      "Epoch 6/40\n",
      "\u001b[1m235/235\u001b[0m \u001b[32m━━━━━━━━━━━━━━━━━━━━\u001b[0m\u001b[37m\u001b[0m \u001b[1m5s\u001b[0m 22ms/step - accuracy: 0.9027 - loss: 0.2661 - val_accuracy: 0.8950 - val_loss: 0.2908\n",
      "Epoch 7/40\n",
      "\u001b[1m235/235\u001b[0m \u001b[32m━━━━━━━━━━━━━━━━━━━━\u001b[0m\u001b[37m\u001b[0m \u001b[1m5s\u001b[0m 22ms/step - accuracy: 0.9087 - loss: 0.2450 - val_accuracy: 0.8890 - val_loss: 0.3113\n",
      "Epoch 8/40\n",
      "\u001b[1m235/235\u001b[0m \u001b[32m━━━━━━━━━━━━━━━━━━━━\u001b[0m\u001b[37m\u001b[0m \u001b[1m5s\u001b[0m 22ms/step - accuracy: 0.9164 - loss: 0.2295 - val_accuracy: 0.8892 - val_loss: 0.3007\n",
      "Epoch 9/40\n",
      "\u001b[1m235/235\u001b[0m \u001b[32m━━━━━━━━━━━━━━━━━━━━\u001b[0m\u001b[37m\u001b[0m \u001b[1m5s\u001b[0m 22ms/step - accuracy: 0.9186 - loss: 0.2204 - val_accuracy: 0.8953 - val_loss: 0.2873\n",
      "Epoch 10/40\n",
      "\u001b[1m235/235\u001b[0m \u001b[32m━━━━━━━━━━━━━━━━━━━━\u001b[0m\u001b[37m\u001b[0m \u001b[1m5s\u001b[0m 22ms/step - accuracy: 0.9234 - loss: 0.2051 - val_accuracy: 0.8961 - val_loss: 0.2932\n",
      "Epoch 11/40\n",
      "\u001b[1m235/235\u001b[0m \u001b[32m━━━━━━━━━━━━━━━━━━━━\u001b[0m\u001b[37m\u001b[0m \u001b[1m5s\u001b[0m 22ms/step - accuracy: 0.9294 - loss: 0.1898 - val_accuracy: 0.9000 - val_loss: 0.2949\n",
      "Epoch 12/40\n",
      "\u001b[1m235/235\u001b[0m \u001b[32m━━━━━━━━━━━━━━━━━━━━\u001b[0m\u001b[37m\u001b[0m \u001b[1m5s\u001b[0m 22ms/step - accuracy: 0.9349 - loss: 0.1750 - val_accuracy: 0.8988 - val_loss: 0.2965\n",
      "Epoch 13/40\n",
      "\u001b[1m235/235\u001b[0m \u001b[32m━━━━━━━━━━━━━━━━━━━━\u001b[0m\u001b[37m\u001b[0m \u001b[1m6s\u001b[0m 24ms/step - accuracy: 0.9379 - loss: 0.1674 - val_accuracy: 0.9018 - val_loss: 0.2914\n",
      "Epoch 14/40\n",
      "\u001b[1m235/235\u001b[0m \u001b[32m━━━━━━━━━━━━━━━━━━━━\u001b[0m\u001b[37m\u001b[0m \u001b[1m5s\u001b[0m 22ms/step - accuracy: 0.9449 - loss: 0.1499 - val_accuracy: 0.8961 - val_loss: 0.3150\n",
      "Epoch 15/40\n",
      "\u001b[1m235/235\u001b[0m \u001b[32m━━━━━━━━━━━━━━━━━━━━\u001b[0m\u001b[37m\u001b[0m \u001b[1m5s\u001b[0m 22ms/step - accuracy: 0.9472 - loss: 0.1425 - val_accuracy: 0.8995 - val_loss: 0.3172\n",
      "Epoch 16/40\n",
      "\u001b[1m235/235\u001b[0m \u001b[32m━━━━━━━━━━━━━━━━━━━━\u001b[0m\u001b[37m\u001b[0m \u001b[1m5s\u001b[0m 22ms/step - accuracy: 0.9507 - loss: 0.1346 - val_accuracy: 0.9003 - val_loss: 0.3328\n",
      "Epoch 17/40\n",
      "\u001b[1m235/235\u001b[0m \u001b[32m━━━━━━━━━━━━━━━━━━━━\u001b[0m\u001b[37m\u001b[0m \u001b[1m5s\u001b[0m 22ms/step - accuracy: 0.9569 - loss: 0.1191 - val_accuracy: 0.8939 - val_loss: 0.3412\n",
      "Epoch 18/40\n",
      "\u001b[1m235/235\u001b[0m \u001b[32m━━━━━━━━━━━━━━━━━━━━\u001b[0m\u001b[37m\u001b[0m \u001b[1m5s\u001b[0m 22ms/step - accuracy: 0.9578 - loss: 0.1160 - val_accuracy: 0.8997 - val_loss: 0.3624\n",
      "Epoch 19/40\n",
      "\u001b[1m235/235\u001b[0m \u001b[32m━━━━━━━━━━━━━━━━━━━━\u001b[0m\u001b[37m\u001b[0m \u001b[1m5s\u001b[0m 22ms/step - accuracy: 0.9603 - loss: 0.1089 - val_accuracy: 0.8972 - val_loss: 0.3641\n",
      "Epoch 20/40\n",
      "\u001b[1m235/235\u001b[0m \u001b[32m━━━━━━━━━━━━━━━━━━━━\u001b[0m\u001b[37m\u001b[0m \u001b[1m5s\u001b[0m 22ms/step - accuracy: 0.9634 - loss: 0.1021 - val_accuracy: 0.8944 - val_loss: 0.3862\n",
      "Epoch 21/40\n",
      "\u001b[1m235/235\u001b[0m \u001b[32m━━━━━━━━━━━━━━━━━━━━\u001b[0m\u001b[37m\u001b[0m \u001b[1m5s\u001b[0m 22ms/step - accuracy: 0.9650 - loss: 0.0976 - val_accuracy: 0.8991 - val_loss: 0.3881\n",
      "Epoch 22/40\n",
      "\u001b[1m235/235\u001b[0m \u001b[32m━━━━━━━━━━━━━━━━━━━━\u001b[0m\u001b[37m\u001b[0m \u001b[1m5s\u001b[0m 22ms/step - accuracy: 0.9678 - loss: 0.0884 - val_accuracy: 0.8978 - val_loss: 0.4015\n",
      "Epoch 23/40\n",
      "\u001b[1m235/235\u001b[0m \u001b[32m━━━━━━━━━━━━━━━━━━━━\u001b[0m\u001b[37m\u001b[0m \u001b[1m5s\u001b[0m 22ms/step - accuracy: 0.9708 - loss: 0.0798 - val_accuracy: 0.8945 - val_loss: 0.4342\n",
      "Epoch 24/40\n",
      "\u001b[1m235/235\u001b[0m \u001b[32m━━━━━━━━━━━━━━━━━━━━\u001b[0m\u001b[37m\u001b[0m \u001b[1m5s\u001b[0m 22ms/step - accuracy: 0.9731 - loss: 0.0746 - val_accuracy: 0.8922 - val_loss: 0.4656\n",
      "Epoch 25/40\n",
      "\u001b[1m235/235\u001b[0m \u001b[32m━━━━━━━━━━━━━━━━━━━━\u001b[0m\u001b[37m\u001b[0m \u001b[1m5s\u001b[0m 22ms/step - accuracy: 0.9725 - loss: 0.0766 - val_accuracy: 0.8976 - val_loss: 0.4569\n",
      "Epoch 26/40\n",
      "\u001b[1m235/235\u001b[0m \u001b[32m━━━━━━━━━━━━━━━━━━━━\u001b[0m\u001b[37m\u001b[0m \u001b[1m5s\u001b[0m 23ms/step - accuracy: 0.9751 - loss: 0.0673 - val_accuracy: 0.8958 - val_loss: 0.4663\n",
      "Epoch 27/40\n",
      "\u001b[1m235/235\u001b[0m \u001b[32m━━━━━━━━━━━━━━━━━━━━\u001b[0m\u001b[37m\u001b[0m \u001b[1m5s\u001b[0m 22ms/step - accuracy: 0.9770 - loss: 0.0640 - val_accuracy: 0.8953 - val_loss: 0.5004\n",
      "Epoch 28/40\n",
      "\u001b[1m235/235\u001b[0m \u001b[32m━━━━━━━━━━━━━━━━━━━━\u001b[0m\u001b[37m\u001b[0m \u001b[1m5s\u001b[0m 22ms/step - accuracy: 0.9801 - loss: 0.0557 - val_accuracy: 0.8977 - val_loss: 0.4967\n",
      "Epoch 29/40\n",
      "\u001b[1m235/235\u001b[0m \u001b[32m━━━━━━━━━━━━━━━━━━━━\u001b[0m\u001b[37m\u001b[0m \u001b[1m5s\u001b[0m 22ms/step - accuracy: 0.9810 - loss: 0.0537 - val_accuracy: 0.8921 - val_loss: 0.5471\n",
      "Epoch 30/40\n",
      "\u001b[1m235/235\u001b[0m \u001b[32m━━━━━━━━━━━━━━━━━━━━\u001b[0m\u001b[37m\u001b[0m \u001b[1m5s\u001b[0m 22ms/step - accuracy: 0.9808 - loss: 0.0530 - val_accuracy: 0.8928 - val_loss: 0.5489\n",
      "Epoch 31/40\n",
      "\u001b[1m235/235\u001b[0m \u001b[32m━━━━━━━━━━━━━━━━━━━━\u001b[0m\u001b[37m\u001b[0m \u001b[1m5s\u001b[0m 22ms/step - accuracy: 0.9812 - loss: 0.0502 - val_accuracy: 0.8977 - val_loss: 0.5672\n",
      "Epoch 32/40\n",
      "\u001b[1m235/235\u001b[0m \u001b[32m━━━━━━━━━━━━━━━━━━━━\u001b[0m\u001b[37m\u001b[0m \u001b[1m5s\u001b[0m 22ms/step - accuracy: 0.9819 - loss: 0.0512 - val_accuracy: 0.8915 - val_loss: 0.6049\n",
      "Epoch 33/40\n",
      "\u001b[1m235/235\u001b[0m \u001b[32m━━━━━━━━━━━━━━━━━━━━\u001b[0m\u001b[37m\u001b[0m \u001b[1m5s\u001b[0m 22ms/step - accuracy: 0.9803 - loss: 0.0550 - val_accuracy: 0.8992 - val_loss: 0.5861\n",
      "Epoch 34/40\n",
      "\u001b[1m235/235\u001b[0m \u001b[32m━━━━━━━━━━━━━━━━━━━━\u001b[0m\u001b[37m\u001b[0m \u001b[1m5s\u001b[0m 22ms/step - accuracy: 0.9821 - loss: 0.0512 - val_accuracy: 0.8946 - val_loss: 0.5911\n",
      "Epoch 35/40\n",
      "\u001b[1m235/235\u001b[0m \u001b[32m━━━━━━━━━━━━━━━━━━━━\u001b[0m\u001b[37m\u001b[0m \u001b[1m5s\u001b[0m 22ms/step - accuracy: 0.9861 - loss: 0.0386 - val_accuracy: 0.8974 - val_loss: 0.5942\n",
      "Epoch 36/40\n",
      "\u001b[1m235/235\u001b[0m \u001b[32m━━━━━━━━━━━━━━━━━━━━\u001b[0m\u001b[37m\u001b[0m \u001b[1m5s\u001b[0m 22ms/step - accuracy: 0.9868 - loss: 0.0370 - val_accuracy: 0.8951 - val_loss: 0.6430\n",
      "Epoch 37/40\n",
      "\u001b[1m235/235\u001b[0m \u001b[32m━━━━━━━━━━━━━━━━━━━━\u001b[0m\u001b[37m\u001b[0m \u001b[1m5s\u001b[0m 22ms/step - accuracy: 0.9861 - loss: 0.0375 - val_accuracy: 0.8948 - val_loss: 0.6697\n",
      "Epoch 38/40\n",
      "\u001b[1m235/235\u001b[0m \u001b[32m━━━━━━━━━━━━━━━━━━━━\u001b[0m\u001b[37m\u001b[0m \u001b[1m5s\u001b[0m 23ms/step - accuracy: 0.9888 - loss: 0.0318 - val_accuracy: 0.8969 - val_loss: 0.6525\n",
      "Epoch 39/40\n",
      "\u001b[1m235/235\u001b[0m \u001b[32m━━━━━━━━━━━━━━━━━━━━\u001b[0m\u001b[37m\u001b[0m \u001b[1m5s\u001b[0m 23ms/step - accuracy: 0.9868 - loss: 0.0345 - val_accuracy: 0.8943 - val_loss: 0.6981\n",
      "Epoch 40/40\n",
      "\u001b[1m235/235\u001b[0m \u001b[32m━━━━━━━━━━━━━━━━━━━━\u001b[0m\u001b[37m\u001b[0m \u001b[1m5s\u001b[0m 22ms/step - accuracy: 0.9854 - loss: 0.0419 - val_accuracy: 0.8943 - val_loss: 0.6710\n"
     ]
    },
    {
     "data": {
      "text/plain": [
       "<keras.src.callbacks.history.History at 0x1eb2ccb6660>"
      ]
     },
     "execution_count": 216,
     "metadata": {},
     "output_type": "execute_result"
    }
   ],
   "source": [
    "model.fit(\n",
    "  train_images,\n",
    "  to_categorical(train_labels),\n",
    "  batch_size = Batch_siza,\n",
    "  epochs=40,\n",
    "  validation_data=(test_images, to_categorical(test_labels)),\n",
    ")"
   ]
  },
  {
   "cell_type": "code",
   "execution_count": 217,
   "metadata": {},
   "outputs": [],
   "source": [
    "model = Sequential([\n",
    "  Conv2D(num_filters1, filter_size1, padding=\"same\",kernel_initializer='he_normal', input_shape = input_image, strides= stride1),\n",
    "  MaxPooling2D(pool_size=pool_size1),\n",
    "  Conv2D(num_filters2, filter_size2, padding=\"same\", input_shape = output_image1, strides= stride1),\n",
    "  AveragePooling2D(pool_size = pool_size2),\n",
    "  Flatten(),\n",
    "  Dense(dense_size1, activation='relu'),\n",
    "  Dense(dense_size2, activation='softmax'),\n",
    "])\n"
   ]
  },
  {
   "cell_type": "code",
   "execution_count": 218,
   "metadata": {},
   "outputs": [],
   "source": [
    "model.compile(\n",
    "  \n",
    "  'Adam',\n",
    "  loss='categorical_crossentropy',\n",
    "  metrics=['accuracy'],\n",
    ")"
   ]
  },
  {
   "cell_type": "code",
   "execution_count": 219,
   "metadata": {},
   "outputs": [
    {
     "name": "stdout",
     "output_type": "stream",
     "text": [
      "Epoch 1/40\n",
      "\u001b[1m235/235\u001b[0m \u001b[32m━━━━━━━━━━━━━━━━━━━━\u001b[0m\u001b[37m\u001b[0m \u001b[1m5s\u001b[0m 20ms/step - accuracy: 0.7646 - loss: 0.6822 - val_accuracy: 0.8730 - val_loss: 0.3624\n",
      "Epoch 2/40\n",
      "\u001b[1m235/235\u001b[0m \u001b[32m━━━━━━━━━━━━━━━━━━━━\u001b[0m\u001b[37m\u001b[0m \u001b[1m5s\u001b[0m 20ms/step - accuracy: 0.8814 - loss: 0.3290 - val_accuracy: 0.8947 - val_loss: 0.2941\n",
      "Epoch 3/40\n",
      "\u001b[1m235/235\u001b[0m \u001b[32m━━━━━━━━━━━━━━━━━━━━\u001b[0m\u001b[37m\u001b[0m \u001b[1m5s\u001b[0m 20ms/step - accuracy: 0.8962 - loss: 0.2822 - val_accuracy: 0.9061 - val_loss: 0.2663\n",
      "Epoch 4/40\n",
      "\u001b[1m235/235\u001b[0m \u001b[32m━━━━━━━━━━━━━━━━━━━━\u001b[0m\u001b[37m\u001b[0m \u001b[1m5s\u001b[0m 20ms/step - accuracy: 0.9097 - loss: 0.2462 - val_accuracy: 0.9112 - val_loss: 0.2465\n",
      "Epoch 5/40\n",
      "\u001b[1m235/235\u001b[0m \u001b[32m━━━━━━━━━━━━━━━━━━━━\u001b[0m\u001b[37m\u001b[0m \u001b[1m5s\u001b[0m 20ms/step - accuracy: 0.9185 - loss: 0.2209 - val_accuracy: 0.9134 - val_loss: 0.2398\n",
      "Epoch 6/40\n",
      "\u001b[1m235/235\u001b[0m \u001b[32m━━━━━━━━━━━━━━━━━━━━\u001b[0m\u001b[37m\u001b[0m \u001b[1m5s\u001b[0m 20ms/step - accuracy: 0.9290 - loss: 0.1968 - val_accuracy: 0.9098 - val_loss: 0.2475\n",
      "Epoch 7/40\n",
      "\u001b[1m235/235\u001b[0m \u001b[32m━━━━━━━━━━━━━━━━━━━━\u001b[0m\u001b[37m\u001b[0m \u001b[1m5s\u001b[0m 20ms/step - accuracy: 0.9323 - loss: 0.1852 - val_accuracy: 0.9190 - val_loss: 0.2294\n",
      "Epoch 8/40\n",
      "\u001b[1m235/235\u001b[0m \u001b[32m━━━━━━━━━━━━━━━━━━━━\u001b[0m\u001b[37m\u001b[0m \u001b[1m5s\u001b[0m 20ms/step - accuracy: 0.9399 - loss: 0.1633 - val_accuracy: 0.9242 - val_loss: 0.2189\n",
      "Epoch 9/40\n",
      "\u001b[1m235/235\u001b[0m \u001b[32m━━━━━━━━━━━━━━━━━━━━\u001b[0m\u001b[37m\u001b[0m \u001b[1m5s\u001b[0m 20ms/step - accuracy: 0.9478 - loss: 0.1445 - val_accuracy: 0.9215 - val_loss: 0.2255\n",
      "Epoch 10/40\n",
      "\u001b[1m235/235\u001b[0m \u001b[32m━━━━━━━━━━━━━━━━━━━━\u001b[0m\u001b[37m\u001b[0m \u001b[1m5s\u001b[0m 20ms/step - accuracy: 0.9478 - loss: 0.1408 - val_accuracy: 0.9177 - val_loss: 0.2361\n",
      "Epoch 11/40\n",
      "\u001b[1m235/235\u001b[0m \u001b[32m━━━━━━━━━━━━━━━━━━━━\u001b[0m\u001b[37m\u001b[0m \u001b[1m5s\u001b[0m 20ms/step - accuracy: 0.9569 - loss: 0.1216 - val_accuracy: 0.9214 - val_loss: 0.2318\n",
      "Epoch 12/40\n",
      "\u001b[1m235/235\u001b[0m \u001b[32m━━━━━━━━━━━━━━━━━━━━\u001b[0m\u001b[37m\u001b[0m \u001b[1m5s\u001b[0m 21ms/step - accuracy: 0.9610 - loss: 0.1089 - val_accuracy: 0.9237 - val_loss: 0.2356\n",
      "Epoch 13/40\n",
      "\u001b[1m235/235\u001b[0m \u001b[32m━━━━━━━━━━━━━━━━━━━━\u001b[0m\u001b[37m\u001b[0m \u001b[1m5s\u001b[0m 21ms/step - accuracy: 0.9620 - loss: 0.1039 - val_accuracy: 0.9218 - val_loss: 0.2376\n",
      "Epoch 14/40\n",
      "\u001b[1m235/235\u001b[0m \u001b[32m━━━━━━━━━━━━━━━━━━━━\u001b[0m\u001b[37m\u001b[0m \u001b[1m5s\u001b[0m 20ms/step - accuracy: 0.9663 - loss: 0.0944 - val_accuracy: 0.9259 - val_loss: 0.2365\n",
      "Epoch 15/40\n",
      "\u001b[1m235/235\u001b[0m \u001b[32m━━━━━━━━━━━━━━━━━━━━\u001b[0m\u001b[37m\u001b[0m \u001b[1m5s\u001b[0m 20ms/step - accuracy: 0.9719 - loss: 0.0793 - val_accuracy: 0.9239 - val_loss: 0.2598\n",
      "Epoch 16/40\n",
      "\u001b[1m235/235\u001b[0m \u001b[32m━━━━━━━━━━━━━━━━━━━━\u001b[0m\u001b[37m\u001b[0m \u001b[1m5s\u001b[0m 20ms/step - accuracy: 0.9712 - loss: 0.0785 - val_accuracy: 0.9263 - val_loss: 0.2498\n",
      "Epoch 17/40\n",
      "\u001b[1m235/235\u001b[0m \u001b[32m━━━━━━━━━━━━━━━━━━━━\u001b[0m\u001b[37m\u001b[0m \u001b[1m5s\u001b[0m 20ms/step - accuracy: 0.9760 - loss: 0.0681 - val_accuracy: 0.9227 - val_loss: 0.2625\n",
      "Epoch 18/40\n",
      "\u001b[1m235/235\u001b[0m \u001b[32m━━━━━━━━━━━━━━━━━━━━\u001b[0m\u001b[37m\u001b[0m \u001b[1m5s\u001b[0m 20ms/step - accuracy: 0.9769 - loss: 0.0651 - val_accuracy: 0.9163 - val_loss: 0.2948\n",
      "Epoch 19/40\n",
      "\u001b[1m235/235\u001b[0m \u001b[32m━━━━━━━━━━━━━━━━━━━━\u001b[0m\u001b[37m\u001b[0m \u001b[1m5s\u001b[0m 20ms/step - accuracy: 0.9814 - loss: 0.0532 - val_accuracy: 0.9239 - val_loss: 0.2842\n",
      "Epoch 20/40\n",
      "\u001b[1m235/235\u001b[0m \u001b[32m━━━━━━━━━━━━━━━━━━━━\u001b[0m\u001b[37m\u001b[0m \u001b[1m5s\u001b[0m 20ms/step - accuracy: 0.9800 - loss: 0.0552 - val_accuracy: 0.9217 - val_loss: 0.2955\n",
      "Epoch 21/40\n",
      "\u001b[1m235/235\u001b[0m \u001b[32m━━━━━━━━━━━━━━━━━━━━\u001b[0m\u001b[37m\u001b[0m \u001b[1m5s\u001b[0m 20ms/step - accuracy: 0.9841 - loss: 0.0464 - val_accuracy: 0.9251 - val_loss: 0.2997\n",
      "Epoch 22/40\n",
      "\u001b[1m235/235\u001b[0m \u001b[32m━━━━━━━━━━━━━━━━━━━━\u001b[0m\u001b[37m\u001b[0m \u001b[1m5s\u001b[0m 20ms/step - accuracy: 0.9858 - loss: 0.0423 - val_accuracy: 0.9200 - val_loss: 0.3258\n",
      "Epoch 23/40\n",
      "\u001b[1m235/235\u001b[0m \u001b[32m━━━━━━━━━━━━━━━━━━━━\u001b[0m\u001b[37m\u001b[0m \u001b[1m5s\u001b[0m 20ms/step - accuracy: 0.9873 - loss: 0.0367 - val_accuracy: 0.9237 - val_loss: 0.3268\n",
      "Epoch 24/40\n",
      "\u001b[1m235/235\u001b[0m \u001b[32m━━━━━━━━━━━━━━━━━━━━\u001b[0m\u001b[37m\u001b[0m \u001b[1m5s\u001b[0m 20ms/step - accuracy: 0.9896 - loss: 0.0309 - val_accuracy: 0.9256 - val_loss: 0.3302\n",
      "Epoch 25/40\n",
      "\u001b[1m235/235\u001b[0m \u001b[32m━━━━━━━━━━━━━━━━━━━━\u001b[0m\u001b[37m\u001b[0m \u001b[1m5s\u001b[0m 20ms/step - accuracy: 0.9906 - loss: 0.0271 - val_accuracy: 0.9238 - val_loss: 0.3393\n",
      "Epoch 26/40\n",
      "\u001b[1m235/235\u001b[0m \u001b[32m━━━━━━━━━━━━━━━━━━━━\u001b[0m\u001b[37m\u001b[0m \u001b[1m5s\u001b[0m 21ms/step - accuracy: 0.9919 - loss: 0.0251 - val_accuracy: 0.9239 - val_loss: 0.3732\n",
      "Epoch 27/40\n",
      "\u001b[1m235/235\u001b[0m \u001b[32m━━━━━━━━━━━━━━━━━━━━\u001b[0m\u001b[37m\u001b[0m \u001b[1m5s\u001b[0m 21ms/step - accuracy: 0.9863 - loss: 0.0382 - val_accuracy: 0.9222 - val_loss: 0.3895\n",
      "Epoch 28/40\n",
      "\u001b[1m235/235\u001b[0m \u001b[32m━━━━━━━━━━━━━━━━━━━━\u001b[0m\u001b[37m\u001b[0m \u001b[1m5s\u001b[0m 20ms/step - accuracy: 0.9905 - loss: 0.0291 - val_accuracy: 0.9252 - val_loss: 0.3796\n",
      "Epoch 29/40\n",
      "\u001b[1m235/235\u001b[0m \u001b[32m━━━━━━━━━━━━━━━━━━━━\u001b[0m\u001b[37m\u001b[0m \u001b[1m5s\u001b[0m 20ms/step - accuracy: 0.9925 - loss: 0.0229 - val_accuracy: 0.9290 - val_loss: 0.3745\n",
      "Epoch 30/40\n",
      "\u001b[1m235/235\u001b[0m \u001b[32m━━━━━━━━━━━━━━━━━━━━\u001b[0m\u001b[37m\u001b[0m \u001b[1m5s\u001b[0m 20ms/step - accuracy: 0.9955 - loss: 0.0148 - val_accuracy: 0.9287 - val_loss: 0.4040\n",
      "Epoch 31/40\n",
      "\u001b[1m235/235\u001b[0m \u001b[32m━━━━━━━━━━━━━━━━━━━━\u001b[0m\u001b[37m\u001b[0m \u001b[1m5s\u001b[0m 20ms/step - accuracy: 0.9938 - loss: 0.0181 - val_accuracy: 0.9267 - val_loss: 0.4091\n",
      "Epoch 32/40\n",
      "\u001b[1m235/235\u001b[0m \u001b[32m━━━━━━━━━━━━━━━━━━━━\u001b[0m\u001b[37m\u001b[0m \u001b[1m5s\u001b[0m 20ms/step - accuracy: 0.9936 - loss: 0.0191 - val_accuracy: 0.9266 - val_loss: 0.4096\n",
      "Epoch 33/40\n",
      "\u001b[1m235/235\u001b[0m \u001b[32m━━━━━━━━━━━━━━━━━━━━\u001b[0m\u001b[37m\u001b[0m \u001b[1m5s\u001b[0m 20ms/step - accuracy: 0.9942 - loss: 0.0170 - val_accuracy: 0.9226 - val_loss: 0.4430\n",
      "Epoch 34/40\n",
      "\u001b[1m235/235\u001b[0m \u001b[32m━━━━━━━━━━━━━━━━━━━━\u001b[0m\u001b[37m\u001b[0m \u001b[1m5s\u001b[0m 20ms/step - accuracy: 0.9932 - loss: 0.0199 - val_accuracy: 0.9250 - val_loss: 0.4474\n",
      "Epoch 35/40\n",
      "\u001b[1m235/235\u001b[0m \u001b[32m━━━━━━━━━━━━━━━━━━━━\u001b[0m\u001b[37m\u001b[0m \u001b[1m5s\u001b[0m 20ms/step - accuracy: 0.9918 - loss: 0.0235 - val_accuracy: 0.9238 - val_loss: 0.4521\n",
      "Epoch 36/40\n",
      "\u001b[1m235/235\u001b[0m \u001b[32m━━━━━━━━━━━━━━━━━━━━\u001b[0m\u001b[37m\u001b[0m \u001b[1m5s\u001b[0m 20ms/step - accuracy: 0.9941 - loss: 0.0167 - val_accuracy: 0.9243 - val_loss: 0.4791\n",
      "Epoch 37/40\n",
      "\u001b[1m235/235\u001b[0m \u001b[32m━━━━━━━━━━━━━━━━━━━━\u001b[0m\u001b[37m\u001b[0m \u001b[1m5s\u001b[0m 20ms/step - accuracy: 0.9942 - loss: 0.0160 - val_accuracy: 0.9245 - val_loss: 0.4717\n",
      "Epoch 38/40\n",
      "\u001b[1m235/235\u001b[0m \u001b[32m━━━━━━━━━━━━━━━━━━━━\u001b[0m\u001b[37m\u001b[0m \u001b[1m5s\u001b[0m 20ms/step - accuracy: 0.9963 - loss: 0.0125 - val_accuracy: 0.9254 - val_loss: 0.4890\n",
      "Epoch 39/40\n",
      "\u001b[1m235/235\u001b[0m \u001b[32m━━━━━━━━━━━━━━━━━━━━\u001b[0m\u001b[37m\u001b[0m \u001b[1m5s\u001b[0m 20ms/step - accuracy: 0.9946 - loss: 0.0165 - val_accuracy: 0.9205 - val_loss: 0.5109\n",
      "Epoch 40/40\n",
      "\u001b[1m235/235\u001b[0m \u001b[32m━━━━━━━━━━━━━━━━━━━━\u001b[0m\u001b[37m\u001b[0m \u001b[1m5s\u001b[0m 21ms/step - accuracy: 0.9954 - loss: 0.0128 - val_accuracy: 0.9282 - val_loss: 0.4888\n"
     ]
    },
    {
     "data": {
      "text/plain": [
       "<keras.src.callbacks.history.History at 0x1eb2c84d310>"
      ]
     },
     "execution_count": 219,
     "metadata": {},
     "output_type": "execute_result"
    }
   ],
   "source": [
    "model.fit(\n",
    "  train_images,\n",
    "  to_categorical(train_labels),\n",
    "  batch_size = Batch_siza,\n",
    "  epochs=40,\n",
    "  validation_data=(test_images, to_categorical(test_labels)),\n",
    ")"
   ]
  },
  {
   "cell_type": "code",
   "execution_count": 220,
   "metadata": {},
   "outputs": [],
   "source": [
    "input_image = (28, 28, 1)\n",
    "Batch_siza = 256\n",
    "stride1 = 1\n",
    "stride2 = 1\n",
    "num_filters1 = 64\n",
    "num_filters2 = 32\n",
    "filter_size1 = 3\n",
    "filter_size2 = 3\n",
    "pool_size1 = 2\n",
    "pool_size2 = 2\n",
    "dense_size1 = 256\n",
    "dense_size2 = 10\n",
    "x1 = int(((input_image[0]-filter_size1) + 1)/stride1)\n",
    "y1 = int(((input_image[1]-filter_size1) + 1)/stride1)\n",
    "output_image1 = (x1, y1, 1)\n",
    "x2 = int(((x1-filter_size2) + 1)/stride2)\n",
    "y2 = int(((y1-filter_size2) + 1)/stride2)\n",
    "output_image2 = (x2, y2, 1)\n",
    "\n",
    "# 92% with 10 eapchs"
   ]
  },
  {
   "cell_type": "code",
   "execution_count": 221,
   "metadata": {},
   "outputs": [],
   "source": [
    "model = Sequential([\n",
    "  Conv2D(num_filters1, filter_size1, padding=\"same\",kernel_initializer='he_normal', input_shape = input_image, strides= stride1),\n",
    "  MaxPooling2D(pool_size=pool_size1),\n",
    "  Conv2D(num_filters2, filter_size2, padding=\"same\", input_shape = output_image1, strides= stride1),\n",
    "  MaxPooling2D(pool_size = pool_size2),\n",
    "  Flatten(),\n",
    "  Dense(dense_size1, activation='relu'),\n",
    "  Dense(dense_size2, activation='softmax'),\n",
    "])\n"
   ]
  },
  {
   "cell_type": "code",
   "execution_count": 222,
   "metadata": {},
   "outputs": [],
   "source": [
    "model.compile(\n",
    "  \n",
    "  'Adam',\n",
    "  loss='categorical_crossentropy',\n",
    "  metrics=['accuracy'],\n",
    ")"
   ]
  },
  {
   "cell_type": "code",
   "execution_count": 223,
   "metadata": {},
   "outputs": [
    {
     "name": "stdout",
     "output_type": "stream",
     "text": [
      "Epoch 1/40\n",
      "\u001b[1m235/235\u001b[0m \u001b[32m━━━━━━━━━━━━━━━━━━━━\u001b[0m\u001b[37m\u001b[0m \u001b[1m6s\u001b[0m 21ms/step - accuracy: 0.7789 - loss: 0.6194 - val_accuracy: 0.8834 - val_loss: 0.3177\n",
      "Epoch 2/40\n",
      "\u001b[1m235/235\u001b[0m \u001b[32m━━━━━━━━━━━━━━━━━━━━\u001b[0m\u001b[37m\u001b[0m \u001b[1m5s\u001b[0m 20ms/step - accuracy: 0.8930 - loss: 0.2982 - val_accuracy: 0.9070 - val_loss: 0.2596\n",
      "Epoch 3/40\n",
      "\u001b[1m235/235\u001b[0m \u001b[32m━━━━━━━━━━━━━━━━━━━━\u001b[0m\u001b[37m\u001b[0m \u001b[1m5s\u001b[0m 20ms/step - accuracy: 0.9121 - loss: 0.2400 - val_accuracy: 0.9123 - val_loss: 0.2404\n",
      "Epoch 4/40\n",
      "\u001b[1m235/235\u001b[0m \u001b[32m━━━━━━━━━━━━━━━━━━━━\u001b[0m\u001b[37m\u001b[0m \u001b[1m5s\u001b[0m 20ms/step - accuracy: 0.9250 - loss: 0.2076 - val_accuracy: 0.9012 - val_loss: 0.2662\n",
      "Epoch 5/40\n",
      "\u001b[1m235/235\u001b[0m \u001b[32m━━━━━━━━━━━━━━━━━━━━\u001b[0m\u001b[37m\u001b[0m \u001b[1m5s\u001b[0m 20ms/step - accuracy: 0.9332 - loss: 0.1824 - val_accuracy: 0.9159 - val_loss: 0.2363\n",
      "Epoch 6/40\n",
      "\u001b[1m235/235\u001b[0m \u001b[32m━━━━━━━━━━━━━━━━━━━━\u001b[0m\u001b[37m\u001b[0m \u001b[1m5s\u001b[0m 20ms/step - accuracy: 0.9411 - loss: 0.1572 - val_accuracy: 0.9178 - val_loss: 0.2398\n",
      "Epoch 7/40\n",
      "\u001b[1m235/235\u001b[0m \u001b[32m━━━━━━━━━━━━━━━━━━━━\u001b[0m\u001b[37m\u001b[0m \u001b[1m5s\u001b[0m 20ms/step - accuracy: 0.9501 - loss: 0.1367 - val_accuracy: 0.9194 - val_loss: 0.2364\n",
      "Epoch 8/40\n",
      "\u001b[1m235/235\u001b[0m \u001b[32m━━━━━━━━━━━━━━━━━━━━\u001b[0m\u001b[37m\u001b[0m \u001b[1m5s\u001b[0m 20ms/step - accuracy: 0.9548 - loss: 0.1207 - val_accuracy: 0.9220 - val_loss: 0.2415\n",
      "Epoch 9/40\n",
      "\u001b[1m235/235\u001b[0m \u001b[32m━━━━━━━━━━━━━━━━━━━━\u001b[0m\u001b[37m\u001b[0m \u001b[1m5s\u001b[0m 20ms/step - accuracy: 0.9664 - loss: 0.0955 - val_accuracy: 0.9190 - val_loss: 0.2450\n",
      "Epoch 10/40\n",
      "\u001b[1m235/235\u001b[0m \u001b[32m━━━━━━━━━━━━━━━━━━━━\u001b[0m\u001b[37m\u001b[0m \u001b[1m5s\u001b[0m 20ms/step - accuracy: 0.9670 - loss: 0.0906 - val_accuracy: 0.9239 - val_loss: 0.2484\n",
      "Epoch 11/40\n",
      "\u001b[1m235/235\u001b[0m \u001b[32m━━━━━━━━━━━━━━━━━━━━\u001b[0m\u001b[37m\u001b[0m \u001b[1m5s\u001b[0m 20ms/step - accuracy: 0.9765 - loss: 0.0680 - val_accuracy: 0.9219 - val_loss: 0.2680\n",
      "Epoch 12/40\n",
      "\u001b[1m235/235\u001b[0m \u001b[32m━━━━━━━━━━━━━━━━━━━━\u001b[0m\u001b[37m\u001b[0m \u001b[1m5s\u001b[0m 20ms/step - accuracy: 0.9788 - loss: 0.0611 - val_accuracy: 0.9263 - val_loss: 0.2632\n",
      "Epoch 13/40\n",
      "\u001b[1m235/235\u001b[0m \u001b[32m━━━━━━━━━━━━━━━━━━━━\u001b[0m\u001b[37m\u001b[0m \u001b[1m5s\u001b[0m 20ms/step - accuracy: 0.9846 - loss: 0.0474 - val_accuracy: 0.9217 - val_loss: 0.3073\n",
      "Epoch 14/40\n",
      "\u001b[1m235/235\u001b[0m \u001b[32m━━━━━━━━━━━━━━━━━━━━\u001b[0m\u001b[37m\u001b[0m \u001b[1m5s\u001b[0m 21ms/step - accuracy: 0.9855 - loss: 0.0427 - val_accuracy: 0.9234 - val_loss: 0.3133\n",
      "Epoch 15/40\n",
      "\u001b[1m235/235\u001b[0m \u001b[32m━━━━━━━━━━━━━━━━━━━━\u001b[0m\u001b[37m\u001b[0m \u001b[1m5s\u001b[0m 21ms/step - accuracy: 0.9863 - loss: 0.0392 - val_accuracy: 0.9214 - val_loss: 0.3567\n",
      "Epoch 16/40\n",
      "\u001b[1m235/235\u001b[0m \u001b[32m━━━━━━━━━━━━━━━━━━━━\u001b[0m\u001b[37m\u001b[0m \u001b[1m5s\u001b[0m 20ms/step - accuracy: 0.9849 - loss: 0.0416 - val_accuracy: 0.9256 - val_loss: 0.3457\n",
      "Epoch 17/40\n",
      "\u001b[1m235/235\u001b[0m \u001b[32m━━━━━━━━━━━━━━━━━━━━\u001b[0m\u001b[37m\u001b[0m \u001b[1m5s\u001b[0m 20ms/step - accuracy: 0.9910 - loss: 0.0275 - val_accuracy: 0.9234 - val_loss: 0.3491\n",
      "Epoch 18/40\n",
      "\u001b[1m235/235\u001b[0m \u001b[32m━━━━━━━━━━━━━━━━━━━━\u001b[0m\u001b[37m\u001b[0m \u001b[1m5s\u001b[0m 20ms/step - accuracy: 0.9919 - loss: 0.0241 - val_accuracy: 0.9219 - val_loss: 0.3655\n",
      "Epoch 19/40\n",
      "\u001b[1m235/235\u001b[0m \u001b[32m━━━━━━━━━━━━━━━━━━━━\u001b[0m\u001b[37m\u001b[0m \u001b[1m5s\u001b[0m 20ms/step - accuracy: 0.9942 - loss: 0.0183 - val_accuracy: 0.9222 - val_loss: 0.4038\n",
      "Epoch 20/40\n",
      "\u001b[1m235/235\u001b[0m \u001b[32m━━━━━━━━━━━━━━━━━━━━\u001b[0m\u001b[37m\u001b[0m \u001b[1m5s\u001b[0m 20ms/step - accuracy: 0.9961 - loss: 0.0136 - val_accuracy: 0.9257 - val_loss: 0.3969\n",
      "Epoch 21/40\n",
      "\u001b[1m235/235\u001b[0m \u001b[32m━━━━━━━━━━━━━━━━━━━━\u001b[0m\u001b[37m\u001b[0m \u001b[1m5s\u001b[0m 20ms/step - accuracy: 0.9939 - loss: 0.0197 - val_accuracy: 0.9194 - val_loss: 0.4299\n",
      "Epoch 22/40\n",
      "\u001b[1m235/235\u001b[0m \u001b[32m━━━━━━━━━━━━━━━━━━━━\u001b[0m\u001b[37m\u001b[0m \u001b[1m5s\u001b[0m 20ms/step - accuracy: 0.9877 - loss: 0.0358 - val_accuracy: 0.9208 - val_loss: 0.4230\n",
      "Epoch 23/40\n",
      "\u001b[1m235/235\u001b[0m \u001b[32m━━━━━━━━━━━━━━━━━━━━\u001b[0m\u001b[37m\u001b[0m \u001b[1m5s\u001b[0m 20ms/step - accuracy: 0.9928 - loss: 0.0226 - val_accuracy: 0.9198 - val_loss: 0.4466\n",
      "Epoch 24/40\n",
      "\u001b[1m235/235\u001b[0m \u001b[32m━━━━━━━━━━━━━━━━━━━━\u001b[0m\u001b[37m\u001b[0m \u001b[1m5s\u001b[0m 20ms/step - accuracy: 0.9926 - loss: 0.0200 - val_accuracy: 0.9231 - val_loss: 0.4724\n",
      "Epoch 25/40\n",
      "\u001b[1m235/235\u001b[0m \u001b[32m━━━━━━━━━━━━━━━━━━━━\u001b[0m\u001b[37m\u001b[0m \u001b[1m5s\u001b[0m 21ms/step - accuracy: 0.9951 - loss: 0.0159 - val_accuracy: 0.9238 - val_loss: 0.4634\n",
      "Epoch 26/40\n",
      "\u001b[1m235/235\u001b[0m \u001b[32m━━━━━━━━━━━━━━━━━━━━\u001b[0m\u001b[37m\u001b[0m \u001b[1m5s\u001b[0m 20ms/step - accuracy: 0.9978 - loss: 0.0081 - val_accuracy: 0.9200 - val_loss: 0.4684\n",
      "Epoch 27/40\n",
      "\u001b[1m235/235\u001b[0m \u001b[32m━━━━━━━━━━━━━━━━━━━━\u001b[0m\u001b[37m\u001b[0m \u001b[1m5s\u001b[0m 20ms/step - accuracy: 0.9937 - loss: 0.0183 - val_accuracy: 0.9229 - val_loss: 0.4984\n",
      "Epoch 28/40\n",
      "\u001b[1m235/235\u001b[0m \u001b[32m━━━━━━━━━━━━━━━━━━━━\u001b[0m\u001b[37m\u001b[0m \u001b[1m5s\u001b[0m 21ms/step - accuracy: 0.9949 - loss: 0.0145 - val_accuracy: 0.9217 - val_loss: 0.4954\n",
      "Epoch 29/40\n",
      "\u001b[1m235/235\u001b[0m \u001b[32m━━━━━━━━━━━━━━━━━━━━\u001b[0m\u001b[37m\u001b[0m \u001b[1m5s\u001b[0m 21ms/step - accuracy: 0.9948 - loss: 0.0168 - val_accuracy: 0.9167 - val_loss: 0.5567\n",
      "Epoch 30/40\n",
      "\u001b[1m235/235\u001b[0m \u001b[32m━━━━━━━━━━━━━━━━━━━━\u001b[0m\u001b[37m\u001b[0m \u001b[1m5s\u001b[0m 20ms/step - accuracy: 0.9946 - loss: 0.0150 - val_accuracy: 0.9187 - val_loss: 0.5339\n",
      "Epoch 31/40\n",
      "\u001b[1m235/235\u001b[0m \u001b[32m━━━━━━━━━━━━━━━━━━━━\u001b[0m\u001b[37m\u001b[0m \u001b[1m5s\u001b[0m 20ms/step - accuracy: 0.9969 - loss: 0.0094 - val_accuracy: 0.9231 - val_loss: 0.5520\n",
      "Epoch 32/40\n",
      "\u001b[1m235/235\u001b[0m \u001b[32m━━━━━━━━━━━━━━━━━━━━\u001b[0m\u001b[37m\u001b[0m \u001b[1m5s\u001b[0m 20ms/step - accuracy: 0.9962 - loss: 0.0124 - val_accuracy: 0.9246 - val_loss: 0.5218\n",
      "Epoch 33/40\n",
      "\u001b[1m235/235\u001b[0m \u001b[32m━━━━━━━━━━━━━━━━━━━━\u001b[0m\u001b[37m\u001b[0m \u001b[1m5s\u001b[0m 20ms/step - accuracy: 0.9955 - loss: 0.0132 - val_accuracy: 0.9185 - val_loss: 0.5497\n",
      "Epoch 34/40\n",
      "\u001b[1m235/235\u001b[0m \u001b[32m━━━━━━━━━━━━━━━━━━━━\u001b[0m\u001b[37m\u001b[0m \u001b[1m5s\u001b[0m 20ms/step - accuracy: 0.9934 - loss: 0.0186 - val_accuracy: 0.9213 - val_loss: 0.5467\n",
      "Epoch 35/40\n",
      "\u001b[1m235/235\u001b[0m \u001b[32m━━━━━━━━━━━━━━━━━━━━\u001b[0m\u001b[37m\u001b[0m \u001b[1m5s\u001b[0m 20ms/step - accuracy: 0.9972 - loss: 0.0087 - val_accuracy: 0.9241 - val_loss: 0.5457\n",
      "Epoch 36/40\n",
      "\u001b[1m235/235\u001b[0m \u001b[32m━━━━━━━━━━━━━━━━━━━━\u001b[0m\u001b[37m\u001b[0m \u001b[1m5s\u001b[0m 20ms/step - accuracy: 0.9985 - loss: 0.0052 - val_accuracy: 0.9265 - val_loss: 0.5736\n",
      "Epoch 37/40\n",
      "\u001b[1m235/235\u001b[0m \u001b[32m━━━━━━━━━━━━━━━━━━━━\u001b[0m\u001b[37m\u001b[0m \u001b[1m5s\u001b[0m 20ms/step - accuracy: 0.9987 - loss: 0.0043 - val_accuracy: 0.9268 - val_loss: 0.5718\n",
      "Epoch 38/40\n",
      "\u001b[1m235/235\u001b[0m \u001b[32m━━━━━━━━━━━━━━━━━━━━\u001b[0m\u001b[37m\u001b[0m \u001b[1m5s\u001b[0m 20ms/step - accuracy: 0.9997 - loss: 0.0016 - val_accuracy: 0.9264 - val_loss: 0.5754\n",
      "Epoch 39/40\n",
      "\u001b[1m235/235\u001b[0m \u001b[32m━━━━━━━━━━━━━━━━━━━━\u001b[0m\u001b[37m\u001b[0m \u001b[1m5s\u001b[0m 20ms/step - accuracy: 0.9993 - loss: 0.0020 - val_accuracy: 0.9265 - val_loss: 0.5703\n",
      "Epoch 40/40\n",
      "\u001b[1m235/235\u001b[0m \u001b[32m━━━━━━━━━━━━━━━━━━━━\u001b[0m\u001b[37m\u001b[0m \u001b[1m5s\u001b[0m 20ms/step - accuracy: 0.9999 - loss: 5.7589e-04 - val_accuracy: 0.9264 - val_loss: 0.5925\n"
     ]
    },
    {
     "data": {
      "text/plain": [
       "<keras.src.callbacks.history.History at 0x1eb2cda0350>"
      ]
     },
     "execution_count": 223,
     "metadata": {},
     "output_type": "execute_result"
    }
   ],
   "source": [
    "model.fit(\n",
    "  train_images,\n",
    "  to_categorical(train_labels),\n",
    "  batch_size = Batch_siza,\n",
    "  epochs=40,\n",
    "  validation_data=(test_images, to_categorical(test_labels)),\n",
    ")"
   ]
  },
  {
   "cell_type": "code",
   "execution_count": 224,
   "metadata": {},
   "outputs": [],
   "source": [
    "input_image = (28, 28, 1)\n",
    "Batch_siza = 256\n",
    "stride1 = 1\n",
    "stride2 = 1\n",
    "num_filters1 = 32\n",
    "num_filters2 = 64\n",
    "filter_size1 = 3\n",
    "filter_size2 = 3\n",
    "pool_size1 = 2\n",
    "pool_size2 = 2\n",
    "dense_size1 = 256\n",
    "dense_size2 = 10\n",
    "x1 = int(((input_image[0]-filter_size1) + 1)/stride1)\n",
    "y1 = int(((input_image[1]-filter_size1) + 1)/stride1)\n",
    "output_image1 = (x1, y1, 1)\n",
    "x2 = int(((x1-filter_size2) + 1)/stride2)\n",
    "y2 = int(((y1-filter_size2) + 1)/stride2)\n",
    "output_image2 = (x2, y2, 1)\n",
    "\n",
    "# 92% epoch 12"
   ]
  },
  {
   "cell_type": "code",
   "execution_count": 225,
   "metadata": {},
   "outputs": [],
   "source": [
    "model = Sequential([\n",
    "  Conv2D(num_filters1, filter_size1, padding=\"same\",kernel_initializer='he_normal', input_shape = input_image, strides= stride1),\n",
    "  MaxPooling2D(pool_size=pool_size1),\n",
    "  Conv2D(num_filters2, filter_size2, padding=\"same\", input_shape = output_image1, strides= stride1),\n",
    "  MaxPooling2D(pool_size = pool_size2),\n",
    "  Flatten(),\n",
    "  Dense(dense_size1, activation='relu'),\n",
    "  Dense(dense_size2, activation='softmax'),\n",
    "])\n"
   ]
  },
  {
   "cell_type": "code",
   "execution_count": 226,
   "metadata": {},
   "outputs": [],
   "source": [
    "model.compile(\n",
    "  \n",
    "  'Adam',\n",
    "  loss='categorical_crossentropy',\n",
    "  metrics=['accuracy'],\n",
    ")"
   ]
  },
  {
   "cell_type": "code",
   "execution_count": 227,
   "metadata": {},
   "outputs": [
    {
     "name": "stdout",
     "output_type": "stream",
     "text": [
      "Epoch 1/40\n",
      "\u001b[1m235/235\u001b[0m \u001b[32m━━━━━━━━━━━━━━━━━━━━\u001b[0m\u001b[37m\u001b[0m \u001b[1m5s\u001b[0m 18ms/step - accuracy: 0.7736 - loss: 0.6576 - val_accuracy: 0.8826 - val_loss: 0.3296\n",
      "Epoch 2/40\n",
      "\u001b[1m235/235\u001b[0m \u001b[32m━━━━━━━━━━━━━━━━━━━━\u001b[0m\u001b[37m\u001b[0m \u001b[1m4s\u001b[0m 19ms/step - accuracy: 0.8959 - loss: 0.2897 - val_accuracy: 0.8936 - val_loss: 0.3084\n",
      "Epoch 3/40\n",
      "\u001b[1m235/235\u001b[0m \u001b[32m━━━━━━━━━━━━━━━━━━━━\u001b[0m\u001b[37m\u001b[0m \u001b[1m5s\u001b[0m 19ms/step - accuracy: 0.9130 - loss: 0.2424 - val_accuracy: 0.9097 - val_loss: 0.2472\n",
      "Epoch 4/40\n",
      "\u001b[1m235/235\u001b[0m \u001b[32m━━━━━━━━━━━━━━━━━━━━\u001b[0m\u001b[37m\u001b[0m \u001b[1m4s\u001b[0m 18ms/step - accuracy: 0.9260 - loss: 0.1996 - val_accuracy: 0.9163 - val_loss: 0.2346\n",
      "Epoch 5/40\n",
      "\u001b[1m235/235\u001b[0m \u001b[32m━━━━━━━━━━━━━━━━━━━━\u001b[0m\u001b[37m\u001b[0m \u001b[1m4s\u001b[0m 18ms/step - accuracy: 0.9382 - loss: 0.1739 - val_accuracy: 0.9169 - val_loss: 0.2355\n",
      "Epoch 6/40\n",
      "\u001b[1m235/235\u001b[0m \u001b[32m━━━━━━━━━━━━━━━━━━━━\u001b[0m\u001b[37m\u001b[0m \u001b[1m4s\u001b[0m 18ms/step - accuracy: 0.9425 - loss: 0.1542 - val_accuracy: 0.9143 - val_loss: 0.2478\n",
      "Epoch 7/40\n",
      "\u001b[1m235/235\u001b[0m \u001b[32m━━━━━━━━━━━━━━━━━━━━\u001b[0m\u001b[37m\u001b[0m \u001b[1m4s\u001b[0m 18ms/step - accuracy: 0.9524 - loss: 0.1314 - val_accuracy: 0.9194 - val_loss: 0.2308\n",
      "Epoch 8/40\n",
      "\u001b[1m235/235\u001b[0m \u001b[32m━━━━━━━━━━━━━━━━━━━━\u001b[0m\u001b[37m\u001b[0m \u001b[1m4s\u001b[0m 18ms/step - accuracy: 0.9609 - loss: 0.1111 - val_accuracy: 0.9221 - val_loss: 0.2316\n",
      "Epoch 9/40\n",
      "\u001b[1m235/235\u001b[0m \u001b[32m━━━━━━━━━━━━━━━━━━━━\u001b[0m\u001b[37m\u001b[0m \u001b[1m4s\u001b[0m 17ms/step - accuracy: 0.9682 - loss: 0.0901 - val_accuracy: 0.9192 - val_loss: 0.2473\n",
      "Epoch 10/40\n",
      "\u001b[1m235/235\u001b[0m \u001b[32m━━━━━━━━━━━━━━━━━━━━\u001b[0m\u001b[37m\u001b[0m \u001b[1m4s\u001b[0m 17ms/step - accuracy: 0.9717 - loss: 0.0778 - val_accuracy: 0.9183 - val_loss: 0.2659\n",
      "Epoch 11/40\n",
      "\u001b[1m235/235\u001b[0m \u001b[32m━━━━━━━━━━━━━━━━━━━━\u001b[0m\u001b[37m\u001b[0m \u001b[1m4s\u001b[0m 17ms/step - accuracy: 0.9762 - loss: 0.0678 - val_accuracy: 0.9180 - val_loss: 0.2864\n",
      "Epoch 12/40\n",
      "\u001b[1m235/235\u001b[0m \u001b[32m━━━━━━━━━━━━━━━━━━━━\u001b[0m\u001b[37m\u001b[0m \u001b[1m4s\u001b[0m 17ms/step - accuracy: 0.9807 - loss: 0.0547 - val_accuracy: 0.9215 - val_loss: 0.2772\n",
      "Epoch 13/40\n",
      "\u001b[1m235/235\u001b[0m \u001b[32m━━━━━━━━━━━━━━━━━━━━\u001b[0m\u001b[37m\u001b[0m \u001b[1m4s\u001b[0m 17ms/step - accuracy: 0.9864 - loss: 0.0420 - val_accuracy: 0.9217 - val_loss: 0.2933\n",
      "Epoch 14/40\n",
      "\u001b[1m235/235\u001b[0m \u001b[32m━━━━━━━━━━━━━━━━━━━━\u001b[0m\u001b[37m\u001b[0m \u001b[1m4s\u001b[0m 17ms/step - accuracy: 0.9880 - loss: 0.0361 - val_accuracy: 0.9216 - val_loss: 0.3313\n",
      "Epoch 15/40\n",
      "\u001b[1m235/235\u001b[0m \u001b[32m━━━━━━━━━━━━━━━━━━━━\u001b[0m\u001b[37m\u001b[0m \u001b[1m4s\u001b[0m 17ms/step - accuracy: 0.9899 - loss: 0.0321 - val_accuracy: 0.9246 - val_loss: 0.3297\n",
      "Epoch 16/40\n",
      "\u001b[1m235/235\u001b[0m \u001b[32m━━━━━━━━━━━━━━━━━━━━\u001b[0m\u001b[37m\u001b[0m \u001b[1m4s\u001b[0m 17ms/step - accuracy: 0.9902 - loss: 0.0286 - val_accuracy: 0.9222 - val_loss: 0.3396\n",
      "Epoch 17/40\n",
      "\u001b[1m235/235\u001b[0m \u001b[32m━━━━━━━━━━━━━━━━━━━━\u001b[0m\u001b[37m\u001b[0m \u001b[1m4s\u001b[0m 17ms/step - accuracy: 0.9934 - loss: 0.0211 - val_accuracy: 0.9186 - val_loss: 0.3438\n",
      "Epoch 18/40\n",
      "\u001b[1m235/235\u001b[0m \u001b[32m━━━━━━━━━━━━━━━━━━━━\u001b[0m\u001b[37m\u001b[0m \u001b[1m4s\u001b[0m 18ms/step - accuracy: 0.9916 - loss: 0.0255 - val_accuracy: 0.9240 - val_loss: 0.3603\n",
      "Epoch 19/40\n",
      "\u001b[1m235/235\u001b[0m \u001b[32m━━━━━━━━━━━━━━━━━━━━\u001b[0m\u001b[37m\u001b[0m \u001b[1m4s\u001b[0m 18ms/step - accuracy: 0.9933 - loss: 0.0222 - val_accuracy: 0.9212 - val_loss: 0.3988\n",
      "Epoch 20/40\n",
      "\u001b[1m235/235\u001b[0m \u001b[32m━━━━━━━━━━━━━━━━━━━━\u001b[0m\u001b[37m\u001b[0m \u001b[1m4s\u001b[0m 17ms/step - accuracy: 0.9946 - loss: 0.0170 - val_accuracy: 0.9241 - val_loss: 0.3970\n",
      "Epoch 21/40\n",
      "\u001b[1m235/235\u001b[0m \u001b[32m━━━━━━━━━━━━━━━━━━━━\u001b[0m\u001b[37m\u001b[0m \u001b[1m4s\u001b[0m 17ms/step - accuracy: 0.9964 - loss: 0.0130 - val_accuracy: 0.9188 - val_loss: 0.4344\n",
      "Epoch 22/40\n",
      "\u001b[1m235/235\u001b[0m \u001b[32m━━━━━━━━━━━━━━━━━━━━\u001b[0m\u001b[37m\u001b[0m \u001b[1m4s\u001b[0m 17ms/step - accuracy: 0.9950 - loss: 0.0147 - val_accuracy: 0.9227 - val_loss: 0.4273\n",
      "Epoch 23/40\n",
      "\u001b[1m235/235\u001b[0m \u001b[32m━━━━━━━━━━━━━━━━━━━━\u001b[0m\u001b[37m\u001b[0m \u001b[1m4s\u001b[0m 17ms/step - accuracy: 0.9942 - loss: 0.0166 - val_accuracy: 0.9164 - val_loss: 0.4718\n",
      "Epoch 24/40\n",
      "\u001b[1m235/235\u001b[0m \u001b[32m━━━━━━━━━━━━━━━━━━━━\u001b[0m\u001b[37m\u001b[0m \u001b[1m4s\u001b[0m 17ms/step - accuracy: 0.9930 - loss: 0.0199 - val_accuracy: 0.9228 - val_loss: 0.4368\n",
      "Epoch 25/40\n",
      "\u001b[1m235/235\u001b[0m \u001b[32m━━━━━━━━━━━━━━━━━━━━\u001b[0m\u001b[37m\u001b[0m \u001b[1m4s\u001b[0m 17ms/step - accuracy: 0.9968 - loss: 0.0111 - val_accuracy: 0.9180 - val_loss: 0.4741\n",
      "Epoch 26/40\n",
      "\u001b[1m235/235\u001b[0m \u001b[32m━━━━━━━━━━━━━━━━━━━━\u001b[0m\u001b[37m\u001b[0m \u001b[1m4s\u001b[0m 17ms/step - accuracy: 0.9975 - loss: 0.0077 - val_accuracy: 0.9219 - val_loss: 0.4952\n",
      "Epoch 27/40\n",
      "\u001b[1m235/235\u001b[0m \u001b[32m━━━━━━━━━━━━━━━━━━━━\u001b[0m\u001b[37m\u001b[0m \u001b[1m4s\u001b[0m 17ms/step - accuracy: 0.9957 - loss: 0.0113 - val_accuracy: 0.9220 - val_loss: 0.4915\n",
      "Epoch 28/40\n",
      "\u001b[1m235/235\u001b[0m \u001b[32m━━━━━━━━━━━━━━━━━━━━\u001b[0m\u001b[37m\u001b[0m \u001b[1m4s\u001b[0m 17ms/step - accuracy: 0.9935 - loss: 0.0192 - val_accuracy: 0.9169 - val_loss: 0.4959\n",
      "Epoch 29/40\n",
      "\u001b[1m235/235\u001b[0m \u001b[32m━━━━━━━━━━━━━━━━━━━━\u001b[0m\u001b[37m\u001b[0m \u001b[1m4s\u001b[0m 17ms/step - accuracy: 0.9946 - loss: 0.0154 - val_accuracy: 0.9202 - val_loss: 0.5195\n",
      "Epoch 30/40\n",
      "\u001b[1m235/235\u001b[0m \u001b[32m━━━━━━━━━━━━━━━━━━━━\u001b[0m\u001b[37m\u001b[0m \u001b[1m4s\u001b[0m 17ms/step - accuracy: 0.9959 - loss: 0.0124 - val_accuracy: 0.9183 - val_loss: 0.4910\n",
      "Epoch 31/40\n",
      "\u001b[1m235/235\u001b[0m \u001b[32m━━━━━━━━━━━━━━━━━━━━\u001b[0m\u001b[37m\u001b[0m \u001b[1m4s\u001b[0m 17ms/step - accuracy: 0.9966 - loss: 0.0103 - val_accuracy: 0.9153 - val_loss: 0.5230\n",
      "Epoch 32/40\n",
      "\u001b[1m235/235\u001b[0m \u001b[32m━━━━━━━━━━━━━━━━━━━━\u001b[0m\u001b[37m\u001b[0m \u001b[1m4s\u001b[0m 17ms/step - accuracy: 0.9962 - loss: 0.0121 - val_accuracy: 0.9197 - val_loss: 0.5320\n",
      "Epoch 33/40\n",
      "\u001b[1m235/235\u001b[0m \u001b[32m━━━━━━━━━━━━━━━━━━━━\u001b[0m\u001b[37m\u001b[0m \u001b[1m4s\u001b[0m 17ms/step - accuracy: 0.9949 - loss: 0.0168 - val_accuracy: 0.9193 - val_loss: 0.5298\n",
      "Epoch 34/40\n",
      "\u001b[1m235/235\u001b[0m \u001b[32m━━━━━━━━━━━━━━━━━━━━\u001b[0m\u001b[37m\u001b[0m \u001b[1m4s\u001b[0m 18ms/step - accuracy: 0.9969 - loss: 0.0091 - val_accuracy: 0.9226 - val_loss: 0.5111\n",
      "Epoch 35/40\n",
      "\u001b[1m235/235\u001b[0m \u001b[32m━━━━━━━━━━━━━━━━━━━━\u001b[0m\u001b[37m\u001b[0m \u001b[1m4s\u001b[0m 18ms/step - accuracy: 0.9982 - loss: 0.0061 - val_accuracy: 0.9200 - val_loss: 0.5752\n",
      "Epoch 36/40\n",
      "\u001b[1m235/235\u001b[0m \u001b[32m━━━━━━━━━━━━━━━━━━━━\u001b[0m\u001b[37m\u001b[0m \u001b[1m4s\u001b[0m 17ms/step - accuracy: 0.9978 - loss: 0.0071 - val_accuracy: 0.9220 - val_loss: 0.5424\n",
      "Epoch 37/40\n",
      "\u001b[1m235/235\u001b[0m \u001b[32m━━━━━━━━━━━━━━━━━━━━\u001b[0m\u001b[37m\u001b[0m \u001b[1m4s\u001b[0m 17ms/step - accuracy: 0.9998 - loss: 0.0016 - val_accuracy: 0.9235 - val_loss: 0.5448\n",
      "Epoch 38/40\n",
      "\u001b[1m235/235\u001b[0m \u001b[32m━━━━━━━━━━━━━━━━━━━━\u001b[0m\u001b[37m\u001b[0m \u001b[1m4s\u001b[0m 17ms/step - accuracy: 0.9997 - loss: 0.0013 - val_accuracy: 0.9151 - val_loss: 0.6608\n",
      "Epoch 39/40\n",
      "\u001b[1m235/235\u001b[0m \u001b[32m━━━━━━━━━━━━━━━━━━━━\u001b[0m\u001b[37m\u001b[0m \u001b[1m4s\u001b[0m 17ms/step - accuracy: 0.9950 - loss: 0.0157 - val_accuracy: 0.9170 - val_loss: 0.5970\n",
      "Epoch 40/40\n",
      "\u001b[1m235/235\u001b[0m \u001b[32m━━━━━━━━━━━━━━━━━━━━\u001b[0m\u001b[37m\u001b[0m \u001b[1m4s\u001b[0m 17ms/step - accuracy: 0.9944 - loss: 0.0175 - val_accuracy: 0.9173 - val_loss: 0.6288\n"
     ]
    },
    {
     "data": {
      "text/plain": [
       "<keras.src.callbacks.history.History at 0x1eb2ccda8d0>"
      ]
     },
     "execution_count": 227,
     "metadata": {},
     "output_type": "execute_result"
    }
   ],
   "source": [
    "model.fit(\n",
    "  train_images,\n",
    "  to_categorical(train_labels),\n",
    "  batch_size = Batch_siza,\n",
    "  epochs=40,\n",
    "  validation_data=(test_images, to_categorical(test_labels)),\n",
    ")"
   ]
  },
  {
   "cell_type": "code",
   "execution_count": 228,
   "metadata": {},
   "outputs": [],
   "source": [
    "input_image = (28, 28, 1)\n",
    "Batch_siza = 256\n",
    "stride1 = 1\n",
    "stride2 = 1\n",
    "num_filters1 = 64\n",
    "num_filters2 = 32\n",
    "filter_size1 = 3\n",
    "filter_size2 = 3\n",
    "pool_size1 = 2\n",
    "pool_size2 = 2\n",
    "dense_size1 = 256\n",
    "dense_size2 = 10\n",
    "x1 = int(((input_image[0]-filter_size1) + 1)/stride1)\n",
    "y1 = int(((input_image[1]-filter_size1) + 1)/stride1)\n",
    "output_image1 = (x1, y1, 1)\n",
    "x2 = int(((x1-filter_size2) + 1)/stride2)\n",
    "y2 = int(((y1-filter_size2) + 1)/stride2)\n",
    "output_image2 = (x2, y2, 1)\n",
    "\n",
    "# 92% 12 epochs "
   ]
  },
  {
   "cell_type": "code",
   "execution_count": 229,
   "metadata": {},
   "outputs": [],
   "source": [
    "model = Sequential([\n",
    "  Conv2D(num_filters1, filter_size1, padding=\"same\",kernel_initializer='he_normal', input_shape = input_image, strides= stride1),\n",
    "  MaxPooling2D(pool_size=pool_size1),\n",
    "  Dropout(0.2),\n",
    "  Conv2D(num_filters2, filter_size2, padding=\"same\", input_shape = output_image1, strides= stride1),\n",
    "  MaxPooling2D(pool_size = pool_size2),\n",
    "  Flatten(),\n",
    "  Dense(dense_size1, activation='relu'),\n",
    "  Dense(dense_size2, activation='softmax'),\n",
    "])"
   ]
  },
  {
   "cell_type": "code",
   "execution_count": 230,
   "metadata": {},
   "outputs": [],
   "source": [
    "model.compile(\n",
    "  \n",
    "  'Adam',\n",
    "  loss='categorical_crossentropy',\n",
    "  metrics=['accuracy'],\n",
    ")"
   ]
  },
  {
   "cell_type": "code",
   "execution_count": 231,
   "metadata": {},
   "outputs": [
    {
     "name": "stdout",
     "output_type": "stream",
     "text": [
      "Epoch 1/40\n",
      "\u001b[1m235/235\u001b[0m \u001b[32m━━━━━━━━━━━━━━━━━━━━\u001b[0m\u001b[37m\u001b[0m \u001b[1m6s\u001b[0m 25ms/step - accuracy: 0.7502 - loss: 0.7004 - val_accuracy: 0.8798 - val_loss: 0.3415\n",
      "Epoch 2/40\n",
      "\u001b[1m235/235\u001b[0m \u001b[32m━━━━━━━━━━━━━━━━━━━━\u001b[0m\u001b[37m\u001b[0m \u001b[1m6s\u001b[0m 25ms/step - accuracy: 0.8766 - loss: 0.3402 - val_accuracy: 0.8927 - val_loss: 0.2955\n",
      "Epoch 3/40\n",
      "\u001b[1m235/235\u001b[0m \u001b[32m━━━━━━━━━━━━━━━━━━━━\u001b[0m\u001b[37m\u001b[0m \u001b[1m6s\u001b[0m 24ms/step - accuracy: 0.8959 - loss: 0.2882 - val_accuracy: 0.9031 - val_loss: 0.2690\n",
      "Epoch 4/40\n",
      "\u001b[1m235/235\u001b[0m \u001b[32m━━━━━━━━━━━━━━━━━━━━\u001b[0m\u001b[37m\u001b[0m \u001b[1m6s\u001b[0m 25ms/step - accuracy: 0.9093 - loss: 0.2476 - val_accuracy: 0.9146 - val_loss: 0.2381\n",
      "Epoch 5/40\n",
      "\u001b[1m235/235\u001b[0m \u001b[32m━━━━━━━━━━━━━━━━━━━━\u001b[0m\u001b[37m\u001b[0m \u001b[1m6s\u001b[0m 25ms/step - accuracy: 0.9173 - loss: 0.2214 - val_accuracy: 0.9141 - val_loss: 0.2393\n",
      "Epoch 6/40\n",
      "\u001b[1m235/235\u001b[0m \u001b[32m━━━━━━━━━━━━━━━━━━━━\u001b[0m\u001b[37m\u001b[0m \u001b[1m6s\u001b[0m 24ms/step - accuracy: 0.9281 - loss: 0.1968 - val_accuracy: 0.9175 - val_loss: 0.2253\n",
      "Epoch 7/40\n",
      "\u001b[1m235/235\u001b[0m \u001b[32m━━━━━━━━━━━━━━━━━━━━\u001b[0m\u001b[37m\u001b[0m \u001b[1m6s\u001b[0m 25ms/step - accuracy: 0.9353 - loss: 0.1776 - val_accuracy: 0.9163 - val_loss: 0.2346\n",
      "Epoch 8/40\n",
      "\u001b[1m235/235\u001b[0m \u001b[32m━━━━━━━━━━━━━━━━━━━━\u001b[0m\u001b[37m\u001b[0m \u001b[1m6s\u001b[0m 26ms/step - accuracy: 0.9421 - loss: 0.1595 - val_accuracy: 0.9195 - val_loss: 0.2265\n",
      "Epoch 9/40\n",
      "\u001b[1m235/235\u001b[0m \u001b[32m━━━━━━━━━━━━━━━━━━━━\u001b[0m\u001b[37m\u001b[0m \u001b[1m6s\u001b[0m 24ms/step - accuracy: 0.9493 - loss: 0.1393 - val_accuracy: 0.9237 - val_loss: 0.2298\n",
      "Epoch 10/40\n",
      "\u001b[1m235/235\u001b[0m \u001b[32m━━━━━━━━━━━━━━━━━━━━\u001b[0m\u001b[37m\u001b[0m \u001b[1m6s\u001b[0m 24ms/step - accuracy: 0.9543 - loss: 0.1244 - val_accuracy: 0.9233 - val_loss: 0.2290\n",
      "Epoch 11/40\n",
      "\u001b[1m235/235\u001b[0m \u001b[32m━━━━━━━━━━━━━━━━━━━━\u001b[0m\u001b[37m\u001b[0m \u001b[1m6s\u001b[0m 24ms/step - accuracy: 0.9585 - loss: 0.1116 - val_accuracy: 0.9215 - val_loss: 0.2409\n",
      "Epoch 12/40\n",
      "\u001b[1m235/235\u001b[0m \u001b[32m━━━━━━━━━━━━━━━━━━━━\u001b[0m\u001b[37m\u001b[0m \u001b[1m6s\u001b[0m 25ms/step - accuracy: 0.9621 - loss: 0.1000 - val_accuracy: 0.9240 - val_loss: 0.2442\n",
      "Epoch 13/40\n",
      "\u001b[1m235/235\u001b[0m \u001b[32m━━━━━━━━━━━━━━━━━━━━\u001b[0m\u001b[37m\u001b[0m \u001b[1m6s\u001b[0m 24ms/step - accuracy: 0.9679 - loss: 0.0900 - val_accuracy: 0.9205 - val_loss: 0.2601\n",
      "Epoch 14/40\n",
      "\u001b[1m235/235\u001b[0m \u001b[32m━━━━━━━━━━━━━━━━━━━━\u001b[0m\u001b[37m\u001b[0m \u001b[1m6s\u001b[0m 25ms/step - accuracy: 0.9726 - loss: 0.0789 - val_accuracy: 0.9250 - val_loss: 0.2558\n",
      "Epoch 15/40\n",
      "\u001b[1m235/235\u001b[0m \u001b[32m━━━━━━━━━━━━━━━━━━━━\u001b[0m\u001b[37m\u001b[0m \u001b[1m6s\u001b[0m 24ms/step - accuracy: 0.9743 - loss: 0.0714 - val_accuracy: 0.9252 - val_loss: 0.2766\n",
      "Epoch 16/40\n",
      "\u001b[1m235/235\u001b[0m \u001b[32m━━━━━━━━━━━━━━━━━━━━\u001b[0m\u001b[37m\u001b[0m \u001b[1m6s\u001b[0m 24ms/step - accuracy: 0.9785 - loss: 0.0605 - val_accuracy: 0.9227 - val_loss: 0.2912\n",
      "Epoch 17/40\n",
      "\u001b[1m235/235\u001b[0m \u001b[32m━━━━━━━━━━━━━━━━━━━━\u001b[0m\u001b[37m\u001b[0m \u001b[1m6s\u001b[0m 24ms/step - accuracy: 0.9778 - loss: 0.0607 - val_accuracy: 0.9240 - val_loss: 0.2881\n",
      "Epoch 18/40\n",
      "\u001b[1m235/235\u001b[0m \u001b[32m━━━━━━━━━━━━━━━━━━━━\u001b[0m\u001b[37m\u001b[0m \u001b[1m6s\u001b[0m 25ms/step - accuracy: 0.9807 - loss: 0.0516 - val_accuracy: 0.9240 - val_loss: 0.3211\n",
      "Epoch 19/40\n",
      "\u001b[1m235/235\u001b[0m \u001b[32m━━━━━━━━━━━━━━━━━━━━\u001b[0m\u001b[37m\u001b[0m \u001b[1m6s\u001b[0m 26ms/step - accuracy: 0.9830 - loss: 0.0489 - val_accuracy: 0.9214 - val_loss: 0.3319\n",
      "Epoch 20/40\n",
      "\u001b[1m235/235\u001b[0m \u001b[32m━━━━━━━━━━━━━━━━━━━━\u001b[0m\u001b[37m\u001b[0m \u001b[1m6s\u001b[0m 25ms/step - accuracy: 0.9855 - loss: 0.0429 - val_accuracy: 0.9235 - val_loss: 0.3419\n",
      "Epoch 21/40\n",
      "\u001b[1m235/235\u001b[0m \u001b[32m━━━━━━━━━━━━━━━━━━━━\u001b[0m\u001b[37m\u001b[0m \u001b[1m6s\u001b[0m 25ms/step - accuracy: 0.9848 - loss: 0.0420 - val_accuracy: 0.9216 - val_loss: 0.3557\n",
      "Epoch 22/40\n",
      "\u001b[1m235/235\u001b[0m \u001b[32m━━━━━━━━━━━━━━━━━━━━\u001b[0m\u001b[37m\u001b[0m \u001b[1m6s\u001b[0m 24ms/step - accuracy: 0.9875 - loss: 0.0364 - val_accuracy: 0.9230 - val_loss: 0.3656\n",
      "Epoch 23/40\n",
      "\u001b[1m235/235\u001b[0m \u001b[32m━━━━━━━━━━━━━━━━━━━━\u001b[0m\u001b[37m\u001b[0m \u001b[1m6s\u001b[0m 24ms/step - accuracy: 0.9883 - loss: 0.0328 - val_accuracy: 0.9252 - val_loss: 0.3644\n",
      "Epoch 24/40\n",
      "\u001b[1m235/235\u001b[0m \u001b[32m━━━━━━━━━━━━━━━━━━━━\u001b[0m\u001b[37m\u001b[0m \u001b[1m6s\u001b[0m 24ms/step - accuracy: 0.9875 - loss: 0.0338 - val_accuracy: 0.9238 - val_loss: 0.4121\n",
      "Epoch 25/40\n",
      "\u001b[1m235/235\u001b[0m \u001b[32m━━━━━━━━━━━━━━━━━━━━\u001b[0m\u001b[37m\u001b[0m \u001b[1m6s\u001b[0m 25ms/step - accuracy: 0.9899 - loss: 0.0276 - val_accuracy: 0.9188 - val_loss: 0.4247\n",
      "Epoch 26/40\n",
      "\u001b[1m235/235\u001b[0m \u001b[32m━━━━━━━━━━━━━━━━━━━━\u001b[0m\u001b[37m\u001b[0m \u001b[1m6s\u001b[0m 25ms/step - accuracy: 0.9899 - loss: 0.0299 - val_accuracy: 0.9227 - val_loss: 0.4274\n",
      "Epoch 27/40\n",
      "\u001b[1m235/235\u001b[0m \u001b[32m━━━━━━━━━━━━━━━━━━━━\u001b[0m\u001b[37m\u001b[0m \u001b[1m6s\u001b[0m 25ms/step - accuracy: 0.9911 - loss: 0.0247 - val_accuracy: 0.9223 - val_loss: 0.4520\n",
      "Epoch 28/40\n",
      "\u001b[1m235/235\u001b[0m \u001b[32m━━━━━━━━━━━━━━━━━━━━\u001b[0m\u001b[37m\u001b[0m \u001b[1m6s\u001b[0m 25ms/step - accuracy: 0.9879 - loss: 0.0342 - val_accuracy: 0.9247 - val_loss: 0.4354\n",
      "Epoch 29/40\n",
      "\u001b[1m235/235\u001b[0m \u001b[32m━━━━━━━━━━━━━━━━━━━━\u001b[0m\u001b[37m\u001b[0m \u001b[1m6s\u001b[0m 25ms/step - accuracy: 0.9919 - loss: 0.0229 - val_accuracy: 0.9228 - val_loss: 0.4413\n",
      "Epoch 30/40\n",
      "\u001b[1m235/235\u001b[0m \u001b[32m━━━━━━━━━━━━━━━━━━━━\u001b[0m\u001b[37m\u001b[0m \u001b[1m6s\u001b[0m 26ms/step - accuracy: 0.9928 - loss: 0.0213 - val_accuracy: 0.9240 - val_loss: 0.4529\n",
      "Epoch 31/40\n",
      "\u001b[1m235/235\u001b[0m \u001b[32m━━━━━━━━━━━━━━━━━━━━\u001b[0m\u001b[37m\u001b[0m \u001b[1m6s\u001b[0m 26ms/step - accuracy: 0.9919 - loss: 0.0224 - val_accuracy: 0.9261 - val_loss: 0.4506\n",
      "Epoch 32/40\n",
      "\u001b[1m235/235\u001b[0m \u001b[32m━━━━━━━━━━━━━━━━━━━━\u001b[0m\u001b[37m\u001b[0m \u001b[1m6s\u001b[0m 25ms/step - accuracy: 0.9932 - loss: 0.0195 - val_accuracy: 0.9223 - val_loss: 0.4950\n",
      "Epoch 33/40\n",
      "\u001b[1m235/235\u001b[0m \u001b[32m━━━━━━━━━━━━━━━━━━━━\u001b[0m\u001b[37m\u001b[0m \u001b[1m6s\u001b[0m 25ms/step - accuracy: 0.9926 - loss: 0.0208 - val_accuracy: 0.9234 - val_loss: 0.4675\n",
      "Epoch 34/40\n",
      "\u001b[1m235/235\u001b[0m \u001b[32m━━━━━━━━━━━━━━━━━━━━\u001b[0m\u001b[37m\u001b[0m \u001b[1m6s\u001b[0m 25ms/step - accuracy: 0.9923 - loss: 0.0226 - val_accuracy: 0.9208 - val_loss: 0.5006\n",
      "Epoch 35/40\n",
      "\u001b[1m235/235\u001b[0m \u001b[32m━━━━━━━━━━━━━━━━━━━━\u001b[0m\u001b[37m\u001b[0m \u001b[1m6s\u001b[0m 25ms/step - accuracy: 0.9915 - loss: 0.0242 - val_accuracy: 0.9248 - val_loss: 0.4932\n",
      "Epoch 36/40\n",
      "\u001b[1m235/235\u001b[0m \u001b[32m━━━━━━━━━━━━━━━━━━━━\u001b[0m\u001b[37m\u001b[0m \u001b[1m6s\u001b[0m 25ms/step - accuracy: 0.9944 - loss: 0.0154 - val_accuracy: 0.9252 - val_loss: 0.5259\n",
      "Epoch 37/40\n",
      "\u001b[1m235/235\u001b[0m \u001b[32m━━━━━━━━━━━━━━━━━━━━\u001b[0m\u001b[37m\u001b[0m \u001b[1m6s\u001b[0m 25ms/step - accuracy: 0.9947 - loss: 0.0155 - val_accuracy: 0.9238 - val_loss: 0.5441\n",
      "Epoch 38/40\n",
      "\u001b[1m235/235\u001b[0m \u001b[32m━━━━━━━━━━━━━━━━━━━━\u001b[0m\u001b[37m\u001b[0m \u001b[1m6s\u001b[0m 25ms/step - accuracy: 0.9932 - loss: 0.0199 - val_accuracy: 0.9238 - val_loss: 0.5674\n",
      "Epoch 39/40\n",
      "\u001b[1m235/235\u001b[0m \u001b[32m━━━━━━━━━━━━━━━━━━━━\u001b[0m\u001b[37m\u001b[0m \u001b[1m6s\u001b[0m 25ms/step - accuracy: 0.9939 - loss: 0.0182 - val_accuracy: 0.9225 - val_loss: 0.5396\n",
      "Epoch 40/40\n",
      "\u001b[1m235/235\u001b[0m \u001b[32m━━━━━━━━━━━━━━━━━━━━\u001b[0m\u001b[37m\u001b[0m \u001b[1m6s\u001b[0m 25ms/step - accuracy: 0.9931 - loss: 0.0180 - val_accuracy: 0.9218 - val_loss: 0.5968\n"
     ]
    },
    {
     "data": {
      "text/plain": [
       "<keras.src.callbacks.history.History at 0x1eb2c236690>"
      ]
     },
     "execution_count": 231,
     "metadata": {},
     "output_type": "execute_result"
    }
   ],
   "source": [
    "model.fit(\n",
    "  train_images,\n",
    "  to_categorical(train_labels),\n",
    "  batch_size = Batch_siza,\n",
    "  epochs=40,\n",
    "  validation_data=(test_images, to_categorical(test_labels)),\n",
    ")"
   ]
  },
  {
   "cell_type": "code",
   "execution_count": 232,
   "metadata": {},
   "outputs": [],
   "source": [
    "input_image = (28, 28, 1)\n",
    "Batch_siza = 256\n",
    "stride1 = 1\n",
    "stride2 = 1\n",
    "num_filters1 = 32\n",
    "num_filters2 = 64\n",
    "num_filters3 = 20\n",
    "filter_size1 = 3\n",
    "filter_size2 = 3\n",
    "filter_size3 = 4\n",
    "pool_size1 = 2\n",
    "pool_size2 = 2\n",
    "pool_size3 = 2\n",
    "dense_size1 = 256\n",
    "dense_size2 = 10\n",
    "x1 = int(((input_image[0]-filter_size1) + 1)/stride1)\n",
    "y1 = int(((input_image[1]-filter_size1) + 1)/stride1)\n",
    "output_image1 = (x1, y1, 1)\n",
    "x2 = int(((x1-filter_size2) + 1)/stride2)\n",
    "y2 = int(((y1-filter_size2) + 1)/stride2)\n",
    "output_image2 = (x2, y2, 1)\n",
    "\n",
    "# test_accuracy: 91%  15 epochs"
   ]
  },
  {
   "cell_type": "code",
   "execution_count": 233,
   "metadata": {},
   "outputs": [],
   "source": [
    "model = Sequential([\n",
    "  Conv2D(num_filters1, filter_size1, padding=\"same\",kernel_initializer='he_normal', input_shape = input_image, strides= stride1),\n",
    "  MaxPooling2D(pool_size=pool_size1),\n",
    "  Conv2D(num_filters2, filter_size2, padding=\"same\", input_shape = output_image1, strides= stride1),\n",
    "  MaxPooling2D(pool_size = pool_size2),\n",
    "  Conv2D(num_filters3, filter_size3, input_shape = output_image2),\n",
    "  MaxPooling2D(pool_size = pool_size3),\n",
    "  Flatten(),\n",
    "  Dense(dense_size1, activation='relu'),\n",
    "  Dense(dense_size2, activation='softmax'),\n",
    "])"
   ]
  },
  {
   "cell_type": "code",
   "execution_count": 234,
   "metadata": {},
   "outputs": [],
   "source": [
    "model.compile(\n",
    "  \n",
    "  'Adam',\n",
    "  loss='categorical_crossentropy',\n",
    "  metrics=['accuracy'],\n",
    ")"
   ]
  },
  {
   "cell_type": "code",
   "execution_count": 235,
   "metadata": {},
   "outputs": [
    {
     "name": "stdout",
     "output_type": "stream",
     "text": [
      "Epoch 1/40\n",
      "\u001b[1m235/235\u001b[0m \u001b[32m━━━━━━━━━━━━━━━━━━━━\u001b[0m\u001b[37m\u001b[0m \u001b[1m4s\u001b[0m 16ms/step - accuracy: 0.6897 - loss: 0.8702 - val_accuracy: 0.8568 - val_loss: 0.4050\n",
      "Epoch 2/40\n",
      "\u001b[1m235/235\u001b[0m \u001b[32m━━━━━━━━━━━━━━━━━━━━\u001b[0m\u001b[37m\u001b[0m \u001b[1m4s\u001b[0m 17ms/step - accuracy: 0.8646 - loss: 0.3822 - val_accuracy: 0.8811 - val_loss: 0.3314\n",
      "Epoch 3/40\n",
      "\u001b[1m235/235\u001b[0m \u001b[32m━━━━━━━━━━━━━━━━━━━━\u001b[0m\u001b[37m\u001b[0m \u001b[1m4s\u001b[0m 16ms/step - accuracy: 0.8843 - loss: 0.3243 - val_accuracy: 0.8900 - val_loss: 0.3043\n",
      "Epoch 4/40\n",
      "\u001b[1m235/235\u001b[0m \u001b[32m━━━━━━━━━━━━━━━━━━━━\u001b[0m\u001b[37m\u001b[0m \u001b[1m4s\u001b[0m 15ms/step - accuracy: 0.8957 - loss: 0.2917 - val_accuracy: 0.8936 - val_loss: 0.2900\n",
      "Epoch 5/40\n",
      "\u001b[1m235/235\u001b[0m \u001b[32m━━━━━━━━━━━━━━━━━━━━\u001b[0m\u001b[37m\u001b[0m \u001b[1m4s\u001b[0m 15ms/step - accuracy: 0.9041 - loss: 0.2666 - val_accuracy: 0.9019 - val_loss: 0.2674\n",
      "Epoch 6/40\n",
      "\u001b[1m235/235\u001b[0m \u001b[32m━━━━━━━━━━━━━━━━━━━━\u001b[0m\u001b[37m\u001b[0m \u001b[1m4s\u001b[0m 15ms/step - accuracy: 0.9109 - loss: 0.2454 - val_accuracy: 0.9039 - val_loss: 0.2617\n",
      "Epoch 7/40\n",
      "\u001b[1m235/235\u001b[0m \u001b[32m━━━━━━━━━━━━━━━━━━━━\u001b[0m\u001b[37m\u001b[0m \u001b[1m4s\u001b[0m 15ms/step - accuracy: 0.9171 - loss: 0.2286 - val_accuracy: 0.9087 - val_loss: 0.2526\n",
      "Epoch 8/40\n",
      "\u001b[1m235/235\u001b[0m \u001b[32m━━━━━━━━━━━━━━━━━━━━\u001b[0m\u001b[37m\u001b[0m \u001b[1m4s\u001b[0m 15ms/step - accuracy: 0.9233 - loss: 0.2121 - val_accuracy: 0.9027 - val_loss: 0.2683\n",
      "Epoch 9/40\n",
      "\u001b[1m235/235\u001b[0m \u001b[32m━━━━━━━━━━━━━━━━━━━━\u001b[0m\u001b[37m\u001b[0m \u001b[1m4s\u001b[0m 15ms/step - accuracy: 0.9286 - loss: 0.1984 - val_accuracy: 0.9076 - val_loss: 0.2512\n",
      "Epoch 10/40\n",
      "\u001b[1m235/235\u001b[0m \u001b[32m━━━━━━━━━━━━━━━━━━━━\u001b[0m\u001b[37m\u001b[0m \u001b[1m4s\u001b[0m 15ms/step - accuracy: 0.9324 - loss: 0.1870 - val_accuracy: 0.9096 - val_loss: 0.2522\n",
      "Epoch 11/40\n",
      "\u001b[1m235/235\u001b[0m \u001b[32m━━━━━━━━━━━━━━━━━━━━\u001b[0m\u001b[37m\u001b[0m \u001b[1m4s\u001b[0m 15ms/step - accuracy: 0.9340 - loss: 0.1842 - val_accuracy: 0.9081 - val_loss: 0.2633\n",
      "Epoch 12/40\n",
      "\u001b[1m235/235\u001b[0m \u001b[32m━━━━━━━━━━━━━━━━━━━━\u001b[0m\u001b[37m\u001b[0m \u001b[1m4s\u001b[0m 15ms/step - accuracy: 0.9357 - loss: 0.1742 - val_accuracy: 0.9128 - val_loss: 0.2496\n",
      "Epoch 13/40\n",
      "\u001b[1m235/235\u001b[0m \u001b[32m━━━━━━━━━━━━━━━━━━━━\u001b[0m\u001b[37m\u001b[0m \u001b[1m4s\u001b[0m 15ms/step - accuracy: 0.9443 - loss: 0.1531 - val_accuracy: 0.9115 - val_loss: 0.2573\n",
      "Epoch 14/40\n",
      "\u001b[1m235/235\u001b[0m \u001b[32m━━━━━━━━━━━━━━━━━━━━\u001b[0m\u001b[37m\u001b[0m \u001b[1m4s\u001b[0m 15ms/step - accuracy: 0.9464 - loss: 0.1443 - val_accuracy: 0.9074 - val_loss: 0.2722\n",
      "Epoch 15/40\n",
      "\u001b[1m235/235\u001b[0m \u001b[32m━━━━━━━━━━━━━━━━━━━━\u001b[0m\u001b[37m\u001b[0m \u001b[1m4s\u001b[0m 15ms/step - accuracy: 0.9512 - loss: 0.1348 - val_accuracy: 0.9073 - val_loss: 0.2812\n",
      "Epoch 16/40\n",
      "\u001b[1m235/235\u001b[0m \u001b[32m━━━━━━━━━━━━━━━━━━━━\u001b[0m\u001b[37m\u001b[0m \u001b[1m4s\u001b[0m 15ms/step - accuracy: 0.9541 - loss: 0.1280 - val_accuracy: 0.9098 - val_loss: 0.2722\n",
      "Epoch 17/40\n",
      "\u001b[1m235/235\u001b[0m \u001b[32m━━━━━━━━━━━━━━━━━━━━\u001b[0m\u001b[37m\u001b[0m \u001b[1m4s\u001b[0m 15ms/step - accuracy: 0.9601 - loss: 0.1107 - val_accuracy: 0.9132 - val_loss: 0.2638\n",
      "Epoch 18/40\n",
      "\u001b[1m235/235\u001b[0m \u001b[32m━━━━━━━━━━━━━━━━━━━━\u001b[0m\u001b[37m\u001b[0m \u001b[1m4s\u001b[0m 15ms/step - accuracy: 0.9588 - loss: 0.1127 - val_accuracy: 0.9060 - val_loss: 0.2973\n",
      "Epoch 19/40\n",
      "\u001b[1m235/235\u001b[0m \u001b[32m━━━━━━━━━━━━━━━━━━━━\u001b[0m\u001b[37m\u001b[0m \u001b[1m4s\u001b[0m 15ms/step - accuracy: 0.9608 - loss: 0.1080 - val_accuracy: 0.9107 - val_loss: 0.2930\n",
      "Epoch 20/40\n",
      "\u001b[1m235/235\u001b[0m \u001b[32m━━━━━━━━━━━━━━━━━━━━\u001b[0m\u001b[37m\u001b[0m \u001b[1m4s\u001b[0m 16ms/step - accuracy: 0.9650 - loss: 0.0969 - val_accuracy: 0.9151 - val_loss: 0.2805\n",
      "Epoch 21/40\n",
      "\u001b[1m235/235\u001b[0m \u001b[32m━━━━━━━━━━━━━━━━━━━━\u001b[0m\u001b[37m\u001b[0m \u001b[1m4s\u001b[0m 16ms/step - accuracy: 0.9689 - loss: 0.0865 - val_accuracy: 0.9102 - val_loss: 0.3151\n",
      "Epoch 22/40\n",
      "\u001b[1m235/235\u001b[0m \u001b[32m━━━━━━━━━━━━━━━━━━━━\u001b[0m\u001b[37m\u001b[0m \u001b[1m4s\u001b[0m 15ms/step - accuracy: 0.9730 - loss: 0.0785 - val_accuracy: 0.9090 - val_loss: 0.3157\n",
      "Epoch 23/40\n",
      "\u001b[1m235/235\u001b[0m \u001b[32m━━━━━━━━━━━━━━━━━━━━\u001b[0m\u001b[37m\u001b[0m \u001b[1m4s\u001b[0m 15ms/step - accuracy: 0.9708 - loss: 0.0799 - val_accuracy: 0.9114 - val_loss: 0.3213\n",
      "Epoch 24/40\n",
      "\u001b[1m235/235\u001b[0m \u001b[32m━━━━━━━━━━━━━━━━━━━━\u001b[0m\u001b[37m\u001b[0m \u001b[1m4s\u001b[0m 15ms/step - accuracy: 0.9767 - loss: 0.0670 - val_accuracy: 0.9114 - val_loss: 0.3326\n",
      "Epoch 25/40\n",
      "\u001b[1m235/235\u001b[0m \u001b[32m━━━━━━━━━━━━━━━━━━━━\u001b[0m\u001b[37m\u001b[0m \u001b[1m4s\u001b[0m 15ms/step - accuracy: 0.9734 - loss: 0.0724 - val_accuracy: 0.9064 - val_loss: 0.3713\n",
      "Epoch 26/40\n",
      "\u001b[1m235/235\u001b[0m \u001b[32m━━━━━━━━━━━━━━━━━━━━\u001b[0m\u001b[37m\u001b[0m \u001b[1m4s\u001b[0m 15ms/step - accuracy: 0.9755 - loss: 0.0669 - val_accuracy: 0.9118 - val_loss: 0.3540\n",
      "Epoch 27/40\n",
      "\u001b[1m235/235\u001b[0m \u001b[32m━━━━━━━━━━━━━━━━━━━━\u001b[0m\u001b[37m\u001b[0m \u001b[1m4s\u001b[0m 15ms/step - accuracy: 0.9788 - loss: 0.0574 - val_accuracy: 0.9046 - val_loss: 0.3941\n",
      "Epoch 28/40\n",
      "\u001b[1m235/235\u001b[0m \u001b[32m━━━━━━━━━━━━━━━━━━━━\u001b[0m\u001b[37m\u001b[0m \u001b[1m4s\u001b[0m 15ms/step - accuracy: 0.9803 - loss: 0.0539 - val_accuracy: 0.9073 - val_loss: 0.3966\n",
      "Epoch 29/40\n",
      "\u001b[1m235/235\u001b[0m \u001b[32m━━━━━━━━━━━━━━━━━━━━\u001b[0m\u001b[37m\u001b[0m \u001b[1m4s\u001b[0m 15ms/step - accuracy: 0.9807 - loss: 0.0551 - val_accuracy: 0.9062 - val_loss: 0.4027\n",
      "Epoch 30/40\n",
      "\u001b[1m235/235\u001b[0m \u001b[32m━━━━━━━━━━━━━━━━━━━━\u001b[0m\u001b[37m\u001b[0m \u001b[1m4s\u001b[0m 15ms/step - accuracy: 0.9821 - loss: 0.0497 - val_accuracy: 0.9064 - val_loss: 0.4178\n",
      "Epoch 31/40\n",
      "\u001b[1m235/235\u001b[0m \u001b[32m━━━━━━━━━━━━━━━━━━━━\u001b[0m\u001b[37m\u001b[0m \u001b[1m4s\u001b[0m 15ms/step - accuracy: 0.9857 - loss: 0.0414 - val_accuracy: 0.9061 - val_loss: 0.4430\n",
      "Epoch 32/40\n",
      "\u001b[1m235/235\u001b[0m \u001b[32m━━━━━━━━━━━━━━━━━━━━\u001b[0m\u001b[37m\u001b[0m \u001b[1m4s\u001b[0m 15ms/step - accuracy: 0.9865 - loss: 0.0392 - val_accuracy: 0.9050 - val_loss: 0.4781\n",
      "Epoch 33/40\n",
      "\u001b[1m235/235\u001b[0m \u001b[32m━━━━━━━━━━━━━━━━━━━━\u001b[0m\u001b[37m\u001b[0m \u001b[1m4s\u001b[0m 15ms/step - accuracy: 0.9849 - loss: 0.0426 - val_accuracy: 0.9060 - val_loss: 0.4645\n",
      "Epoch 34/40\n",
      "\u001b[1m235/235\u001b[0m \u001b[32m━━━━━━━━━━━━━━━━━━━━\u001b[0m\u001b[37m\u001b[0m \u001b[1m4s\u001b[0m 15ms/step - accuracy: 0.9861 - loss: 0.0399 - val_accuracy: 0.9032 - val_loss: 0.5110\n",
      "Epoch 35/40\n",
      "\u001b[1m235/235\u001b[0m \u001b[32m━━━━━━━━━━━━━━━━━━━━\u001b[0m\u001b[37m\u001b[0m \u001b[1m4s\u001b[0m 15ms/step - accuracy: 0.9860 - loss: 0.0377 - val_accuracy: 0.9101 - val_loss: 0.4889\n",
      "Epoch 36/40\n",
      "\u001b[1m235/235\u001b[0m \u001b[32m━━━━━━━━━━━━━━━━━━━━\u001b[0m\u001b[37m\u001b[0m \u001b[1m4s\u001b[0m 15ms/step - accuracy: 0.9850 - loss: 0.0416 - val_accuracy: 0.9010 - val_loss: 0.5194\n",
      "Epoch 37/40\n",
      "\u001b[1m235/235\u001b[0m \u001b[32m━━━━━━━━━━━━━━━━━━━━\u001b[0m\u001b[37m\u001b[0m \u001b[1m4s\u001b[0m 15ms/step - accuracy: 0.9904 - loss: 0.0282 - val_accuracy: 0.9025 - val_loss: 0.5489\n",
      "Epoch 38/40\n",
      "\u001b[1m235/235\u001b[0m \u001b[32m━━━━━━━━━━━━━━━━━━━━\u001b[0m\u001b[37m\u001b[0m \u001b[1m4s\u001b[0m 16ms/step - accuracy: 0.9881 - loss: 0.0340 - val_accuracy: 0.9103 - val_loss: 0.5092\n",
      "Epoch 39/40\n",
      "\u001b[1m235/235\u001b[0m \u001b[32m━━━━━━━━━━━━━━━━━━━━\u001b[0m\u001b[37m\u001b[0m \u001b[1m4s\u001b[0m 17ms/step - accuracy: 0.9912 - loss: 0.0249 - val_accuracy: 0.9026 - val_loss: 0.5670\n",
      "Epoch 40/40\n",
      "\u001b[1m235/235\u001b[0m \u001b[32m━━━━━━━━━━━━━━━━━━━━\u001b[0m\u001b[37m\u001b[0m \u001b[1m4s\u001b[0m 16ms/step - accuracy: 0.9886 - loss: 0.0325 - val_accuracy: 0.9045 - val_loss: 0.5899\n"
     ]
    },
    {
     "data": {
      "text/plain": [
       "<keras.src.callbacks.history.History at 0x1eb56cf20c0>"
      ]
     },
     "execution_count": 235,
     "metadata": {},
     "output_type": "execute_result"
    }
   ],
   "source": [
    "model.fit(\n",
    "  train_images,\n",
    "  to_categorical(train_labels),\n",
    "  batch_size = Batch_siza,\n",
    "  epochs=40,\n",
    "  validation_data=(test_images, to_categorical(test_labels)),\n",
    ")"
   ]
  },
  {
   "cell_type": "code",
   "execution_count": 236,
   "metadata": {},
   "outputs": [],
   "source": [
    "input_image = (28, 28, 1)\n",
    "Batch_siza = 256\n",
    "stride1 = 1\n",
    "stride2 = 1\n",
    "num_filters1 = 64\n",
    "num_filters2 = 32\n",
    "filter_size1 = 3\n",
    "filter_size2 = 3\n",
    "pool_size1 = 2\n",
    "pool_size2 = 2\n",
    "dense_size1 = 256\n",
    "dense_size2 = 10\n",
    "x1 = int(((input_image[0]-filter_size1) + 1)/stride1)\n",
    "y1 = int(((input_image[1]-filter_size1) + 1)/stride1)\n",
    "output_image1 = (x1, y1, 1)\n",
    "x2 = int(((x1-filter_size2) + 1)/stride2)\n",
    "y2 = int(((y1-filter_size2) + 1)/stride2)\n",
    "output_image2 = (x2, y2, 1)\n",
    "\n",
    "# 93% with epoch "
   ]
  },
  {
   "cell_type": "code",
   "execution_count": 237,
   "metadata": {},
   "outputs": [],
   "source": [
    "model = Sequential([\n",
    "  Conv2D(num_filters1, filter_size1, padding=\"same\",kernel_initializer='he_normal', input_shape = input_image, strides= stride1),\n",
    "  MaxPooling2D(pool_size=pool_size1),\n",
    "  Dropout(0.2),\n",
    "  Conv2D(num_filters2, filter_size2, padding=\"same\", input_shape = output_image1, strides= stride1),\n",
    "  MaxPooling2D(pool_size = pool_size2),\n",
    "  Dropout(0.2),\n",
    "  Flatten(),\n",
    "  Dense(dense_size1, activation='relu'),\n",
    "  Dense(dense_size2, activation='softmax'),\n",
    "])"
   ]
  },
  {
   "cell_type": "code",
   "execution_count": 238,
   "metadata": {},
   "outputs": [],
   "source": [
    "model.compile(\n",
    "  \n",
    "  'Adam',\n",
    "  loss='categorical_crossentropy',\n",
    "  metrics=['accuracy'],\n",
    ")"
   ]
  },
  {
   "cell_type": "code",
   "execution_count": 239,
   "metadata": {},
   "outputs": [
    {
     "name": "stdout",
     "output_type": "stream",
     "text": [
      "Epoch 1/40\n",
      "\u001b[1m235/235\u001b[0m \u001b[32m━━━━━━━━━━━━━━━━━━━━\u001b[0m\u001b[37m\u001b[0m \u001b[1m7s\u001b[0m 26ms/step - accuracy: 0.7284 - loss: 0.7876 - val_accuracy: 0.8706 - val_loss: 0.3696\n",
      "Epoch 2/40\n",
      "\u001b[1m235/235\u001b[0m \u001b[32m━━━━━━━━━━━━━━━━━━━━\u001b[0m\u001b[37m\u001b[0m \u001b[1m6s\u001b[0m 26ms/step - accuracy: 0.8683 - loss: 0.3650 - val_accuracy: 0.8856 - val_loss: 0.3212\n",
      "Epoch 3/40\n",
      "\u001b[1m235/235\u001b[0m \u001b[32m━━━━━━━━━━━━━━━━━━━━\u001b[0m\u001b[37m\u001b[0m \u001b[1m6s\u001b[0m 25ms/step - accuracy: 0.8875 - loss: 0.3121 - val_accuracy: 0.9016 - val_loss: 0.2808\n",
      "Epoch 4/40\n",
      "\u001b[1m235/235\u001b[0m \u001b[32m━━━━━━━━━━━━━━━━━━━━\u001b[0m\u001b[37m\u001b[0m \u001b[1m6s\u001b[0m 26ms/step - accuracy: 0.8982 - loss: 0.2759 - val_accuracy: 0.9055 - val_loss: 0.2639\n",
      "Epoch 5/40\n",
      "\u001b[1m235/235\u001b[0m \u001b[32m━━━━━━━━━━━━━━━━━━━━\u001b[0m\u001b[37m\u001b[0m \u001b[1m6s\u001b[0m 25ms/step - accuracy: 0.9115 - loss: 0.2420 - val_accuracy: 0.9099 - val_loss: 0.2518\n",
      "Epoch 6/40\n",
      "\u001b[1m235/235\u001b[0m \u001b[32m━━━━━━━━━━━━━━━━━━━━\u001b[0m\u001b[37m\u001b[0m \u001b[1m6s\u001b[0m 25ms/step - accuracy: 0.9168 - loss: 0.2261 - val_accuracy: 0.9164 - val_loss: 0.2348\n",
      "Epoch 7/40\n",
      "\u001b[1m235/235\u001b[0m \u001b[32m━━━━━━━━━━━━━━━━━━━━\u001b[0m\u001b[37m\u001b[0m \u001b[1m6s\u001b[0m 25ms/step - accuracy: 0.9248 - loss: 0.2007 - val_accuracy: 0.9176 - val_loss: 0.2276\n",
      "Epoch 8/40\n",
      "\u001b[1m235/235\u001b[0m \u001b[32m━━━━━━━━━━━━━━━━━━━━\u001b[0m\u001b[37m\u001b[0m \u001b[1m6s\u001b[0m 25ms/step - accuracy: 0.9331 - loss: 0.1809 - val_accuracy: 0.9188 - val_loss: 0.2302\n",
      "Epoch 9/40\n",
      "\u001b[1m235/235\u001b[0m \u001b[32m━━━━━━━━━━━━━━━━━━━━\u001b[0m\u001b[37m\u001b[0m \u001b[1m6s\u001b[0m 25ms/step - accuracy: 0.9369 - loss: 0.1717 - val_accuracy: 0.9218 - val_loss: 0.2248\n",
      "Epoch 10/40\n",
      "\u001b[1m235/235\u001b[0m \u001b[32m━━━━━━━━━━━━━━━━━━━━\u001b[0m\u001b[37m\u001b[0m \u001b[1m6s\u001b[0m 27ms/step - accuracy: 0.9409 - loss: 0.1582 - val_accuracy: 0.9200 - val_loss: 0.2248\n",
      "Epoch 11/40\n",
      "\u001b[1m235/235\u001b[0m \u001b[32m━━━━━━━━━━━━━━━━━━━━\u001b[0m\u001b[37m\u001b[0m \u001b[1m6s\u001b[0m 26ms/step - accuracy: 0.9455 - loss: 0.1439 - val_accuracy: 0.9266 - val_loss: 0.2148\n",
      "Epoch 12/40\n",
      "\u001b[1m235/235\u001b[0m \u001b[32m━━━━━━━━━━━━━━━━━━━━\u001b[0m\u001b[37m\u001b[0m \u001b[1m6s\u001b[0m 25ms/step - accuracy: 0.9486 - loss: 0.1365 - val_accuracy: 0.9285 - val_loss: 0.2135\n",
      "Epoch 13/40\n",
      "\u001b[1m235/235\u001b[0m \u001b[32m━━━━━━━━━━━━━━━━━━━━\u001b[0m\u001b[37m\u001b[0m \u001b[1m6s\u001b[0m 25ms/step - accuracy: 0.9519 - loss: 0.1262 - val_accuracy: 0.9224 - val_loss: 0.2351\n",
      "Epoch 14/40\n",
      "\u001b[1m235/235\u001b[0m \u001b[32m━━━━━━━━━━━━━━━━━━━━\u001b[0m\u001b[37m\u001b[0m \u001b[1m6s\u001b[0m 25ms/step - accuracy: 0.9580 - loss: 0.1125 - val_accuracy: 0.9257 - val_loss: 0.2407\n",
      "Epoch 15/40\n",
      "\u001b[1m235/235\u001b[0m \u001b[32m━━━━━━━━━━━━━━━━━━━━\u001b[0m\u001b[37m\u001b[0m \u001b[1m6s\u001b[0m 25ms/step - accuracy: 0.9605 - loss: 0.1067 - val_accuracy: 0.9246 - val_loss: 0.2327\n",
      "Epoch 16/40\n",
      "\u001b[1m235/235\u001b[0m \u001b[32m━━━━━━━━━━━━━━━━━━━━\u001b[0m\u001b[37m\u001b[0m \u001b[1m6s\u001b[0m 25ms/step - accuracy: 0.9631 - loss: 0.0989 - val_accuracy: 0.9243 - val_loss: 0.2457\n",
      "Epoch 17/40\n",
      "\u001b[1m235/235\u001b[0m \u001b[32m━━━━━━━━━━━━━━━━━━━━\u001b[0m\u001b[37m\u001b[0m \u001b[1m6s\u001b[0m 25ms/step - accuracy: 0.9648 - loss: 0.0942 - val_accuracy: 0.9269 - val_loss: 0.2419\n",
      "Epoch 18/40\n",
      "\u001b[1m235/235\u001b[0m \u001b[32m━━━━━━━━━━━━━━━━━━━━\u001b[0m\u001b[37m\u001b[0m \u001b[1m6s\u001b[0m 25ms/step - accuracy: 0.9671 - loss: 0.0878 - val_accuracy: 0.9280 - val_loss: 0.2488\n",
      "Epoch 19/40\n",
      "\u001b[1m235/235\u001b[0m \u001b[32m━━━━━━━━━━━━━━━━━━━━\u001b[0m\u001b[37m\u001b[0m \u001b[1m6s\u001b[0m 25ms/step - accuracy: 0.9686 - loss: 0.0841 - val_accuracy: 0.9254 - val_loss: 0.2479\n",
      "Epoch 20/40\n",
      "\u001b[1m235/235\u001b[0m \u001b[32m━━━━━━━━━━━━━━━━━━━━\u001b[0m\u001b[37m\u001b[0m \u001b[1m6s\u001b[0m 25ms/step - accuracy: 0.9703 - loss: 0.0799 - val_accuracy: 0.9264 - val_loss: 0.2647\n",
      "Epoch 21/40\n",
      "\u001b[1m235/235\u001b[0m \u001b[32m━━━━━━━━━━━━━━━━━━━━\u001b[0m\u001b[37m\u001b[0m \u001b[1m6s\u001b[0m 27ms/step - accuracy: 0.9708 - loss: 0.0745 - val_accuracy: 0.9235 - val_loss: 0.2758\n",
      "Epoch 22/40\n",
      "\u001b[1m235/235\u001b[0m \u001b[32m━━━━━━━━━━━━━━━━━━━━\u001b[0m\u001b[37m\u001b[0m \u001b[1m6s\u001b[0m 26ms/step - accuracy: 0.9750 - loss: 0.0669 - val_accuracy: 0.9266 - val_loss: 0.2656\n",
      "Epoch 23/40\n",
      "\u001b[1m235/235\u001b[0m \u001b[32m━━━━━━━━━━━━━━━━━━━━\u001b[0m\u001b[37m\u001b[0m \u001b[1m6s\u001b[0m 25ms/step - accuracy: 0.9741 - loss: 0.0697 - val_accuracy: 0.9276 - val_loss: 0.2731\n",
      "Epoch 24/40\n",
      "\u001b[1m235/235\u001b[0m \u001b[32m━━━━━━━━━━━━━━━━━━━━\u001b[0m\u001b[37m\u001b[0m \u001b[1m6s\u001b[0m 25ms/step - accuracy: 0.9764 - loss: 0.0635 - val_accuracy: 0.9280 - val_loss: 0.2715\n",
      "Epoch 25/40\n",
      "\u001b[1m235/235\u001b[0m \u001b[32m━━━━━━━━━━━━━━━━━━━━\u001b[0m\u001b[37m\u001b[0m \u001b[1m6s\u001b[0m 25ms/step - accuracy: 0.9773 - loss: 0.0610 - val_accuracy: 0.9282 - val_loss: 0.2829\n",
      "Epoch 26/40\n",
      "\u001b[1m235/235\u001b[0m \u001b[32m━━━━━━━━━━━━━━━━━━━━\u001b[0m\u001b[37m\u001b[0m \u001b[1m6s\u001b[0m 25ms/step - accuracy: 0.9789 - loss: 0.0561 - val_accuracy: 0.9260 - val_loss: 0.2965\n",
      "Epoch 27/40\n",
      "\u001b[1m235/235\u001b[0m \u001b[32m━━━━━━━━━━━━━━━━━━━━\u001b[0m\u001b[37m\u001b[0m \u001b[1m6s\u001b[0m 25ms/step - accuracy: 0.9800 - loss: 0.0544 - val_accuracy: 0.9284 - val_loss: 0.3142\n",
      "Epoch 28/40\n",
      "\u001b[1m235/235\u001b[0m \u001b[32m━━━━━━━━━━━━━━━━━━━━\u001b[0m\u001b[37m\u001b[0m \u001b[1m6s\u001b[0m 25ms/step - accuracy: 0.9792 - loss: 0.0559 - val_accuracy: 0.9282 - val_loss: 0.2993\n",
      "Epoch 29/40\n",
      "\u001b[1m235/235\u001b[0m \u001b[32m━━━━━━━━━━━━━━━━━━━━\u001b[0m\u001b[37m\u001b[0m \u001b[1m6s\u001b[0m 25ms/step - accuracy: 0.9808 - loss: 0.0525 - val_accuracy: 0.9291 - val_loss: 0.3226\n",
      "Epoch 30/40\n",
      "\u001b[1m235/235\u001b[0m \u001b[32m━━━━━━━━━━━━━━━━━━━━\u001b[0m\u001b[37m\u001b[0m \u001b[1m6s\u001b[0m 25ms/step - accuracy: 0.9823 - loss: 0.0492 - val_accuracy: 0.9271 - val_loss: 0.3042\n",
      "Epoch 31/40\n",
      "\u001b[1m235/235\u001b[0m \u001b[32m━━━━━━━━━━━━━━━━━━━━\u001b[0m\u001b[37m\u001b[0m \u001b[1m6s\u001b[0m 25ms/step - accuracy: 0.9820 - loss: 0.0496 - val_accuracy: 0.9276 - val_loss: 0.3451\n",
      "Epoch 32/40\n",
      "\u001b[1m235/235\u001b[0m \u001b[32m━━━━━━━━━━━━━━━━━━━━\u001b[0m\u001b[37m\u001b[0m \u001b[1m6s\u001b[0m 26ms/step - accuracy: 0.9816 - loss: 0.0493 - val_accuracy: 0.9283 - val_loss: 0.3107\n",
      "Epoch 33/40\n",
      "\u001b[1m235/235\u001b[0m \u001b[32m━━━━━━━━━━━━━━━━━━━━\u001b[0m\u001b[37m\u001b[0m \u001b[1m6s\u001b[0m 26ms/step - accuracy: 0.9835 - loss: 0.0444 - val_accuracy: 0.9284 - val_loss: 0.3511\n",
      "Epoch 34/40\n",
      "\u001b[1m235/235\u001b[0m \u001b[32m━━━━━━━━━━━━━━━━━━━━\u001b[0m\u001b[37m\u001b[0m \u001b[1m6s\u001b[0m 26ms/step - accuracy: 0.9840 - loss: 0.0461 - val_accuracy: 0.9267 - val_loss: 0.3419\n",
      "Epoch 35/40\n",
      "\u001b[1m235/235\u001b[0m \u001b[32m━━━━━━━━━━━━━━━━━━━━\u001b[0m\u001b[37m\u001b[0m \u001b[1m6s\u001b[0m 25ms/step - accuracy: 0.9837 - loss: 0.0444 - val_accuracy: 0.9282 - val_loss: 0.3323\n",
      "Epoch 36/40\n",
      "\u001b[1m235/235\u001b[0m \u001b[32m━━━━━━━━━━━━━━━━━━━━\u001b[0m\u001b[37m\u001b[0m \u001b[1m6s\u001b[0m 25ms/step - accuracy: 0.9854 - loss: 0.0397 - val_accuracy: 0.9257 - val_loss: 0.3742\n",
      "Epoch 37/40\n",
      "\u001b[1m235/235\u001b[0m \u001b[32m━━━━━━━━━━━━━━━━━━━━\u001b[0m\u001b[37m\u001b[0m \u001b[1m6s\u001b[0m 26ms/step - accuracy: 0.9862 - loss: 0.0386 - val_accuracy: 0.9290 - val_loss: 0.3386\n",
      "Epoch 38/40\n",
      "\u001b[1m235/235\u001b[0m \u001b[32m━━━━━━━━━━━━━━━━━━━━\u001b[0m\u001b[37m\u001b[0m \u001b[1m6s\u001b[0m 25ms/step - accuracy: 0.9873 - loss: 0.0368 - val_accuracy: 0.9231 - val_loss: 0.3643\n",
      "Epoch 39/40\n",
      "\u001b[1m235/235\u001b[0m \u001b[32m━━━━━━━━━━━━━━━━━━━━\u001b[0m\u001b[37m\u001b[0m \u001b[1m6s\u001b[0m 26ms/step - accuracy: 0.9846 - loss: 0.0419 - val_accuracy: 0.9272 - val_loss: 0.3650\n",
      "Epoch 40/40\n",
      "\u001b[1m235/235\u001b[0m \u001b[32m━━━━━━━━━━━━━━━━━━━━\u001b[0m\u001b[37m\u001b[0m \u001b[1m6s\u001b[0m 26ms/step - accuracy: 0.9874 - loss: 0.0363 - val_accuracy: 0.9247 - val_loss: 0.3989\n"
     ]
    },
    {
     "data": {
      "text/plain": [
       "<keras.src.callbacks.history.History at 0x1eb4dc56600>"
      ]
     },
     "execution_count": 239,
     "metadata": {},
     "output_type": "execute_result"
    }
   ],
   "source": [
    "model.fit(\n",
    "  train_images,\n",
    "  to_categorical(train_labels),\n",
    "  batch_size = Batch_siza,\n",
    "  epochs=40,\n",
    "  validation_data=(test_images, to_categorical(test_labels)),\n",
    ")"
   ]
  },
  {
   "cell_type": "code",
   "execution_count": 240,
   "metadata": {},
   "outputs": [],
   "source": [
    "input_image = (28, 28, 1)\n",
    "Batch_siza = 256\n",
    "stride1 = 1\n",
    "stride2 = 1\n",
    "num_filters1 = 64\n",
    "num_filters2 = 32\n",
    "filter_size1 = 3\n",
    "filter_size2 = 3\n",
    "pool_size1 = 2\n",
    "pool_size2 = 2\n",
    "dense_size1 = 256\n",
    "dense_size2 = 10\n",
    "x1 = int(((input_image[0]-filter_size1) + 1)/stride1)\n",
    "y1 = int(((input_image[1]-filter_size1) + 1)/stride1)\n",
    "output_image1 = (x1, y1, 1)\n",
    "x2 = int(((x1-filter_size2) + 1)/stride2)\n",
    "y2 = int(((y1-filter_size2) + 1)/stride2)\n",
    "output_image2 = (x2, y2, 1)"
   ]
  },
  {
   "cell_type": "code",
   "execution_count": 241,
   "metadata": {},
   "outputs": [],
   "source": [
    "model = Sequential([\n",
    "  Conv2D(num_filters1, filter_size1, padding=\"same\",kernel_initializer='he_normal', input_shape = input_image, strides= stride1),\n",
    "  MaxPooling2D(pool_size=pool_size1),\n",
    "  Dropout(0.2),\n",
    "  Conv2D(num_filters2, filter_size2, padding=\"same\", input_shape = output_image1, strides= stride1),\n",
    "  MaxPooling2D(pool_size = pool_size2),\n",
    "  Dropout(0.2),\n",
    "  Flatten(),\n",
    "  Dense(dense_size1, activation='softmax'),\n",
    "  Dense(dense_size2, activation='softmax'),\n",
    "])"
   ]
  },
  {
   "cell_type": "code",
   "execution_count": 242,
   "metadata": {},
   "outputs": [],
   "source": [
    "model.compile(\n",
    "  \n",
    "  'Adam',\n",
    "  loss='categorical_crossentropy',\n",
    "  metrics=['accuracy'],\n",
    ")"
   ]
  },
  {
   "cell_type": "code",
   "execution_count": 244,
   "metadata": {},
   "outputs": [
    {
     "name": "stdout",
     "output_type": "stream",
     "text": [
      "Epoch 1/110\n",
      "\u001b[1m235/235\u001b[0m \u001b[32m━━━━━━━━━━━━━━━━━━━━\u001b[0m\u001b[37m\u001b[0m \u001b[1m8s\u001b[0m 27ms/step - accuracy: 0.5550 - loss: 2.1299 - val_accuracy: 0.6758 - val_loss: 1.8521\n",
      "Epoch 2/110\n",
      "\u001b[1m235/235\u001b[0m \u001b[32m━━━━━━━━━━━━━━━━━━━━\u001b[0m\u001b[37m\u001b[0m \u001b[1m6s\u001b[0m 27ms/step - accuracy: 0.6831 - loss: 1.7768 - val_accuracy: 0.6972 - val_loss: 1.5623\n",
      "Epoch 3/110\n",
      "\u001b[1m235/235\u001b[0m \u001b[32m━━━━━━━━━━━━━━━━━━━━\u001b[0m\u001b[37m\u001b[0m \u001b[1m6s\u001b[0m 26ms/step - accuracy: 0.7162 - loss: 1.5031 - val_accuracy: 0.7468 - val_loss: 1.3152\n",
      "Epoch 4/110\n",
      "\u001b[1m235/235\u001b[0m \u001b[32m━━━━━━━━━━━━━━━━━━━━\u001b[0m\u001b[37m\u001b[0m \u001b[1m6s\u001b[0m 26ms/step - accuracy: 0.7487 - loss: 1.2672 - val_accuracy: 0.7572 - val_loss: 1.1228\n",
      "Epoch 5/110\n",
      "\u001b[1m235/235\u001b[0m \u001b[32m━━━━━━━━━━━━━━━━━━━━\u001b[0m\u001b[37m\u001b[0m \u001b[1m6s\u001b[0m 26ms/step - accuracy: 0.7583 - loss: 1.0854 - val_accuracy: 0.7599 - val_loss: 0.9791\n",
      "Epoch 6/110\n",
      "\u001b[1m235/235\u001b[0m \u001b[32m━━━━━━━━━━━━━━━━━━━━\u001b[0m\u001b[37m\u001b[0m \u001b[1m6s\u001b[0m 26ms/step - accuracy: 0.7590 - loss: 0.9562 - val_accuracy: 0.7588 - val_loss: 0.8835\n",
      "Epoch 7/110\n",
      "\u001b[1m235/235\u001b[0m \u001b[32m━━━━━━━━━━━━━━━━━━━━\u001b[0m\u001b[37m\u001b[0m \u001b[1m6s\u001b[0m 26ms/step - accuracy: 0.7625 - loss: 0.8559 - val_accuracy: 0.7639 - val_loss: 0.7991\n",
      "Epoch 8/110\n",
      "\u001b[1m235/235\u001b[0m \u001b[32m━━━━━━━━━━━━━━━━━━━━\u001b[0m\u001b[37m\u001b[0m \u001b[1m6s\u001b[0m 26ms/step - accuracy: 0.7650 - loss: 0.7833 - val_accuracy: 0.7677 - val_loss: 0.7374\n",
      "Epoch 9/110\n",
      "\u001b[1m235/235\u001b[0m \u001b[32m━━━━━━━━━━━━━━━━━━━━\u001b[0m\u001b[37m\u001b[0m \u001b[1m6s\u001b[0m 26ms/step - accuracy: 0.7660 - loss: 0.7298 - val_accuracy: 0.7718 - val_loss: 0.6942\n",
      "Epoch 10/110\n",
      "\u001b[1m235/235\u001b[0m \u001b[32m━━━━━━━━━━━━━━━━━━━━\u001b[0m\u001b[37m\u001b[0m \u001b[1m6s\u001b[0m 26ms/step - accuracy: 0.7698 - loss: 0.6844 - val_accuracy: 0.7692 - val_loss: 0.6565\n",
      "Epoch 11/110\n",
      "\u001b[1m235/235\u001b[0m \u001b[32m━━━━━━━━━━━━━━━━━━━━\u001b[0m\u001b[37m\u001b[0m \u001b[1m6s\u001b[0m 26ms/step - accuracy: 0.7682 - loss: 0.6538 - val_accuracy: 0.7699 - val_loss: 0.6449\n",
      "Epoch 12/110\n",
      "\u001b[1m235/235\u001b[0m \u001b[32m━━━━━━━━━━━━━━━━━━━━\u001b[0m\u001b[37m\u001b[0m \u001b[1m6s\u001b[0m 28ms/step - accuracy: 0.7719 - loss: 0.6246 - val_accuracy: 0.7759 - val_loss: 0.6091\n",
      "Epoch 13/110\n",
      "\u001b[1m235/235\u001b[0m \u001b[32m━━━━━━━━━━━━━━━━━━━━\u001b[0m\u001b[37m\u001b[0m \u001b[1m6s\u001b[0m 27ms/step - accuracy: 0.7718 - loss: 0.6014 - val_accuracy: 0.7708 - val_loss: 0.6001\n",
      "Epoch 14/110\n",
      "\u001b[1m235/235\u001b[0m \u001b[32m━━━━━━━━━━━━━━━━━━━━\u001b[0m\u001b[37m\u001b[0m \u001b[1m6s\u001b[0m 26ms/step - accuracy: 0.7768 - loss: 0.5827 - val_accuracy: 0.7719 - val_loss: 0.5788\n",
      "Epoch 15/110\n",
      "\u001b[1m235/235\u001b[0m \u001b[32m━━━━━━━━━━━━━━━━━━━━\u001b[0m\u001b[37m\u001b[0m \u001b[1m6s\u001b[0m 26ms/step - accuracy: 0.7749 - loss: 0.5638 - val_accuracy: 0.7729 - val_loss: 0.5653\n",
      "Epoch 16/110\n",
      "\u001b[1m235/235\u001b[0m \u001b[32m━━━━━━━━━━━━━━━━━━━━\u001b[0m\u001b[37m\u001b[0m \u001b[1m6s\u001b[0m 27ms/step - accuracy: 0.7755 - loss: 0.5581 - val_accuracy: 0.7742 - val_loss: 0.5653\n",
      "Epoch 17/110\n",
      "\u001b[1m235/235\u001b[0m \u001b[32m━━━━━━━━━━━━━━━━━━━━\u001b[0m\u001b[37m\u001b[0m \u001b[1m6s\u001b[0m 27ms/step - accuracy: 0.7800 - loss: 0.5422 - val_accuracy: 0.7693 - val_loss: 0.5595\n",
      "Epoch 18/110\n",
      "\u001b[1m235/235\u001b[0m \u001b[32m━━━━━━━━━━━━━━━━━━━━\u001b[0m\u001b[37m\u001b[0m \u001b[1m6s\u001b[0m 26ms/step - accuracy: 0.7790 - loss: 0.5382 - val_accuracy: 0.7782 - val_loss: 0.5426\n",
      "Epoch 19/110\n",
      "\u001b[1m235/235\u001b[0m \u001b[32m━━━━━━━━━━━━━━━━━━━━\u001b[0m\u001b[37m\u001b[0m \u001b[1m6s\u001b[0m 26ms/step - accuracy: 0.7804 - loss: 0.5263 - val_accuracy: 0.7772 - val_loss: 0.5471\n",
      "Epoch 20/110\n",
      "\u001b[1m235/235\u001b[0m \u001b[32m━━━━━━━━━━━━━━━━━━━━\u001b[0m\u001b[37m\u001b[0m \u001b[1m6s\u001b[0m 27ms/step - accuracy: 0.7794 - loss: 0.5219 - val_accuracy: 0.7762 - val_loss: 0.5391\n",
      "Epoch 21/110\n",
      "\u001b[1m235/235\u001b[0m \u001b[32m━━━━━━━━━━━━━━━━━━━━\u001b[0m\u001b[37m\u001b[0m \u001b[1m6s\u001b[0m 26ms/step - accuracy: 0.7805 - loss: 0.5129 - val_accuracy: 0.7791 - val_loss: 0.5362\n",
      "Epoch 22/110\n",
      "\u001b[1m235/235\u001b[0m \u001b[32m━━━━━━━━━━━━━━━━━━━━\u001b[0m\u001b[37m\u001b[0m \u001b[1m6s\u001b[0m 26ms/step - accuracy: 0.7815 - loss: 0.5127 - val_accuracy: 0.7775 - val_loss: 0.5302\n",
      "Epoch 23/110\n",
      "\u001b[1m235/235\u001b[0m \u001b[32m━━━━━━━━━━━━━━━━━━━━\u001b[0m\u001b[37m\u001b[0m \u001b[1m7s\u001b[0m 28ms/step - accuracy: 0.7838 - loss: 0.5006 - val_accuracy: 0.7800 - val_loss: 0.5206\n",
      "Epoch 24/110\n",
      "\u001b[1m235/235\u001b[0m \u001b[32m━━━━━━━━━━━━━━━━━━━━\u001b[0m\u001b[37m\u001b[0m \u001b[1m6s\u001b[0m 26ms/step - accuracy: 0.7900 - loss: 0.4933 - val_accuracy: 0.7972 - val_loss: 0.5010\n",
      "Epoch 25/110\n",
      "\u001b[1m235/235\u001b[0m \u001b[32m━━━━━━━━━━━━━━━━━━━━\u001b[0m\u001b[37m\u001b[0m \u001b[1m6s\u001b[0m 26ms/step - accuracy: 0.8114 - loss: 0.4698 - val_accuracy: 0.8200 - val_loss: 0.4766\n",
      "Epoch 26/110\n",
      "\u001b[1m235/235\u001b[0m \u001b[32m━━━━━━━━━━━━━━━━━━━━\u001b[0m\u001b[37m\u001b[0m \u001b[1m6s\u001b[0m 26ms/step - accuracy: 0.8243 - loss: 0.4398 - val_accuracy: 0.8257 - val_loss: 0.4570\n",
      "Epoch 27/110\n",
      "\u001b[1m235/235\u001b[0m \u001b[32m━━━━━━━━━━━━━━━━━━━━\u001b[0m\u001b[37m\u001b[0m \u001b[1m6s\u001b[0m 27ms/step - accuracy: 0.8299 - loss: 0.4300 - val_accuracy: 0.8217 - val_loss: 0.4493\n",
      "Epoch 28/110\n",
      "\u001b[1m235/235\u001b[0m \u001b[32m━━━━━━━━━━━━━━━━━━━━\u001b[0m\u001b[37m\u001b[0m \u001b[1m6s\u001b[0m 27ms/step - accuracy: 0.8271 - loss: 0.4267 - val_accuracy: 0.8327 - val_loss: 0.4362\n",
      "Epoch 29/110\n",
      "\u001b[1m235/235\u001b[0m \u001b[32m━━━━━━━━━━━━━━━━━━━━\u001b[0m\u001b[37m\u001b[0m \u001b[1m6s\u001b[0m 26ms/step - accuracy: 0.8355 - loss: 0.4098 - val_accuracy: 0.8291 - val_loss: 0.4258\n",
      "Epoch 30/110\n",
      "\u001b[1m235/235\u001b[0m \u001b[32m━━━━━━━━━━━━━━━━━━━━\u001b[0m\u001b[37m\u001b[0m \u001b[1m6s\u001b[0m 27ms/step - accuracy: 0.8400 - loss: 0.3937 - val_accuracy: 0.8230 - val_loss: 0.4321\n",
      "Epoch 31/110\n",
      "\u001b[1m235/235\u001b[0m \u001b[32m━━━━━━━━━━━━━━━━━━━━\u001b[0m\u001b[37m\u001b[0m \u001b[1m6s\u001b[0m 27ms/step - accuracy: 0.8399 - loss: 0.3943 - val_accuracy: 0.8344 - val_loss: 0.4180\n",
      "Epoch 32/110\n",
      "\u001b[1m235/235\u001b[0m \u001b[32m━━━━━━━━━━━━━━━━━━━━\u001b[0m\u001b[37m\u001b[0m \u001b[1m6s\u001b[0m 26ms/step - accuracy: 0.8441 - loss: 0.3902 - val_accuracy: 0.8327 - val_loss: 0.4201\n",
      "Epoch 33/110\n",
      "\u001b[1m235/235\u001b[0m \u001b[32m━━━━━━━━━━━━━━━━━━━━\u001b[0m\u001b[37m\u001b[0m \u001b[1m6s\u001b[0m 27ms/step - accuracy: 0.8569 - loss: 0.3721 - val_accuracy: 0.8598 - val_loss: 0.4008\n",
      "Epoch 34/110\n",
      "\u001b[1m235/235\u001b[0m \u001b[32m━━━━━━━━━━━━━━━━━━━━\u001b[0m\u001b[37m\u001b[0m \u001b[1m6s\u001b[0m 27ms/step - accuracy: 0.8733 - loss: 0.3610 - val_accuracy: 0.8975 - val_loss: 0.3585\n",
      "Epoch 35/110\n",
      "\u001b[1m235/235\u001b[0m \u001b[32m━━━━━━━━━━━━━━━━━━━━\u001b[0m\u001b[37m\u001b[0m \u001b[1m6s\u001b[0m 27ms/step - accuracy: 0.9003 - loss: 0.3317 - val_accuracy: 0.9045 - val_loss: 0.3394\n",
      "Epoch 36/110\n",
      "\u001b[1m235/235\u001b[0m \u001b[32m━━━━━━━━━━━━━━━━━━━━\u001b[0m\u001b[37m\u001b[0m \u001b[1m6s\u001b[0m 26ms/step - accuracy: 0.9103 - loss: 0.3024 - val_accuracy: 0.9045 - val_loss: 0.3302\n",
      "Epoch 37/110\n",
      "\u001b[1m235/235\u001b[0m \u001b[32m━━━━━━━━━━━━━━━━━━━━\u001b[0m\u001b[37m\u001b[0m \u001b[1m6s\u001b[0m 27ms/step - accuracy: 0.9120 - loss: 0.2949 - val_accuracy: 0.9076 - val_loss: 0.3195\n",
      "Epoch 38/110\n",
      "\u001b[1m235/235\u001b[0m \u001b[32m━━━━━━━━━━━━━━━━━━━━\u001b[0m\u001b[37m\u001b[0m \u001b[1m6s\u001b[0m 27ms/step - accuracy: 0.9140 - loss: 0.2846 - val_accuracy: 0.9112 - val_loss: 0.2981\n",
      "Epoch 39/110\n",
      "\u001b[1m235/235\u001b[0m \u001b[32m━━━━━━━━━━━━━━━━━━━━\u001b[0m\u001b[37m\u001b[0m \u001b[1m6s\u001b[0m 27ms/step - accuracy: 0.9173 - loss: 0.2693 - val_accuracy: 0.9115 - val_loss: 0.3024\n",
      "Epoch 40/110\n",
      "\u001b[1m235/235\u001b[0m \u001b[32m━━━━━━━━━━━━━━━━━━━━\u001b[0m\u001b[37m\u001b[0m \u001b[1m6s\u001b[0m 27ms/step - accuracy: 0.9191 - loss: 0.2671 - val_accuracy: 0.9133 - val_loss: 0.2932\n",
      "Epoch 41/110\n",
      "\u001b[1m235/235\u001b[0m \u001b[32m━━━━━━━━━━━━━━━━━━━━\u001b[0m\u001b[37m\u001b[0m \u001b[1m6s\u001b[0m 26ms/step - accuracy: 0.9202 - loss: 0.2618 - val_accuracy: 0.9115 - val_loss: 0.2940\n",
      "Epoch 42/110\n",
      "\u001b[1m235/235\u001b[0m \u001b[32m━━━━━━━━━━━━━━━━━━━━\u001b[0m\u001b[37m\u001b[0m \u001b[1m6s\u001b[0m 26ms/step - accuracy: 0.9198 - loss: 0.2573 - val_accuracy: 0.9147 - val_loss: 0.2845\n",
      "Epoch 43/110\n",
      "\u001b[1m235/235\u001b[0m \u001b[32m━━━━━━━━━━━━━━━━━━━━\u001b[0m\u001b[37m\u001b[0m \u001b[1m6s\u001b[0m 27ms/step - accuracy: 0.9240 - loss: 0.2437 - val_accuracy: 0.9143 - val_loss: 0.2834\n",
      "Epoch 44/110\n",
      "\u001b[1m235/235\u001b[0m \u001b[32m━━━━━━━━━━━━━━━━━━━━\u001b[0m\u001b[37m\u001b[0m \u001b[1m7s\u001b[0m 29ms/step - accuracy: 0.9240 - loss: 0.2477 - val_accuracy: 0.9156 - val_loss: 0.2759\n",
      "Epoch 45/110\n",
      "\u001b[1m235/235\u001b[0m \u001b[32m━━━━━━━━━━━━━━━━━━━━\u001b[0m\u001b[37m\u001b[0m \u001b[1m6s\u001b[0m 27ms/step - accuracy: 0.9252 - loss: 0.2400 - val_accuracy: 0.9099 - val_loss: 0.2972\n",
      "Epoch 46/110\n",
      "\u001b[1m235/235\u001b[0m \u001b[32m━━━━━━━━━━━━━━━━━━━━\u001b[0m\u001b[37m\u001b[0m \u001b[1m6s\u001b[0m 26ms/step - accuracy: 0.9241 - loss: 0.2409 - val_accuracy: 0.9184 - val_loss: 0.2717\n",
      "Epoch 47/110\n",
      "\u001b[1m235/235\u001b[0m \u001b[32m━━━━━━━━━━━━━━━━━━━━\u001b[0m\u001b[37m\u001b[0m \u001b[1m6s\u001b[0m 27ms/step - accuracy: 0.9272 - loss: 0.2321 - val_accuracy: 0.9151 - val_loss: 0.2806\n",
      "Epoch 48/110\n",
      "\u001b[1m235/235\u001b[0m \u001b[32m━━━━━━━━━━━━━━━━━━━━\u001b[0m\u001b[37m\u001b[0m \u001b[1m6s\u001b[0m 27ms/step - accuracy: 0.9283 - loss: 0.2304 - val_accuracy: 0.9167 - val_loss: 0.2744\n",
      "Epoch 49/110\n",
      "\u001b[1m235/235\u001b[0m \u001b[32m━━━━━━━━━━━━━━━━━━━━\u001b[0m\u001b[37m\u001b[0m \u001b[1m6s\u001b[0m 27ms/step - accuracy: 0.9259 - loss: 0.2313 - val_accuracy: 0.9181 - val_loss: 0.2731\n",
      "Epoch 50/110\n",
      "\u001b[1m235/235\u001b[0m \u001b[32m━━━━━━━━━━━━━━━━━━━━\u001b[0m\u001b[37m\u001b[0m \u001b[1m6s\u001b[0m 26ms/step - accuracy: 0.9268 - loss: 0.2295 - val_accuracy: 0.9169 - val_loss: 0.2794\n",
      "Epoch 51/110\n",
      "\u001b[1m235/235\u001b[0m \u001b[32m━━━━━━━━━━━━━━━━━━━━\u001b[0m\u001b[37m\u001b[0m \u001b[1m6s\u001b[0m 27ms/step - accuracy: 0.9291 - loss: 0.2254 - val_accuracy: 0.9165 - val_loss: 0.2782\n",
      "Epoch 52/110\n",
      "\u001b[1m235/235\u001b[0m \u001b[32m━━━━━━━━━━━━━━━━━━━━\u001b[0m\u001b[37m\u001b[0m \u001b[1m6s\u001b[0m 26ms/step - accuracy: 0.9305 - loss: 0.2190 - val_accuracy: 0.9164 - val_loss: 0.2728\n",
      "Epoch 53/110\n",
      "\u001b[1m235/235\u001b[0m \u001b[32m━━━━━━━━━━━━━━━━━━━━\u001b[0m\u001b[37m\u001b[0m \u001b[1m6s\u001b[0m 26ms/step - accuracy: 0.9306 - loss: 0.2179 - val_accuracy: 0.9158 - val_loss: 0.2675\n",
      "Epoch 54/110\n",
      "\u001b[1m235/235\u001b[0m \u001b[32m━━━━━━━━━━━━━━━━━━━━\u001b[0m\u001b[37m\u001b[0m \u001b[1m6s\u001b[0m 27ms/step - accuracy: 0.9316 - loss: 0.2143 - val_accuracy: 0.9163 - val_loss: 0.2714\n",
      "Epoch 55/110\n",
      "\u001b[1m235/235\u001b[0m \u001b[32m━━━━━━━━━━━━━━━━━━━━\u001b[0m\u001b[37m\u001b[0m \u001b[1m7s\u001b[0m 28ms/step - accuracy: 0.9315 - loss: 0.2164 - val_accuracy: 0.9193 - val_loss: 0.2656\n",
      "Epoch 56/110\n",
      "\u001b[1m235/235\u001b[0m \u001b[32m━━━━━━━━━━━━━━━━━━━━\u001b[0m\u001b[37m\u001b[0m \u001b[1m6s\u001b[0m 27ms/step - accuracy: 0.9341 - loss: 0.2055 - val_accuracy: 0.9148 - val_loss: 0.2792\n",
      "Epoch 57/110\n",
      "\u001b[1m235/235\u001b[0m \u001b[32m━━━━━━━━━━━━━━━━━━━━\u001b[0m\u001b[37m\u001b[0m \u001b[1m6s\u001b[0m 27ms/step - accuracy: 0.9316 - loss: 0.2132 - val_accuracy: 0.9196 - val_loss: 0.2650\n",
      "Epoch 58/110\n",
      "\u001b[1m235/235\u001b[0m \u001b[32m━━━━━━━━━━━━━━━━━━━━\u001b[0m\u001b[37m\u001b[0m \u001b[1m6s\u001b[0m 27ms/step - accuracy: 0.9343 - loss: 0.2058 - val_accuracy: 0.9197 - val_loss: 0.2656\n",
      "Epoch 59/110\n",
      "\u001b[1m235/235\u001b[0m \u001b[32m━━━━━━━━━━━━━━━━━━━━\u001b[0m\u001b[37m\u001b[0m \u001b[1m6s\u001b[0m 27ms/step - accuracy: 0.9346 - loss: 0.2023 - val_accuracy: 0.9182 - val_loss: 0.2669\n",
      "Epoch 60/110\n",
      "\u001b[1m235/235\u001b[0m \u001b[32m━━━━━━━━━━━━━━━━━━━━\u001b[0m\u001b[37m\u001b[0m \u001b[1m6s\u001b[0m 27ms/step - accuracy: 0.9330 - loss: 0.2068 - val_accuracy: 0.9168 - val_loss: 0.2703\n",
      "Epoch 61/110\n",
      "\u001b[1m235/235\u001b[0m \u001b[32m━━━━━━━━━━━━━━━━━━━━\u001b[0m\u001b[37m\u001b[0m \u001b[1m6s\u001b[0m 27ms/step - accuracy: 0.9366 - loss: 0.1965 - val_accuracy: 0.9192 - val_loss: 0.2713\n",
      "Epoch 62/110\n",
      "\u001b[1m235/235\u001b[0m \u001b[32m━━━━━━━━━━━━━━━━━━━━\u001b[0m\u001b[37m\u001b[0m \u001b[1m6s\u001b[0m 27ms/step - accuracy: 0.9356 - loss: 0.2000 - val_accuracy: 0.9202 - val_loss: 0.2627\n",
      "Epoch 63/110\n",
      "\u001b[1m235/235\u001b[0m \u001b[32m━━━━━━━━━━━━━━━━━━━━\u001b[0m\u001b[37m\u001b[0m \u001b[1m6s\u001b[0m 27ms/step - accuracy: 0.9363 - loss: 0.1965 - val_accuracy: 0.9168 - val_loss: 0.2718\n",
      "Epoch 64/110\n",
      "\u001b[1m235/235\u001b[0m \u001b[32m━━━━━━━━━━━━━━━━━━━━\u001b[0m\u001b[37m\u001b[0m \u001b[1m6s\u001b[0m 27ms/step - accuracy: 0.9364 - loss: 0.1973 - val_accuracy: 0.9199 - val_loss: 0.2624\n",
      "Epoch 65/110\n",
      "\u001b[1m235/235\u001b[0m \u001b[32m━━━━━━━━━━━━━━━━━━━━\u001b[0m\u001b[37m\u001b[0m \u001b[1m7s\u001b[0m 29ms/step - accuracy: 0.9375 - loss: 0.1928 - val_accuracy: 0.9161 - val_loss: 0.2782\n",
      "Epoch 66/110\n",
      "\u001b[1m235/235\u001b[0m \u001b[32m━━━━━━━━━━━━━━━━━━━━\u001b[0m\u001b[37m\u001b[0m \u001b[1m6s\u001b[0m 27ms/step - accuracy: 0.9360 - loss: 0.1934 - val_accuracy: 0.9189 - val_loss: 0.2656\n",
      "Epoch 67/110\n",
      "\u001b[1m235/235\u001b[0m \u001b[32m━━━━━━━━━━━━━━━━━━━━\u001b[0m\u001b[37m\u001b[0m \u001b[1m6s\u001b[0m 27ms/step - accuracy: 0.9384 - loss: 0.1872 - val_accuracy: 0.9217 - val_loss: 0.2613\n",
      "Epoch 68/110\n",
      "\u001b[1m235/235\u001b[0m \u001b[32m━━━━━━━━━━━━━━━━━━━━\u001b[0m\u001b[37m\u001b[0m \u001b[1m6s\u001b[0m 27ms/step - accuracy: 0.9404 - loss: 0.1818 - val_accuracy: 0.9209 - val_loss: 0.2652\n",
      "Epoch 69/110\n",
      "\u001b[1m235/235\u001b[0m \u001b[32m━━━━━━━━━━━━━━━━━━━━\u001b[0m\u001b[37m\u001b[0m \u001b[1m6s\u001b[0m 27ms/step - accuracy: 0.9383 - loss: 0.1885 - val_accuracy: 0.9195 - val_loss: 0.2645\n",
      "Epoch 70/110\n",
      "\u001b[1m235/235\u001b[0m \u001b[32m━━━━━━━━━━━━━━━━━━━━\u001b[0m\u001b[37m\u001b[0m \u001b[1m6s\u001b[0m 27ms/step - accuracy: 0.9401 - loss: 0.1821 - val_accuracy: 0.9195 - val_loss: 0.2634\n",
      "Epoch 71/110\n",
      "\u001b[1m235/235\u001b[0m \u001b[32m━━━━━━━━━━━━━━━━━━━━\u001b[0m\u001b[37m\u001b[0m \u001b[1m6s\u001b[0m 27ms/step - accuracy: 0.9399 - loss: 0.1842 - val_accuracy: 0.9187 - val_loss: 0.2638\n",
      "Epoch 72/110\n",
      "\u001b[1m235/235\u001b[0m \u001b[32m━━━━━━━━━━━━━━━━━━━━\u001b[0m\u001b[37m\u001b[0m \u001b[1m6s\u001b[0m 27ms/step - accuracy: 0.9401 - loss: 0.1797 - val_accuracy: 0.9211 - val_loss: 0.2608\n",
      "Epoch 73/110\n",
      "\u001b[1m235/235\u001b[0m \u001b[32m━━━━━━━━━━━━━━━━━━━━\u001b[0m\u001b[37m\u001b[0m \u001b[1m6s\u001b[0m 27ms/step - accuracy: 0.9423 - loss: 0.1775 - val_accuracy: 0.9186 - val_loss: 0.2685\n",
      "Epoch 74/110\n",
      "\u001b[1m235/235\u001b[0m \u001b[32m━━━━━━━━━━━━━━━━━━━━\u001b[0m\u001b[37m\u001b[0m \u001b[1m6s\u001b[0m 27ms/step - accuracy: 0.9417 - loss: 0.1761 - val_accuracy: 0.9208 - val_loss: 0.2638\n",
      "Epoch 75/110\n",
      "\u001b[1m235/235\u001b[0m \u001b[32m━━━━━━━━━━━━━━━━━━━━\u001b[0m\u001b[37m\u001b[0m \u001b[1m6s\u001b[0m 27ms/step - accuracy: 0.9405 - loss: 0.1821 - val_accuracy: 0.9195 - val_loss: 0.2627\n",
      "Epoch 76/110\n",
      "\u001b[1m235/235\u001b[0m \u001b[32m━━━━━━━━━━━━━━━━━━━━\u001b[0m\u001b[37m\u001b[0m \u001b[1m7s\u001b[0m 28ms/step - accuracy: 0.9415 - loss: 0.1768 - val_accuracy: 0.9201 - val_loss: 0.2632\n",
      "Epoch 77/110\n",
      "\u001b[1m235/235\u001b[0m \u001b[32m━━━━━━━━━━━━━━━━━━━━\u001b[0m\u001b[37m\u001b[0m \u001b[1m6s\u001b[0m 27ms/step - accuracy: 0.9417 - loss: 0.1762 - val_accuracy: 0.9190 - val_loss: 0.2679\n",
      "Epoch 78/110\n",
      "\u001b[1m235/235\u001b[0m \u001b[32m━━━━━━━━━━━━━━━━━━━━\u001b[0m\u001b[37m\u001b[0m \u001b[1m6s\u001b[0m 27ms/step - accuracy: 0.9420 - loss: 0.1759 - val_accuracy: 0.9218 - val_loss: 0.2624\n",
      "Epoch 79/110\n",
      "\u001b[1m235/235\u001b[0m \u001b[32m━━━━━━━━━━━━━━━━━━━━\u001b[0m\u001b[37m\u001b[0m \u001b[1m6s\u001b[0m 27ms/step - accuracy: 0.9412 - loss: 0.1795 - val_accuracy: 0.9192 - val_loss: 0.2673\n",
      "Epoch 80/110\n",
      "\u001b[1m235/235\u001b[0m \u001b[32m━━━━━━━━━━━━━━━━━━━━\u001b[0m\u001b[37m\u001b[0m \u001b[1m6s\u001b[0m 27ms/step - accuracy: 0.9443 - loss: 0.1658 - val_accuracy: 0.9233 - val_loss: 0.2604\n",
      "Epoch 81/110\n",
      "\u001b[1m235/235\u001b[0m \u001b[32m━━━━━━━━━━━━━━━━━━━━\u001b[0m\u001b[37m\u001b[0m \u001b[1m6s\u001b[0m 27ms/step - accuracy: 0.9421 - loss: 0.1720 - val_accuracy: 0.9233 - val_loss: 0.2583\n",
      "Epoch 82/110\n",
      "\u001b[1m235/235\u001b[0m \u001b[32m━━━━━━━━━━━━━━━━━━━━\u001b[0m\u001b[37m\u001b[0m \u001b[1m6s\u001b[0m 27ms/step - accuracy: 0.9428 - loss: 0.1713 - val_accuracy: 0.9208 - val_loss: 0.2635\n",
      "Epoch 83/110\n",
      "\u001b[1m235/235\u001b[0m \u001b[32m━━━━━━━━━━━━━━━━━━━━\u001b[0m\u001b[37m\u001b[0m \u001b[1m6s\u001b[0m 27ms/step - accuracy: 0.9403 - loss: 0.1742 - val_accuracy: 0.9182 - val_loss: 0.2683\n",
      "Epoch 84/110\n",
      "\u001b[1m235/235\u001b[0m \u001b[32m━━━━━━━━━━━━━━━━━━━━\u001b[0m\u001b[37m\u001b[0m \u001b[1m6s\u001b[0m 27ms/step - accuracy: 0.9440 - loss: 0.1684 - val_accuracy: 0.9212 - val_loss: 0.2617\n",
      "Epoch 85/110\n",
      "\u001b[1m235/235\u001b[0m \u001b[32m━━━━━━━━━━━━━━━━━━━━\u001b[0m\u001b[37m\u001b[0m \u001b[1m6s\u001b[0m 27ms/step - accuracy: 0.9426 - loss: 0.1692 - val_accuracy: 0.9190 - val_loss: 0.2648\n",
      "Epoch 86/110\n",
      "\u001b[1m235/235\u001b[0m \u001b[32m━━━━━━━━━━━━━━━━━━━━\u001b[0m\u001b[37m\u001b[0m \u001b[1m7s\u001b[0m 28ms/step - accuracy: 0.9454 - loss: 0.1664 - val_accuracy: 0.9193 - val_loss: 0.2709\n",
      "Epoch 87/110\n",
      "\u001b[1m235/235\u001b[0m \u001b[32m━━━━━━━━━━━━━━━━━━━━\u001b[0m\u001b[37m\u001b[0m \u001b[1m6s\u001b[0m 27ms/step - accuracy: 0.9452 - loss: 0.1660 - val_accuracy: 0.9222 - val_loss: 0.2628\n",
      "Epoch 88/110\n",
      "\u001b[1m235/235\u001b[0m \u001b[32m━━━━━━━━━━━━━━━━━━━━\u001b[0m\u001b[37m\u001b[0m \u001b[1m6s\u001b[0m 27ms/step - accuracy: 0.9459 - loss: 0.1613 - val_accuracy: 0.9220 - val_loss: 0.2637\n",
      "Epoch 89/110\n",
      "\u001b[1m235/235\u001b[0m \u001b[32m━━━━━━━━━━━━━━━━━━━━\u001b[0m\u001b[37m\u001b[0m \u001b[1m6s\u001b[0m 27ms/step - accuracy: 0.9463 - loss: 0.1634 - val_accuracy: 0.9218 - val_loss: 0.2582\n",
      "Epoch 90/110\n",
      "\u001b[1m235/235\u001b[0m \u001b[32m━━━━━━━━━━━━━━━━━━━━\u001b[0m\u001b[37m\u001b[0m \u001b[1m6s\u001b[0m 27ms/step - accuracy: 0.9489 - loss: 0.1551 - val_accuracy: 0.9198 - val_loss: 0.2665\n",
      "Epoch 91/110\n",
      "\u001b[1m235/235\u001b[0m \u001b[32m━━━━━━━━━━━━━━━━━━━━\u001b[0m\u001b[37m\u001b[0m \u001b[1m6s\u001b[0m 27ms/step - accuracy: 0.9461 - loss: 0.1595 - val_accuracy: 0.9225 - val_loss: 0.2600\n",
      "Epoch 92/110\n",
      "\u001b[1m235/235\u001b[0m \u001b[32m━━━━━━━━━━━━━━━━━━━━\u001b[0m\u001b[37m\u001b[0m \u001b[1m6s\u001b[0m 27ms/step - accuracy: 0.9481 - loss: 0.1576 - val_accuracy: 0.9213 - val_loss: 0.2631\n",
      "Epoch 93/110\n",
      "\u001b[1m235/235\u001b[0m \u001b[32m━━━━━━━━━━━━━━━━━━━━\u001b[0m\u001b[37m\u001b[0m \u001b[1m6s\u001b[0m 27ms/step - accuracy: 0.9491 - loss: 0.1544 - val_accuracy: 0.9207 - val_loss: 0.2618\n",
      "Epoch 94/110\n",
      "\u001b[1m235/235\u001b[0m \u001b[32m━━━━━━━━━━━━━━━━━━━━\u001b[0m\u001b[37m\u001b[0m \u001b[1m6s\u001b[0m 27ms/step - accuracy: 0.9462 - loss: 0.1620 - val_accuracy: 0.9189 - val_loss: 0.2700\n",
      "Epoch 95/110\n",
      "\u001b[1m235/235\u001b[0m \u001b[32m━━━━━━━━━━━━━━━━━━━━\u001b[0m\u001b[37m\u001b[0m \u001b[1m6s\u001b[0m 27ms/step - accuracy: 0.9489 - loss: 0.1563 - val_accuracy: 0.9197 - val_loss: 0.2694\n",
      "Epoch 96/110\n",
      "\u001b[1m235/235\u001b[0m \u001b[32m━━━━━━━━━━━━━━━━━━━━\u001b[0m\u001b[37m\u001b[0m \u001b[1m6s\u001b[0m 27ms/step - accuracy: 0.9483 - loss: 0.1580 - val_accuracy: 0.9209 - val_loss: 0.2635\n",
      "Epoch 97/110\n",
      "\u001b[1m235/235\u001b[0m \u001b[32m━━━━━━━━━━━━━━━━━━━━\u001b[0m\u001b[37m\u001b[0m \u001b[1m7s\u001b[0m 28ms/step - accuracy: 0.9494 - loss: 0.1558 - val_accuracy: 0.9224 - val_loss: 0.2577\n",
      "Epoch 98/110\n",
      "\u001b[1m235/235\u001b[0m \u001b[32m━━━━━━━━━━━━━━━━━━━━\u001b[0m\u001b[37m\u001b[0m \u001b[1m6s\u001b[0m 27ms/step - accuracy: 0.9473 - loss: 0.1570 - val_accuracy: 0.9202 - val_loss: 0.2649\n",
      "Epoch 99/110\n",
      "\u001b[1m235/235\u001b[0m \u001b[32m━━━━━━━━━━━━━━━━━━━━\u001b[0m\u001b[37m\u001b[0m \u001b[1m6s\u001b[0m 27ms/step - accuracy: 0.9478 - loss: 0.1593 - val_accuracy: 0.9216 - val_loss: 0.2616\n",
      "Epoch 100/110\n",
      "\u001b[1m235/235\u001b[0m \u001b[32m━━━━━━━━━━━━━━━━━━━━\u001b[0m\u001b[37m\u001b[0m \u001b[1m8s\u001b[0m 32ms/step - accuracy: 0.9484 - loss: 0.1514 - val_accuracy: 0.9232 - val_loss: 0.2631\n",
      "Epoch 101/110\n",
      "\u001b[1m235/235\u001b[0m \u001b[32m━━━━━━━━━━━━━━━━━━━━\u001b[0m\u001b[37m\u001b[0m \u001b[1m7s\u001b[0m 28ms/step - accuracy: 0.9505 - loss: 0.1504 - val_accuracy: 0.9202 - val_loss: 0.2656\n",
      "Epoch 102/110\n",
      "\u001b[1m235/235\u001b[0m \u001b[32m━━━━━━━━━━━━━━━━━━━━\u001b[0m\u001b[37m\u001b[0m \u001b[1m6s\u001b[0m 27ms/step - accuracy: 0.9485 - loss: 0.1540 - val_accuracy: 0.9206 - val_loss: 0.2652\n",
      "Epoch 103/110\n",
      "\u001b[1m235/235\u001b[0m \u001b[32m━━━━━━━━━━━━━━━━━━━━\u001b[0m\u001b[37m\u001b[0m \u001b[1m6s\u001b[0m 27ms/step - accuracy: 0.9510 - loss: 0.1463 - val_accuracy: 0.9235 - val_loss: 0.2590\n",
      "Epoch 104/110\n",
      "\u001b[1m235/235\u001b[0m \u001b[32m━━━━━━━━━━━━━━━━━━━━\u001b[0m\u001b[37m\u001b[0m \u001b[1m6s\u001b[0m 27ms/step - accuracy: 0.9507 - loss: 0.1504 - val_accuracy: 0.9195 - val_loss: 0.2727\n",
      "Epoch 105/110\n",
      "\u001b[1m235/235\u001b[0m \u001b[32m━━━━━━━━━━━━━━━━━━━━\u001b[0m\u001b[37m\u001b[0m \u001b[1m6s\u001b[0m 27ms/step - accuracy: 0.9511 - loss: 0.1472 - val_accuracy: 0.9206 - val_loss: 0.2626\n",
      "Epoch 106/110\n",
      "\u001b[1m235/235\u001b[0m \u001b[32m━━━━━━━━━━━━━━━━━━━━\u001b[0m\u001b[37m\u001b[0m \u001b[1m6s\u001b[0m 27ms/step - accuracy: 0.9498 - loss: 0.1514 - val_accuracy: 0.9200 - val_loss: 0.2629\n",
      "Epoch 107/110\n",
      "\u001b[1m235/235\u001b[0m \u001b[32m━━━━━━━━━━━━━━━━━━━━\u001b[0m\u001b[37m\u001b[0m \u001b[1m7s\u001b[0m 28ms/step - accuracy: 0.9505 - loss: 0.1477 - val_accuracy: 0.9210 - val_loss: 0.2677\n",
      "Epoch 108/110\n",
      "\u001b[1m235/235\u001b[0m \u001b[32m━━━━━━━━━━━━━━━━━━━━\u001b[0m\u001b[37m\u001b[0m \u001b[1m6s\u001b[0m 27ms/step - accuracy: 0.9517 - loss: 0.1438 - val_accuracy: 0.9221 - val_loss: 0.2684\n",
      "Epoch 109/110\n",
      "\u001b[1m235/235\u001b[0m \u001b[32m━━━━━━━━━━━━━━━━━━━━\u001b[0m\u001b[37m\u001b[0m \u001b[1m6s\u001b[0m 27ms/step - accuracy: 0.9507 - loss: 0.1470 - val_accuracy: 0.9176 - val_loss: 0.2598\n",
      "Epoch 110/110\n",
      "\u001b[1m235/235\u001b[0m \u001b[32m━━━━━━━━━━━━━━━━━━━━\u001b[0m\u001b[37m\u001b[0m \u001b[1m6s\u001b[0m 27ms/step - accuracy: 0.9502 - loss: 0.1491 - val_accuracy: 0.9225 - val_loss: 0.2607\n"
     ]
    },
    {
     "data": {
      "text/plain": [
       "<keras.src.callbacks.history.History at 0x1eb65372360>"
      ]
     },
     "execution_count": 244,
     "metadata": {},
     "output_type": "execute_result"
    }
   ],
   "source": [
    "model.fit(\n",
    "  train_images,\n",
    "  to_categorical(train_labels),\n",
    "  batch_size = Batch_siza,\n",
    "  epochs=110,\n",
    "  validation_data=(test_images, to_categorical(test_labels)),\n",
    ")"
   ]
  },
  {
   "cell_type": "code",
   "execution_count": null,
   "metadata": {},
   "outputs": [],
   "source": []
  }
 ],
 "metadata": {
  "kernelspec": {
   "display_name": "Python 3.10.0 64-bit",
   "language": "python",
   "name": "python3"
  },
  "language_info": {
   "codemirror_mode": {
    "name": "ipython",
    "version": 3
   },
   "file_extension": ".py",
   "mimetype": "text/x-python",
   "name": "python",
   "nbconvert_exporter": "python",
   "pygments_lexer": "ipython3",
   "version": "3.12.0"
  },
  "orig_nbformat": 4,
  "vscode": {
   "interpreter": {
    "hash": "b38687464f26cc788bd6aab5d6ae24f3673c8f039be5f165e71e31106dd7d5ca"
   }
  }
 },
 "nbformat": 4,
 "nbformat_minor": 2
}
